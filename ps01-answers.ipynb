{
 "cells": [
  {
   "cell_type": "code",
   "execution_count": 1,
   "metadata": {
    "deletable": false
   },
   "outputs": [
    {
     "name": "stdout",
     "output_type": "stream",
     "text": [
      "=====================================================================\n",
      "Assignment: Problem Set 1. The Very Long Run View\n",
      "OK, version v1.14.20\n",
      "=====================================================================\n",
      "\n"
     ]
    }
   ],
   "source": [
    "# Initialize OK\n",
    "from client.api.notebook import Notebook\n",
    "ok = Notebook('ps01.ok')"
   ]
  },
  {
   "cell_type": "markdown",
   "metadata": {
    "deletable": false
   },
   "source": [
    "# Problem set 1. The very long run view\n",
    "\n",
    "These problem set assignments are a required part of the course.\n",
    "\n",
    "Collaborating on the problem sets is more than okay—it is encouraged! Seek help from a classmate or an instructor or a roommate or a passerby when you get stuck! (Explaining things is beneficial, too—the best way to solidify your knowledge of a subject is to explain it.) \n",
    "\n",
    "But the work has to be your own: no cutting-&-pasting from others' problem sets, please! We want you to learn this stuff, and your fingers typing every keystroke is an important way of building muscle memory here.\n",
    "\n",
    "In this problem set, you will take a look at the very long-term structure of human economic history since the invention of agriculture 8000 years ago. It is, overwhelmingly, a story of innovation, fecundity and demography, and resources.\n",
    "\n",
    "Let us get started!"
   ]
  },
  {
   "cell_type": "markdown",
   "metadata": {},
   "source": [
    "# 1. Preliminaries\n",
    "\n",
    "### A. Computing environment\n",
    "\n",
    "First, we set up the computing environment by adding the libraries we need to the bare python core: "
   ]
  },
  {
   "cell_type": "code",
   "execution_count": 2,
   "metadata": {},
   "outputs": [],
   "source": [
    "# set up the computing environment: import libraries, & ensure\n",
    "# that graphs appear inline in the notebook & not in extra\n",
    "# windows:\n",
    "\n",
    "%matplotlib inline\n",
    "import numpy as np\n",
    "import pandas as pd\n",
    "import matplotlib as mpl\n",
    "import matplotlib.pyplot as plt"
   ]
  },
  {
   "cell_type": "markdown",
   "metadata": {},
   "source": [
    "&nbsp;\n",
    "\n",
    "### B. Basic Data\n",
    "\n",
    "Next we load in and organize our basic data—or, rather, guesses—of the very long term global structure of human economic history.\n",
    "\n",
    "We will use estimates of a very few quantities:\n",
    "\n",
    "* The year at which an observation is made or an era begins, which we will call $ t $ or `year`\n",
    "* The stock of useful human ideas about technology and organization, which we will call $ H $ or `human_ideas`\n",
    "* The level of labor efficiency or productivity, which we will call $ E $ or `labor_efficiency`\n",
    "* In this notetook, $ E $ will be the same as productivity or real income per capita, which we will call $ y $ or `income_level`\n",
    "* The level of human population, which we will call $ P $ or `population`\n",
    "\n",
    "Plus:\n",
    "\n",
    "* The initial year at which each of the eras we divide history into begins, which we will call $ t_{era} $ or `initial_year`\n",
    "* The span of time each era covers, which we will call `span`\n",
    "* The proportional growth rates over each era $ n $, $ g $, and $ h $ of human population $ P $; of productivity, labor efficiency, and average income $ E $ and $ y $; and of the ideas stock $ H $.\n",
    "\n",
    "Run through the process of assembling our estimates and looking at them, executing the code cells, and filling in the gaps where I have left some. And then I will meet you below, and then summarize what I see in the numbers."
   ]
  },
  {
   "cell_type": "code",
   "execution_count": 3,
   "metadata": {},
   "outputs": [],
   "source": [
    "# here in this code cell are the \"data\" (actually, more like  \n",
    "# guesses) of the verylong-run structure of human economic \n",
    "# history. \n",
    "#\n",
    "# in this code cell we set out our numbers, feed them into a \n",
    "# python data-storage structure called a 'dataframe', make \n",
    "# sure that the dataframe knows that the year is an integer\n",
    "# & not a floating-point real number (that is what the\n",
    "# \n",
    "#     .apply(np.int64)\n",
    "#\n",
    "# means), & set up an extra variable `initial_year`, to remind \n",
    "# us of the starting points of all of the periods into which \n",
    "# we divide very long-run human economic history.\n",
    "#\n",
    "# we feed our estimates to python in a form it easily understands:\n",
    "# that of a list of lists, where each sublist corresponds to our\n",
    "# estimate of the state of the human economy at a year in the past,\n",
    "# from 70000 years ago—the year -68000—to today:\n",
    "\n",
    "long_run_growth_list = [\n",
    "    [-68000, 379.47, 1200, 0.1],\n",
    "    [-8000, 1897.37, 1200, 2.5],\n",
    "    [-6000, 2381.18, 900, 7],\n",
    "    [-3000, 3485.68, 900, 15],\n",
    "    [-1000, 6363.96, 900, 50],\n",
    "    [1, 11734.56, 900, 170],\n",
    "    [1500, 20124.61, 900, 500],\n",
    "    [1770, 30124.74, 1100, 750],\n",
    "    [1870, 46872.17, 1300, 1300],\n",
    "    [2020, 1032370.8, 11842, 7600]\n",
    "    ]\n",
    "\n",
    "long_run_growth_df = pd.DataFrame(\n",
    "  data=np.array(long_run_growth_list), columns = ['year', \n",
    "  'human_ideas_index', 'income_level', 'population']\n",
    "  )\n",
    "\n",
    "long_run_growth_df['year'] = long_run_growth_df['year'].apply(np.int64)\n",
    "\n",
    "initial_year = long_run_growth_df['year']"
   ]
  },
  {
   "cell_type": "code",
   "execution_count": 4,
   "metadata": {},
   "outputs": [
    {
     "data": {
      "text/plain": [
       "0   -68000\n",
       "1    -8000\n",
       "2    -6000\n",
       "3    -3000\n",
       "4    -1000\n",
       "5        1\n",
       "6     1500\n",
       "7     1770\n",
       "8     1870\n",
       "9     2020\n",
       "Name: year, dtype: int64"
      ]
     },
     "execution_count": 4,
     "metadata": {},
     "output_type": "execute_result"
    }
   ],
   "source": [
    "# check to make sure the \"year\" variable is in fact made up of\n",
    "# integers; if it were real numbers, that would cause trouble\n",
    "# later on...\n",
    "long_run_growth_df['year']"
   ]
  },
  {
   "cell_type": "markdown",
   "metadata": {},
   "source": [
    "Note that the computer printed out not just the values of the list for each value of the list index, but at the end printed out the name of the list and the data type of the values of the list.\n",
    "\n",
    "Now replace the ellipses \"...\" in  the code cell below with instructions that, when executed, will show you the values of one of the other variables in our dataframe. Then execute it:"
   ]
  },
  {
   "cell_type": "code",
   "execution_count": 5,
   "metadata": {},
   "outputs": [
    {
     "data": {
      "text/plain": [
       "0     1200.0\n",
       "1     1200.0\n",
       "2      900.0\n",
       "3      900.0\n",
       "4      900.0\n",
       "5      900.0\n",
       "6      900.0\n",
       "7     1100.0\n",
       "8     1300.0\n",
       "9    11842.0\n",
       "Name: income_level, dtype: float64"
      ]
     },
     "execution_count": 5,
     "metadata": {},
     "output_type": "execute_result"
    }
   ],
   "source": [
    "# in this code cell we look at another variable—not\n",
    "# the year this time—that is contained in our dataframe\n",
    "# to check to make sure that nothing has gone wrong. yet.\n",
    "# in general, it is good practice never to write a code cell\n",
    "# without immediately testing to make sure that that code\n",
    "# cell changed the computer's state the way you wanted it\n",
    "# to change it. Suppose you get the computer to display\n",
    "# the variable \"income_level\" that is in the long_run_growth_df\n",
    "# dataframe:\n",
    "\n",
    "long_run_growth_df['income_level']"
   ]
  },
  {
   "cell_type": "markdown",
   "metadata": {},
   "source": [
    "Did everything go right? How is \"income_level\" different from how \"year\" was above?"
   ]
  },
  {
   "cell_type": "code",
   "execution_count": 6,
   "metadata": {},
   "outputs": [],
   "source": [
    "# in this code cell we calculate era lengths—spans—&\n",
    "# era-specific average growth rates for our variables:\n",
    "# the real income per capita growth rate g, the human\n",
    "# population growth rate n, & the growth rate h of the \n",
    "# value of useful human ideas about technology and \n",
    "# organization.\n",
    "# \n",
    "# we use a loop processing structure to perform this,\n",
    "# looking through the different eras into which we have\n",
    "# divided human history one-by-one:\n",
    "\n",
    "span = []\n",
    "g = []\n",
    "h = []\n",
    "n = []\n",
    "\n",
    "for t in range(9):\n",
    "    span = span + [long_run_growth_df['year'][t+1]-long_run_growth_df['year'][t]]\n",
    "    h = h + [np.log(long_run_growth_df['human_ideas_index'][t+1]/long_run_growth_df['human_ideas_index'][t])/span[t]]\n",
    "    g = g + [np.log(long_run_growth_df['income_level'][t+1]/long_run_growth_df['income_level'][t])/span[t]]\n",
    "    n = n + [np.log(long_run_growth_df['population'][t+1]/long_run_growth_df['population'][t])/span[t]]\n",
    "    "
   ]
  },
  {
   "cell_type": "code",
   "execution_count": 7,
   "metadata": {},
   "outputs": [],
   "source": [
    "# we can stuff these growth rates into their own dataframe. I have\n",
    "# left you with one step to do, by analogy with the dataframe\n",
    "# construction above:\n",
    "\n",
    "data_list = np.array([span, h, g, n]).transpose()\n",
    "\n",
    "long_run_growth_rates_df = pd.DataFrame(\n",
    "    data=data_list, columns = ['span', 'h', 'g', 'n'])\n",
    "\n",
    "long_run_growth_rates_df['initial_year'] = initial_year\n",
    "long_run_growth_rates_df.set_index('initial_year', inplace=True)"
   ]
  },
  {
   "cell_type": "code",
   "execution_count": 8,
   "metadata": {},
   "outputs": [
    {
     "data": {
      "text/html": [
       "<div>\n",
       "<style scoped>\n",
       "    .dataframe tbody tr th:only-of-type {\n",
       "        vertical-align: middle;\n",
       "    }\n",
       "\n",
       "    .dataframe tbody tr th {\n",
       "        vertical-align: top;\n",
       "    }\n",
       "\n",
       "    .dataframe thead th {\n",
       "        text-align: right;\n",
       "    }\n",
       "</style>\n",
       "<table border=\"1\" class=\"dataframe\">\n",
       "  <thead>\n",
       "    <tr style=\"text-align: right;\">\n",
       "      <th></th>\n",
       "      <th>span</th>\n",
       "      <th>h</th>\n",
       "      <th>g</th>\n",
       "      <th>n</th>\n",
       "    </tr>\n",
       "    <tr>\n",
       "      <th>initial_year</th>\n",
       "      <th></th>\n",
       "      <th></th>\n",
       "      <th></th>\n",
       "      <th></th>\n",
       "    </tr>\n",
       "  </thead>\n",
       "  <tbody>\n",
       "    <tr>\n",
       "      <th>-68000</th>\n",
       "      <td>60000.0</td>\n",
       "      <td>0.000027</td>\n",
       "      <td>0.000000</td>\n",
       "      <td>0.000054</td>\n",
       "    </tr>\n",
       "    <tr>\n",
       "      <th>-8000</th>\n",
       "      <td>2000.0</td>\n",
       "      <td>0.000114</td>\n",
       "      <td>-0.000144</td>\n",
       "      <td>0.000515</td>\n",
       "    </tr>\n",
       "    <tr>\n",
       "      <th>-6000</th>\n",
       "      <td>3000.0</td>\n",
       "      <td>0.000127</td>\n",
       "      <td>0.000000</td>\n",
       "      <td>0.000254</td>\n",
       "    </tr>\n",
       "    <tr>\n",
       "      <th>-3000</th>\n",
       "      <td>2000.0</td>\n",
       "      <td>0.000301</td>\n",
       "      <td>0.000000</td>\n",
       "      <td>0.000602</td>\n",
       "    </tr>\n",
       "    <tr>\n",
       "      <th>-1000</th>\n",
       "      <td>1001.0</td>\n",
       "      <td>0.000611</td>\n",
       "      <td>0.000000</td>\n",
       "      <td>0.001223</td>\n",
       "    </tr>\n",
       "    <tr>\n",
       "      <th>1</th>\n",
       "      <td>1499.0</td>\n",
       "      <td>0.000360</td>\n",
       "      <td>0.000000</td>\n",
       "      <td>0.000720</td>\n",
       "    </tr>\n",
       "    <tr>\n",
       "      <th>1500</th>\n",
       "      <td>270.0</td>\n",
       "      <td>0.001494</td>\n",
       "      <td>0.000743</td>\n",
       "      <td>0.001502</td>\n",
       "    </tr>\n",
       "    <tr>\n",
       "      <th>1770</th>\n",
       "      <td>100.0</td>\n",
       "      <td>0.004421</td>\n",
       "      <td>0.001671</td>\n",
       "      <td>0.005500</td>\n",
       "    </tr>\n",
       "    <tr>\n",
       "      <th>1870</th>\n",
       "      <td>150.0</td>\n",
       "      <td>0.020615</td>\n",
       "      <td>0.014729</td>\n",
       "      <td>0.011772</td>\n",
       "    </tr>\n",
       "  </tbody>\n",
       "</table>\n",
       "</div>"
      ],
      "text/plain": [
       "                 span         h         g         n\n",
       "initial_year                                       \n",
       "-68000        60000.0  0.000027  0.000000  0.000054\n",
       "-8000          2000.0  0.000114 -0.000144  0.000515\n",
       "-6000          3000.0  0.000127  0.000000  0.000254\n",
       "-3000          2000.0  0.000301  0.000000  0.000602\n",
       "-1000          1001.0  0.000611  0.000000  0.001223\n",
       " 1             1499.0  0.000360  0.000000  0.000720\n",
       " 1500           270.0  0.001494  0.000743  0.001502\n",
       " 1770           100.0  0.004421  0.001671  0.005500\n",
       " 1870           150.0  0.020615  0.014729  0.011772"
      ]
     },
     "execution_count": 8,
     "metadata": {},
     "output_type": "execute_result"
    }
   ],
   "source": [
    "# now check to see that the long_run_growth_rates_df\n",
    "# is in fact what you expected and wanted it to be:\n",
    "\n",
    "long_run_growth_rates_df"
   ]
  },
  {
   "cell_type": "code",
   "execution_count": 9,
   "metadata": {},
   "outputs": [],
   "source": [
    "# finally, in this code cell we tell our dataframe object\n",
    "# long_run_growth_df that the data are naturally indexed\n",
    "# by the year, and we are done with data construction:\n",
    "\n",
    "long_run_growth_df.set_index('year', inplace=True)"
   ]
  },
  {
   "cell_type": "code",
   "execution_count": 10,
   "metadata": {},
   "outputs": [
    {
     "data": {
      "text/html": [
       "<div>\n",
       "<style scoped>\n",
       "    .dataframe tbody tr th:only-of-type {\n",
       "        vertical-align: middle;\n",
       "    }\n",
       "\n",
       "    .dataframe tbody tr th {\n",
       "        vertical-align: top;\n",
       "    }\n",
       "\n",
       "    .dataframe thead th {\n",
       "        text-align: right;\n",
       "    }\n",
       "</style>\n",
       "<table border=\"1\" class=\"dataframe\">\n",
       "  <thead>\n",
       "    <tr style=\"text-align: right;\">\n",
       "      <th></th>\n",
       "      <th>human_ideas_index</th>\n",
       "      <th>income_level</th>\n",
       "      <th>population</th>\n",
       "    </tr>\n",
       "    <tr>\n",
       "      <th>year</th>\n",
       "      <th></th>\n",
       "      <th></th>\n",
       "      <th></th>\n",
       "    </tr>\n",
       "  </thead>\n",
       "  <tbody>\n",
       "    <tr>\n",
       "      <th>-68000</th>\n",
       "      <td>379.47</td>\n",
       "      <td>1200.0</td>\n",
       "      <td>0.1</td>\n",
       "    </tr>\n",
       "    <tr>\n",
       "      <th>-8000</th>\n",
       "      <td>1897.37</td>\n",
       "      <td>1200.0</td>\n",
       "      <td>2.5</td>\n",
       "    </tr>\n",
       "    <tr>\n",
       "      <th>-6000</th>\n",
       "      <td>2381.18</td>\n",
       "      <td>900.0</td>\n",
       "      <td>7.0</td>\n",
       "    </tr>\n",
       "    <tr>\n",
       "      <th>-3000</th>\n",
       "      <td>3485.68</td>\n",
       "      <td>900.0</td>\n",
       "      <td>15.0</td>\n",
       "    </tr>\n",
       "    <tr>\n",
       "      <th>-1000</th>\n",
       "      <td>6363.96</td>\n",
       "      <td>900.0</td>\n",
       "      <td>50.0</td>\n",
       "    </tr>\n",
       "    <tr>\n",
       "      <th>1</th>\n",
       "      <td>11734.56</td>\n",
       "      <td>900.0</td>\n",
       "      <td>170.0</td>\n",
       "    </tr>\n",
       "    <tr>\n",
       "      <th>1500</th>\n",
       "      <td>20124.61</td>\n",
       "      <td>900.0</td>\n",
       "      <td>500.0</td>\n",
       "    </tr>\n",
       "    <tr>\n",
       "      <th>1770</th>\n",
       "      <td>30124.74</td>\n",
       "      <td>1100.0</td>\n",
       "      <td>750.0</td>\n",
       "    </tr>\n",
       "    <tr>\n",
       "      <th>1870</th>\n",
       "      <td>46872.17</td>\n",
       "      <td>1300.0</td>\n",
       "      <td>1300.0</td>\n",
       "    </tr>\n",
       "    <tr>\n",
       "      <th>2020</th>\n",
       "      <td>1032370.80</td>\n",
       "      <td>11842.0</td>\n",
       "      <td>7600.0</td>\n",
       "    </tr>\n",
       "  </tbody>\n",
       "</table>\n",
       "</div>"
      ],
      "text/plain": [
       "        human_ideas_index  income_level  population\n",
       "year                                               \n",
       "-68000             379.47        1200.0         0.1\n",
       "-8000             1897.37        1200.0         2.5\n",
       "-6000             2381.18         900.0         7.0\n",
       "-3000             3485.68         900.0        15.0\n",
       "-1000             6363.96         900.0        50.0\n",
       " 1               11734.56         900.0       170.0\n",
       " 1500            20124.61         900.0       500.0\n",
       " 1770            30124.74        1100.0       750.0\n",
       " 1870            46872.17        1300.0      1300.0\n",
       " 2020          1032370.80       11842.0      7600.0"
      ]
     },
     "execution_count": 10,
     "metadata": {},
     "output_type": "execute_result"
    }
   ],
   "source": [
    "# look at our dataframe again. how has this index \n",
    "# replacement command changed it?\n",
    "\n",
    "long_run_growth_df"
   ]
  },
  {
   "cell_type": "markdown",
   "metadata": {},
   "source": [
    "&nbsp;\n",
    "\n",
    "# 2. The most eagle's eye view\n",
    "\n",
    "### A. Looking at our data"
   ]
  },
  {
   "cell_type": "code",
   "execution_count": 11,
   "metadata": {},
   "outputs": [
    {
     "data": {
      "text/plain": [
       "Text(0, 0.5, 'Annual Income per Capita, 2020 Dollars')"
      ]
     },
     "execution_count": 11,
     "metadata": {},
     "output_type": "execute_result"
    },
    {
     "data": {
      "image/png": "[encoded data removed]",
      "text/plain": [
       "<Figure size 432x288 with 1 Axes>"
      ]
     },
     "metadata": {
      "needs_background": "light"
     },
     "output_type": "display_data"
    }
   ],
   "source": [
    "# now we examine our estimates, looking at some pictures.\n",
    "#\n",
    "# first, how wealthy—in annual income-per-capita terms—\n",
    "# has the average human been over the past 70,000 years? \n",
    "# \n",
    "# this code cell shows us:\n",
    "\n",
    "long_run_growth_df['income_level'].plot()\n",
    "plt.title('Human Economic History: Wealth per Capita', size=20)\n",
    "plt.xlabel('Year')\n",
    "plt.ylabel('Annual Income per Capita, 2020 Dollars')"
   ]
  },
  {
   "cell_type": "code",
   "execution_count": 12,
   "metadata": {},
   "outputs": [
    {
     "data": {
      "text/plain": [
       "Text(0, 0.5, 'Millions')"
      ]
     },
     "execution_count": 12,
     "metadata": {},
     "output_type": "execute_result"
    },
    {
     "data": {
      "image/png": "[encoded data removed]",
      "text/plain": [
       "<Figure size 432x288 with 1 Axes>"
      ]
     },
     "metadata": {
      "needs_background": "light"
     },
     "output_type": "display_data"
    }
   ],
   "source": [
    "# how numerous has the human race been over the past \n",
    "# 70,000 years? \n",
    "\n",
    "# write code in this cell to show us. be sure to give\n",
    "# your graph a title, and x-axis and y-axis labels,\n",
    "# so that your readers—especially you in the future—\n",
    "# can quickly understand what the graph is a graph of:\n",
    "\n",
    "long_run_growth_df['population'].plot()\n",
    "plt.title('Human Economic History: Population', size=20)\n",
    "plt.xlabel('Year')\n",
    "plt.ylabel('Millions')\n",
    "                   "
   ]
  },
  {
   "cell_type": "code",
   "execution_count": 27,
   "metadata": {},
   "outputs": [
    {
     "data": {
      "text/plain": [
       "Text(0, 0.5, 'Index of Useful Ideas Stock')"
      ]
     },
     "execution_count": 27,
     "metadata": {},
     "output_type": "execute_result"
    },
    {
     "data": {
      "image/png": "[encoded data removed]",
      "text/plain": [
       "<Figure size 432x288 with 1 Axes>"
      ]
     },
     "metadata": {
      "needs_background": "light"
     },
     "output_type": "display_data"
    }
   ],
   "source": [
    "# and how much knowledge has humanity, considered as\n",
    "# an anthology intelligence, commanded? what has been\n",
    "# the value of an index of the worth of humanity's\n",
    "# technological & organizational knowledge—our ability\n",
    "# to manipulate nature and to organize ourselves in\n",
    "# order to accomplish our purposes to live well?\n",
    "# \n",
    "# how does the \"human_ideas_index\" variable look over time?:\n",
    "\n",
    "long_run_growth_df['human_ideas_index'].plot()\n",
    "plt.title('Human Economic History: Ideas Index', size=20)\n",
    "plt.xlabel('Year')\n",
    "plt.ylabel('Index of Useful Ideas Stock')"
   ]
  },
  {
   "cell_type": "markdown",
   "metadata": {},
   "source": [
    "Freaky, no?\n",
    "\n",
    "This is why U.C. Davis economic historian Greg Clark says that there is really only one graph that is important in economic history.\n",
    "\n",
    "After the spring of coronavirus, we are used to exponential growth processes—things that explode, but only after a time in which they gather force, and which look like straight line growth on a graph plotted on a logarithmic scale. Let us plot income levels, populations, and ideas stock values on log scales and see what we see:"
   ]
  },
  {
   "cell_type": "code",
   "execution_count": 14,
   "metadata": {},
   "outputs": [
    {
     "data": {
      "text/plain": [
       "Text(0, 0.5, 'Log Annual Income per Capita, 2020 Dollars')"
      ]
     },
     "execution_count": 14,
     "metadata": {},
     "output_type": "execute_result"
    },
    {
     "data": {
      "image/png": "[encoded data removed]",
      "text/plain": [
       "<Figure size 432x288 with 1 Axes>"
      ]
     },
     "metadata": {
      "needs_background": "light"
     },
     "output_type": "display_data"
    }
   ],
   "source": [
    "# let us look, era-by-era, at how wealthy humanity is, \n",
    "# measured by annual income per capita—but using a\n",
    "# logarithmic scale:\n",
    "\n",
    "np.log(long_run_growth_df['income_level']).plot()\n",
    "plt.title('Human Economic History: Wealth', size=20)\n",
    "plt.xlabel('Year')\n",
    "plt.ylabel('Log Annual Income per Capita, 2020 Dollars')"
   ]
  },
  {
   "cell_type": "code",
   "execution_count": 15,
   "metadata": {},
   "outputs": [
    {
     "data": {
      "text/plain": [
       "Text(0, 0.5, 'Log Millions')"
      ]
     },
     "execution_count": 15,
     "metadata": {},
     "output_type": "execute_result"
    },
    {
     "data": {
      "image/png": "[encoded data removed]",
      "text/plain": [
       "<Figure size 432x288 with 1 Axes>"
      ]
     },
     "metadata": {
      "needs_background": "light"
     },
     "output_type": "display_data"
    }
   ],
   "source": [
    "# let us look at the annual growth rate of the human\n",
    "# population—again using a logarithmic scale.\n",
    "#\n",
    "# again, be sure to provide labels!:\n",
    "\n",
    "np.log(long_run_growth_df['population']).plot()\n",
    "plt.title('Human Economic History: Population', size=20)\n",
    "plt.xlabel('Year')\n",
    "plt.ylabel('Log Millions')          "
   ]
  },
  {
   "cell_type": "code",
   "execution_count": 16,
   "metadata": {},
   "outputs": [
    {
     "data": {
      "text/plain": [
       "Text(0, 0.5, 'Log Index of Useful Ideas Stock')"
      ]
     },
     "execution_count": 16,
     "metadata": {},
     "output_type": "execute_result"
    },
    {
     "data": {
      "image/png": "[encoded data removed]",
      "text/plain": [
       "<Figure size 432x288 with 1 Axes>"
      ]
     },
     "metadata": {
      "needs_background": "light"
     },
     "output_type": "display_data"
    }
   ],
   "source": [
    "# let us look at the annual growth rate of our value\n",
    "# of useful ideas index—again using a logarithmic scale:\n",
    "\n",
    "np.log(long_run_growth_df['human_ideas_index']).plot()\n",
    "plt.title('Human Economic History: Ideas Index', size=20)\n",
    "plt.xlabel('Year')\n",
    "plt.ylabel('Log Index of Useful Ideas Stock')"
   ]
  },
  {
   "cell_type": "markdown",
   "metadata": {},
   "source": [
    "### B. Making things prettier"
   ]
  },
  {
   "cell_type": "code",
   "execution_count": 17,
   "metadata": {},
   "outputs": [
    {
     "data": {
      "text/html": [
       "<div>\n",
       "<style scoped>\n",
       "    .dataframe tbody tr th:only-of-type {\n",
       "        vertical-align: middle;\n",
       "    }\n",
       "\n",
       "    .dataframe tbody tr th {\n",
       "        vertical-align: top;\n",
       "    }\n",
       "\n",
       "    .dataframe thead th {\n",
       "        text-align: right;\n",
       "    }\n",
       "</style>\n",
       "<table border=\"1\" class=\"dataframe\">\n",
       "  <thead>\n",
       "    <tr style=\"text-align: right;\">\n",
       "      <th></th>\n",
       "      <th>human_ideas_index</th>\n",
       "      <th>income_level</th>\n",
       "      <th>population</th>\n",
       "    </tr>\n",
       "    <tr>\n",
       "      <th>year</th>\n",
       "      <th></th>\n",
       "      <th></th>\n",
       "      <th></th>\n",
       "    </tr>\n",
       "  </thead>\n",
       "  <tbody>\n",
       "    <tr>\n",
       "      <th>-68000</th>\n",
       "      <td>379.47</td>\n",
       "      <td>1200.0</td>\n",
       "      <td>0.1</td>\n",
       "    </tr>\n",
       "    <tr>\n",
       "      <th>-8000</th>\n",
       "      <td>1897.37</td>\n",
       "      <td>1200.0</td>\n",
       "      <td>2.5</td>\n",
       "    </tr>\n",
       "    <tr>\n",
       "      <th>-6000</th>\n",
       "      <td>2381.18</td>\n",
       "      <td>900.0</td>\n",
       "      <td>7.0</td>\n",
       "    </tr>\n",
       "    <tr>\n",
       "      <th>-3000</th>\n",
       "      <td>3485.68</td>\n",
       "      <td>900.0</td>\n",
       "      <td>15.0</td>\n",
       "    </tr>\n",
       "    <tr>\n",
       "      <th>-1000</th>\n",
       "      <td>6363.96</td>\n",
       "      <td>900.0</td>\n",
       "      <td>50.0</td>\n",
       "    </tr>\n",
       "    <tr>\n",
       "      <th>1</th>\n",
       "      <td>11734.56</td>\n",
       "      <td>900.0</td>\n",
       "      <td>170.0</td>\n",
       "    </tr>\n",
       "    <tr>\n",
       "      <th>1500</th>\n",
       "      <td>20124.61</td>\n",
       "      <td>900.0</td>\n",
       "      <td>500.0</td>\n",
       "    </tr>\n",
       "    <tr>\n",
       "      <th>1770</th>\n",
       "      <td>30124.74</td>\n",
       "      <td>1100.0</td>\n",
       "      <td>750.0</td>\n",
       "    </tr>\n",
       "    <tr>\n",
       "      <th>1870</th>\n",
       "      <td>46872.17</td>\n",
       "      <td>1300.0</td>\n",
       "      <td>1300.0</td>\n",
       "    </tr>\n",
       "    <tr>\n",
       "      <th>2020</th>\n",
       "      <td>1032370.80</td>\n",
       "      <td>11842.0</td>\n",
       "      <td>7600.0</td>\n",
       "    </tr>\n",
       "  </tbody>\n",
       "</table>\n",
       "</div>"
      ],
      "text/plain": [
       "        human_ideas_index  income_level  population\n",
       "year                                               \n",
       "-68000             379.47        1200.0         0.1\n",
       "-8000             1897.37        1200.0         2.5\n",
       "-6000             2381.18         900.0         7.0\n",
       "-3000             3485.68         900.0        15.0\n",
       "-1000             6363.96         900.0        50.0\n",
       " 1               11734.56         900.0       170.0\n",
       " 1500            20124.61         900.0       500.0\n",
       " 1770            30124.74        1100.0       750.0\n",
       " 1870            46872.17        1300.0      1300.0\n",
       " 2020          1032370.80       11842.0      7600.0"
      ]
     },
     "execution_count": 17,
     "metadata": {},
     "output_type": "execute_result"
    }
   ],
   "source": [
    "# we have seen that we can simply print a dataframe by\n",
    "# putting its name by itself on the last line of a code \n",
    "# cell, but the printing is not very pretty:\n",
    "\n",
    "long_run_growth_df"
   ]
  },
  {
   "cell_type": "code",
   "execution_count": 18,
   "metadata": {},
   "outputs": [
    {
     "data": {
      "text/html": [
       "<style  type=\"text/css\" >\n",
       "</style><table id=\"T_1f1b1392_dcc0_11ea_a134_acde48001122\" ><thead>    <tr>        <th class=\"blank level0\" ></th>        <th class=\"col_heading level0 col0\" >human_ideas_index</th>        <th class=\"col_heading level0 col1\" >income_level</th>        <th class=\"col_heading level0 col2\" >population</th>    </tr>    <tr>        <th class=\"index_name level0\" >year</th>        <th class=\"blank\" ></th>        <th class=\"blank\" ></th>        <th class=\"blank\" ></th>    </tr></thead><tbody>\n",
       "                <tr>\n",
       "                        <th id=\"T_1f1b1392_dcc0_11ea_a134_acde48001122level0_row0\" class=\"row_heading level0 row0\" >-68000</th>\n",
       "                        <td id=\"T_1f1b1392_dcc0_11ea_a134_acde48001122row0_col0\" class=\"data row0 col0\" >379</td>\n",
       "                        <td id=\"T_1f1b1392_dcc0_11ea_a134_acde48001122row0_col1\" class=\"data row0 col1\" >$1,200</td>\n",
       "                        <td id=\"T_1f1b1392_dcc0_11ea_a134_acde48001122row0_col2\" class=\"data row0 col2\" >0.1</td>\n",
       "            </tr>\n",
       "            <tr>\n",
       "                        <th id=\"T_1f1b1392_dcc0_11ea_a134_acde48001122level0_row1\" class=\"row_heading level0 row1\" >-8000</th>\n",
       "                        <td id=\"T_1f1b1392_dcc0_11ea_a134_acde48001122row1_col0\" class=\"data row1 col0\" >1,897</td>\n",
       "                        <td id=\"T_1f1b1392_dcc0_11ea_a134_acde48001122row1_col1\" class=\"data row1 col1\" >$1,200</td>\n",
       "                        <td id=\"T_1f1b1392_dcc0_11ea_a134_acde48001122row1_col2\" class=\"data row1 col2\" >2.5</td>\n",
       "            </tr>\n",
       "            <tr>\n",
       "                        <th id=\"T_1f1b1392_dcc0_11ea_a134_acde48001122level0_row2\" class=\"row_heading level0 row2\" >-6000</th>\n",
       "                        <td id=\"T_1f1b1392_dcc0_11ea_a134_acde48001122row2_col0\" class=\"data row2 col0\" >2,381</td>\n",
       "                        <td id=\"T_1f1b1392_dcc0_11ea_a134_acde48001122row2_col1\" class=\"data row2 col1\" >$900</td>\n",
       "                        <td id=\"T_1f1b1392_dcc0_11ea_a134_acde48001122row2_col2\" class=\"data row2 col2\" >7.0</td>\n",
       "            </tr>\n",
       "            <tr>\n",
       "                        <th id=\"T_1f1b1392_dcc0_11ea_a134_acde48001122level0_row3\" class=\"row_heading level0 row3\" >-3000</th>\n",
       "                        <td id=\"T_1f1b1392_dcc0_11ea_a134_acde48001122row3_col0\" class=\"data row3 col0\" >3,486</td>\n",
       "                        <td id=\"T_1f1b1392_dcc0_11ea_a134_acde48001122row3_col1\" class=\"data row3 col1\" >$900</td>\n",
       "                        <td id=\"T_1f1b1392_dcc0_11ea_a134_acde48001122row3_col2\" class=\"data row3 col2\" >15.0</td>\n",
       "            </tr>\n",
       "            <tr>\n",
       "                        <th id=\"T_1f1b1392_dcc0_11ea_a134_acde48001122level0_row4\" class=\"row_heading level0 row4\" >-1000</th>\n",
       "                        <td id=\"T_1f1b1392_dcc0_11ea_a134_acde48001122row4_col0\" class=\"data row4 col0\" >6,364</td>\n",
       "                        <td id=\"T_1f1b1392_dcc0_11ea_a134_acde48001122row4_col1\" class=\"data row4 col1\" >$900</td>\n",
       "                        <td id=\"T_1f1b1392_dcc0_11ea_a134_acde48001122row4_col2\" class=\"data row4 col2\" >50.0</td>\n",
       "            </tr>\n",
       "            <tr>\n",
       "                        <th id=\"T_1f1b1392_dcc0_11ea_a134_acde48001122level0_row5\" class=\"row_heading level0 row5\" >1</th>\n",
       "                        <td id=\"T_1f1b1392_dcc0_11ea_a134_acde48001122row5_col0\" class=\"data row5 col0\" >11,735</td>\n",
       "                        <td id=\"T_1f1b1392_dcc0_11ea_a134_acde48001122row5_col1\" class=\"data row5 col1\" >$900</td>\n",
       "                        <td id=\"T_1f1b1392_dcc0_11ea_a134_acde48001122row5_col2\" class=\"data row5 col2\" >170.0</td>\n",
       "            </tr>\n",
       "            <tr>\n",
       "                        <th id=\"T_1f1b1392_dcc0_11ea_a134_acde48001122level0_row6\" class=\"row_heading level0 row6\" >1500</th>\n",
       "                        <td id=\"T_1f1b1392_dcc0_11ea_a134_acde48001122row6_col0\" class=\"data row6 col0\" >20,125</td>\n",
       "                        <td id=\"T_1f1b1392_dcc0_11ea_a134_acde48001122row6_col1\" class=\"data row6 col1\" >$900</td>\n",
       "                        <td id=\"T_1f1b1392_dcc0_11ea_a134_acde48001122row6_col2\" class=\"data row6 col2\" >500.0</td>\n",
       "            </tr>\n",
       "            <tr>\n",
       "                        <th id=\"T_1f1b1392_dcc0_11ea_a134_acde48001122level0_row7\" class=\"row_heading level0 row7\" >1770</th>\n",
       "                        <td id=\"T_1f1b1392_dcc0_11ea_a134_acde48001122row7_col0\" class=\"data row7 col0\" >30,125</td>\n",
       "                        <td id=\"T_1f1b1392_dcc0_11ea_a134_acde48001122row7_col1\" class=\"data row7 col1\" >$1,100</td>\n",
       "                        <td id=\"T_1f1b1392_dcc0_11ea_a134_acde48001122row7_col2\" class=\"data row7 col2\" >750.0</td>\n",
       "            </tr>\n",
       "            <tr>\n",
       "                        <th id=\"T_1f1b1392_dcc0_11ea_a134_acde48001122level0_row8\" class=\"row_heading level0 row8\" >1870</th>\n",
       "                        <td id=\"T_1f1b1392_dcc0_11ea_a134_acde48001122row8_col0\" class=\"data row8 col0\" >46,872</td>\n",
       "                        <td id=\"T_1f1b1392_dcc0_11ea_a134_acde48001122row8_col1\" class=\"data row8 col1\" >$1,300</td>\n",
       "                        <td id=\"T_1f1b1392_dcc0_11ea_a134_acde48001122row8_col2\" class=\"data row8 col2\" >1,300.0</td>\n",
       "            </tr>\n",
       "            <tr>\n",
       "                        <th id=\"T_1f1b1392_dcc0_11ea_a134_acde48001122level0_row9\" class=\"row_heading level0 row9\" >2020</th>\n",
       "                        <td id=\"T_1f1b1392_dcc0_11ea_a134_acde48001122row9_col0\" class=\"data row9 col0\" >1,032,371</td>\n",
       "                        <td id=\"T_1f1b1392_dcc0_11ea_a134_acde48001122row9_col1\" class=\"data row9 col1\" >$11,842</td>\n",
       "                        <td id=\"T_1f1b1392_dcc0_11ea_a134_acde48001122row9_col2\" class=\"data row9 col2\" >7,600.0</td>\n",
       "            </tr>\n",
       "    </tbody></table>"
      ],
      "text/plain": [
       "<pandas.io.formats.style.Styler at 0x7fb1eb0c7390>"
      ]
     },
     "execution_count": 18,
     "metadata": {},
     "output_type": "execute_result"
    }
   ],
   "source": [
    "# we can make the printing prettier by defining a format dictionary\n",
    "#\n",
    "# to do so, we construct an object called `format_dict` (or \n",
    "# whatever other name we choose), and we then feed that object\n",
    "# to the dataframe. thus we tell the dataframe that we want it \n",
    "# to evaluate itself using its `.style` method, and that `style()`\n",
    "# should use its `.format()` submethod to understand what the \n",
    "# `format_dict` object is asking it to do:\n",
    "\n",
    "format_dict = {'year': '{d}', 'human_ideas_index': '{0:,.0f}', \n",
    "    'income_level': '${0:,.0f}', 'population': '{0:,.1f}'}\n",
    "\n",
    "long_run_growth_df.style.format(format_dict)"
   ]
  },
  {
   "cell_type": "code",
   "execution_count": 19,
   "metadata": {},
   "outputs": [
    {
     "data": {
      "text/plain": [
       "Text(0, 0.5, 'Annual Average Change in the Logarithm')"
      ]
     },
     "execution_count": 19,
     "metadata": {},
     "output_type": "execute_result"
    },
    {
     "data": {
      "image/png": "[encoded data removed]",
      "text/plain": [
       "<Figure size 432x288 with 1 Axes>"
      ]
     },
     "metadata": {
      "needs_background": "light"
     },
     "output_type": "display_data"
    }
   ],
   "source": [
    "# remember those growth rates we calculated and then\n",
    "# stuffed into their own dataframe? we can take \n",
    "# a look at them as well.\n",
    "#\n",
    "# first let's graph population growth:\n",
    "\n",
    "long_run_growth_rates_df['n'].plot()\n",
    "plt.title('Human Economic History: Population Growth', size=20)\n",
    "plt.xlabel('Year')\n",
    "plt.ylabel('Annual Average Change in the Logarithm')"
   ]
  },
  {
   "cell_type": "code",
   "execution_count": 20,
   "metadata": {},
   "outputs": [
    {
     "data": {
      "text/plain": [
       "Text(0, 0.5, 'Annual Average Change in the Logarithm')"
      ]
     },
     "execution_count": 20,
     "metadata": {},
     "output_type": "execute_result"
    },
    {
     "data": {
      "image/png": "[encoded data removed]",
      "text/plain": [
       "<Figure size 432x288 with 1 Axes>"
      ]
     },
     "metadata": {
      "needs_background": "light"
     },
     "output_type": "display_data"
    }
   ],
   "source": [
    "# now let's graph growth in real income per capita:\n",
    "\n",
    "long_run_growth_rates_df['g'].plot()\n",
    "plt.title('Human Economic History: Income per Capita Growth', size=20)\n",
    "plt.xlabel('Year')\n",
    "plt.ylabel('Annual Average Change in the Logarithm')"
   ]
  },
  {
   "cell_type": "code",
   "execution_count": 21,
   "metadata": {},
   "outputs": [
    {
     "data": {
      "text/html": [
       "<div>\n",
       "<style scoped>\n",
       "    .dataframe tbody tr th:only-of-type {\n",
       "        vertical-align: middle;\n",
       "    }\n",
       "\n",
       "    .dataframe tbody tr th {\n",
       "        vertical-align: top;\n",
       "    }\n",
       "\n",
       "    .dataframe thead th {\n",
       "        text-align: right;\n",
       "    }\n",
       "</style>\n",
       "<table border=\"1\" class=\"dataframe\">\n",
       "  <thead>\n",
       "    <tr style=\"text-align: right;\">\n",
       "      <th></th>\n",
       "      <th>span</th>\n",
       "      <th>h</th>\n",
       "      <th>g</th>\n",
       "      <th>n</th>\n",
       "    </tr>\n",
       "    <tr>\n",
       "      <th>initial_year</th>\n",
       "      <th></th>\n",
       "      <th></th>\n",
       "      <th></th>\n",
       "      <th></th>\n",
       "    </tr>\n",
       "  </thead>\n",
       "  <tbody>\n",
       "    <tr>\n",
       "      <th>-68000</th>\n",
       "      <td>60000.0</td>\n",
       "      <td>0.000027</td>\n",
       "      <td>0.000000</td>\n",
       "      <td>0.000054</td>\n",
       "    </tr>\n",
       "    <tr>\n",
       "      <th>-8000</th>\n",
       "      <td>2000.0</td>\n",
       "      <td>0.000114</td>\n",
       "      <td>-0.000144</td>\n",
       "      <td>0.000515</td>\n",
       "    </tr>\n",
       "    <tr>\n",
       "      <th>-6000</th>\n",
       "      <td>3000.0</td>\n",
       "      <td>0.000127</td>\n",
       "      <td>0.000000</td>\n",
       "      <td>0.000254</td>\n",
       "    </tr>\n",
       "    <tr>\n",
       "      <th>-3000</th>\n",
       "      <td>2000.0</td>\n",
       "      <td>0.000301</td>\n",
       "      <td>0.000000</td>\n",
       "      <td>0.000602</td>\n",
       "    </tr>\n",
       "    <tr>\n",
       "      <th>-1000</th>\n",
       "      <td>1001.0</td>\n",
       "      <td>0.000611</td>\n",
       "      <td>0.000000</td>\n",
       "      <td>0.001223</td>\n",
       "    </tr>\n",
       "    <tr>\n",
       "      <th>1</th>\n",
       "      <td>1499.0</td>\n",
       "      <td>0.000360</td>\n",
       "      <td>0.000000</td>\n",
       "      <td>0.000720</td>\n",
       "    </tr>\n",
       "    <tr>\n",
       "      <th>1500</th>\n",
       "      <td>270.0</td>\n",
       "      <td>0.001494</td>\n",
       "      <td>0.000743</td>\n",
       "      <td>0.001502</td>\n",
       "    </tr>\n",
       "    <tr>\n",
       "      <th>1770</th>\n",
       "      <td>100.0</td>\n",
       "      <td>0.004421</td>\n",
       "      <td>0.001671</td>\n",
       "      <td>0.005500</td>\n",
       "    </tr>\n",
       "    <tr>\n",
       "      <th>1870</th>\n",
       "      <td>150.0</td>\n",
       "      <td>0.020615</td>\n",
       "      <td>0.014729</td>\n",
       "      <td>0.011772</td>\n",
       "    </tr>\n",
       "  </tbody>\n",
       "</table>\n",
       "</div>"
      ],
      "text/plain": [
       "                 span         h         g         n\n",
       "initial_year                                       \n",
       "-68000        60000.0  0.000027  0.000000  0.000054\n",
       "-8000          2000.0  0.000114 -0.000144  0.000515\n",
       "-6000          3000.0  0.000127  0.000000  0.000254\n",
       "-3000          2000.0  0.000301  0.000000  0.000602\n",
       "-1000          1001.0  0.000611  0.000000  0.001223\n",
       " 1             1499.0  0.000360  0.000000  0.000720\n",
       " 1500           270.0  0.001494  0.000743  0.001502\n",
       " 1770           100.0  0.004421  0.001671  0.005500\n",
       " 1870           150.0  0.020615  0.014729  0.011772"
      ]
     },
     "execution_count": 21,
     "metadata": {},
     "output_type": "execute_result"
    }
   ],
   "source": [
    "# and look at the growth-rates dataframe itself again:\n",
    "\n",
    "long_run_growth_rates_df"
   ]
  },
  {
   "cell_type": "markdown",
   "metadata": {},
   "source": [
    "This table is especially ugly. We really do need to reformat it:"
   ]
  },
  {
   "cell_type": "code",
   "execution_count": 22,
   "metadata": {},
   "outputs": [
    {
     "data": {
      "text/html": [
       "<style  type=\"text/css\" >\n",
       "</style><table id=\"T_1f7d42a6_dcc0_11ea_a134_acde48001122\" ><thead>    <tr>        <th class=\"blank level0\" ></th>        <th class=\"col_heading level0 col0\" >span</th>        <th class=\"col_heading level0 col1\" >h</th>        <th class=\"col_heading level0 col2\" >g</th>        <th class=\"col_heading level0 col3\" >n</th>    </tr>    <tr>        <th class=\"index_name level0\" >initial_year</th>        <th class=\"blank\" ></th>        <th class=\"blank\" ></th>        <th class=\"blank\" ></th>        <th class=\"blank\" ></th>    </tr></thead><tbody>\n",
       "                <tr>\n",
       "                        <th id=\"T_1f7d42a6_dcc0_11ea_a134_acde48001122level0_row0\" class=\"row_heading level0 row0\" >-68000</th>\n",
       "                        <td id=\"T_1f7d42a6_dcc0_11ea_a134_acde48001122row0_col0\" class=\"data row0 col0\" >60000</td>\n",
       "                        <td id=\"T_1f7d42a6_dcc0_11ea_a134_acde48001122row0_col1\" class=\"data row0 col1\" >0.003%</td>\n",
       "                        <td id=\"T_1f7d42a6_dcc0_11ea_a134_acde48001122row0_col2\" class=\"data row0 col2\" >0.00%</td>\n",
       "                        <td id=\"T_1f7d42a6_dcc0_11ea_a134_acde48001122row0_col3\" class=\"data row0 col3\" >0.01%</td>\n",
       "            </tr>\n",
       "            <tr>\n",
       "                        <th id=\"T_1f7d42a6_dcc0_11ea_a134_acde48001122level0_row1\" class=\"row_heading level0 row1\" >-8000</th>\n",
       "                        <td id=\"T_1f7d42a6_dcc0_11ea_a134_acde48001122row1_col0\" class=\"data row1 col0\" >2000</td>\n",
       "                        <td id=\"T_1f7d42a6_dcc0_11ea_a134_acde48001122row1_col1\" class=\"data row1 col1\" >0.011%</td>\n",
       "                        <td id=\"T_1f7d42a6_dcc0_11ea_a134_acde48001122row1_col2\" class=\"data row1 col2\" >-0.01%</td>\n",
       "                        <td id=\"T_1f7d42a6_dcc0_11ea_a134_acde48001122row1_col3\" class=\"data row1 col3\" >0.05%</td>\n",
       "            </tr>\n",
       "            <tr>\n",
       "                        <th id=\"T_1f7d42a6_dcc0_11ea_a134_acde48001122level0_row2\" class=\"row_heading level0 row2\" >-6000</th>\n",
       "                        <td id=\"T_1f7d42a6_dcc0_11ea_a134_acde48001122row2_col0\" class=\"data row2 col0\" >3000</td>\n",
       "                        <td id=\"T_1f7d42a6_dcc0_11ea_a134_acde48001122row2_col1\" class=\"data row2 col1\" >0.013%</td>\n",
       "                        <td id=\"T_1f7d42a6_dcc0_11ea_a134_acde48001122row2_col2\" class=\"data row2 col2\" >0.00%</td>\n",
       "                        <td id=\"T_1f7d42a6_dcc0_11ea_a134_acde48001122row2_col3\" class=\"data row2 col3\" >0.03%</td>\n",
       "            </tr>\n",
       "            <tr>\n",
       "                        <th id=\"T_1f7d42a6_dcc0_11ea_a134_acde48001122level0_row3\" class=\"row_heading level0 row3\" >-3000</th>\n",
       "                        <td id=\"T_1f7d42a6_dcc0_11ea_a134_acde48001122row3_col0\" class=\"data row3 col0\" >2000</td>\n",
       "                        <td id=\"T_1f7d42a6_dcc0_11ea_a134_acde48001122row3_col1\" class=\"data row3 col1\" >0.030%</td>\n",
       "                        <td id=\"T_1f7d42a6_dcc0_11ea_a134_acde48001122row3_col2\" class=\"data row3 col2\" >0.00%</td>\n",
       "                        <td id=\"T_1f7d42a6_dcc0_11ea_a134_acde48001122row3_col3\" class=\"data row3 col3\" >0.06%</td>\n",
       "            </tr>\n",
       "            <tr>\n",
       "                        <th id=\"T_1f7d42a6_dcc0_11ea_a134_acde48001122level0_row4\" class=\"row_heading level0 row4\" >-1000</th>\n",
       "                        <td id=\"T_1f7d42a6_dcc0_11ea_a134_acde48001122row4_col0\" class=\"data row4 col0\" >1001</td>\n",
       "                        <td id=\"T_1f7d42a6_dcc0_11ea_a134_acde48001122row4_col1\" class=\"data row4 col1\" >0.061%</td>\n",
       "                        <td id=\"T_1f7d42a6_dcc0_11ea_a134_acde48001122row4_col2\" class=\"data row4 col2\" >0.00%</td>\n",
       "                        <td id=\"T_1f7d42a6_dcc0_11ea_a134_acde48001122row4_col3\" class=\"data row4 col3\" >0.12%</td>\n",
       "            </tr>\n",
       "            <tr>\n",
       "                        <th id=\"T_1f7d42a6_dcc0_11ea_a134_acde48001122level0_row5\" class=\"row_heading level0 row5\" >1</th>\n",
       "                        <td id=\"T_1f7d42a6_dcc0_11ea_a134_acde48001122row5_col0\" class=\"data row5 col0\" >1499</td>\n",
       "                        <td id=\"T_1f7d42a6_dcc0_11ea_a134_acde48001122row5_col1\" class=\"data row5 col1\" >0.036%</td>\n",
       "                        <td id=\"T_1f7d42a6_dcc0_11ea_a134_acde48001122row5_col2\" class=\"data row5 col2\" >0.00%</td>\n",
       "                        <td id=\"T_1f7d42a6_dcc0_11ea_a134_acde48001122row5_col3\" class=\"data row5 col3\" >0.07%</td>\n",
       "            </tr>\n",
       "            <tr>\n",
       "                        <th id=\"T_1f7d42a6_dcc0_11ea_a134_acde48001122level0_row6\" class=\"row_heading level0 row6\" >1500</th>\n",
       "                        <td id=\"T_1f7d42a6_dcc0_11ea_a134_acde48001122row6_col0\" class=\"data row6 col0\" >270</td>\n",
       "                        <td id=\"T_1f7d42a6_dcc0_11ea_a134_acde48001122row6_col1\" class=\"data row6 col1\" >0.149%</td>\n",
       "                        <td id=\"T_1f7d42a6_dcc0_11ea_a134_acde48001122row6_col2\" class=\"data row6 col2\" >0.07%</td>\n",
       "                        <td id=\"T_1f7d42a6_dcc0_11ea_a134_acde48001122row6_col3\" class=\"data row6 col3\" >0.15%</td>\n",
       "            </tr>\n",
       "            <tr>\n",
       "                        <th id=\"T_1f7d42a6_dcc0_11ea_a134_acde48001122level0_row7\" class=\"row_heading level0 row7\" >1770</th>\n",
       "                        <td id=\"T_1f7d42a6_dcc0_11ea_a134_acde48001122row7_col0\" class=\"data row7 col0\" >100</td>\n",
       "                        <td id=\"T_1f7d42a6_dcc0_11ea_a134_acde48001122row7_col1\" class=\"data row7 col1\" >0.442%</td>\n",
       "                        <td id=\"T_1f7d42a6_dcc0_11ea_a134_acde48001122row7_col2\" class=\"data row7 col2\" >0.17%</td>\n",
       "                        <td id=\"T_1f7d42a6_dcc0_11ea_a134_acde48001122row7_col3\" class=\"data row7 col3\" >0.55%</td>\n",
       "            </tr>\n",
       "            <tr>\n",
       "                        <th id=\"T_1f7d42a6_dcc0_11ea_a134_acde48001122level0_row8\" class=\"row_heading level0 row8\" >1870</th>\n",
       "                        <td id=\"T_1f7d42a6_dcc0_11ea_a134_acde48001122row8_col0\" class=\"data row8 col0\" >150</td>\n",
       "                        <td id=\"T_1f7d42a6_dcc0_11ea_a134_acde48001122row8_col1\" class=\"data row8 col1\" >2.061%</td>\n",
       "                        <td id=\"T_1f7d42a6_dcc0_11ea_a134_acde48001122row8_col2\" class=\"data row8 col2\" >1.47%</td>\n",
       "                        <td id=\"T_1f7d42a6_dcc0_11ea_a134_acde48001122row8_col3\" class=\"data row8 col3\" >1.18%</td>\n",
       "            </tr>\n",
       "    </tbody></table>"
      ],
      "text/plain": [
       "<pandas.io.formats.style.Styler at 0x7fb1eb651e50>"
      ]
     },
     "execution_count": 22,
     "metadata": {},
     "output_type": "execute_result"
    }
   ],
   "source": [
    "# here making the printing prettier really matters—for \n",
    "# us humans, at least, as we try to read & understand \n",
    "# what is going on:\n",
    "\n",
    "format_dict = {'initial_year':'{0:.0f}', 'span': '{0:.0f}', 'h': '{0:,.3%}', \n",
    "    'g': '{0:,.2%}', 'n': '{0:,.2%}'}\n",
    "\n",
    "long_run_growth_rates_df.style.format(format_dict)"
   ]
  },
  {
   "cell_type": "markdown",
   "metadata": {},
   "source": [
    "Suppose you wanted to show the growth rate of income-per-capita g and of population n in each era to three decimal places. How would you do it?"
   ]
  },
  {
   "cell_type": "code",
   "execution_count": 23,
   "metadata": {},
   "outputs": [
    {
     "data": {
      "text/html": [
       "<style  type=\"text/css\" >\n",
       "</style><table id=\"T_1f8003c4_dcc0_11ea_a134_acde48001122\" ><thead>    <tr>        <th class=\"blank level0\" ></th>        <th class=\"col_heading level0 col0\" >span</th>        <th class=\"col_heading level0 col1\" >h</th>        <th class=\"col_heading level0 col2\" >g</th>        <th class=\"col_heading level0 col3\" >n</th>    </tr>    <tr>        <th class=\"index_name level0\" >initial_year</th>        <th class=\"blank\" ></th>        <th class=\"blank\" ></th>        <th class=\"blank\" ></th>        <th class=\"blank\" ></th>    </tr></thead><tbody>\n",
       "                <tr>\n",
       "                        <th id=\"T_1f8003c4_dcc0_11ea_a134_acde48001122level0_row0\" class=\"row_heading level0 row0\" >-68000</th>\n",
       "                        <td id=\"T_1f8003c4_dcc0_11ea_a134_acde48001122row0_col0\" class=\"data row0 col0\" >60000</td>\n",
       "                        <td id=\"T_1f8003c4_dcc0_11ea_a134_acde48001122row0_col1\" class=\"data row0 col1\" >0.003%</td>\n",
       "                        <td id=\"T_1f8003c4_dcc0_11ea_a134_acde48001122row0_col2\" class=\"data row0 col2\" >0.000%</td>\n",
       "                        <td id=\"T_1f8003c4_dcc0_11ea_a134_acde48001122row0_col3\" class=\"data row0 col3\" >0.005%</td>\n",
       "            </tr>\n",
       "            <tr>\n",
       "                        <th id=\"T_1f8003c4_dcc0_11ea_a134_acde48001122level0_row1\" class=\"row_heading level0 row1\" >-8000</th>\n",
       "                        <td id=\"T_1f8003c4_dcc0_11ea_a134_acde48001122row1_col0\" class=\"data row1 col0\" >2000</td>\n",
       "                        <td id=\"T_1f8003c4_dcc0_11ea_a134_acde48001122row1_col1\" class=\"data row1 col1\" >0.011%</td>\n",
       "                        <td id=\"T_1f8003c4_dcc0_11ea_a134_acde48001122row1_col2\" class=\"data row1 col2\" >-0.014%</td>\n",
       "                        <td id=\"T_1f8003c4_dcc0_11ea_a134_acde48001122row1_col3\" class=\"data row1 col3\" >0.051%</td>\n",
       "            </tr>\n",
       "            <tr>\n",
       "                        <th id=\"T_1f8003c4_dcc0_11ea_a134_acde48001122level0_row2\" class=\"row_heading level0 row2\" >-6000</th>\n",
       "                        <td id=\"T_1f8003c4_dcc0_11ea_a134_acde48001122row2_col0\" class=\"data row2 col0\" >3000</td>\n",
       "                        <td id=\"T_1f8003c4_dcc0_11ea_a134_acde48001122row2_col1\" class=\"data row2 col1\" >0.013%</td>\n",
       "                        <td id=\"T_1f8003c4_dcc0_11ea_a134_acde48001122row2_col2\" class=\"data row2 col2\" >0.000%</td>\n",
       "                        <td id=\"T_1f8003c4_dcc0_11ea_a134_acde48001122row2_col3\" class=\"data row2 col3\" >0.025%</td>\n",
       "            </tr>\n",
       "            <tr>\n",
       "                        <th id=\"T_1f8003c4_dcc0_11ea_a134_acde48001122level0_row3\" class=\"row_heading level0 row3\" >-3000</th>\n",
       "                        <td id=\"T_1f8003c4_dcc0_11ea_a134_acde48001122row3_col0\" class=\"data row3 col0\" >2000</td>\n",
       "                        <td id=\"T_1f8003c4_dcc0_11ea_a134_acde48001122row3_col1\" class=\"data row3 col1\" >0.030%</td>\n",
       "                        <td id=\"T_1f8003c4_dcc0_11ea_a134_acde48001122row3_col2\" class=\"data row3 col2\" >0.000%</td>\n",
       "                        <td id=\"T_1f8003c4_dcc0_11ea_a134_acde48001122row3_col3\" class=\"data row3 col3\" >0.060%</td>\n",
       "            </tr>\n",
       "            <tr>\n",
       "                        <th id=\"T_1f8003c4_dcc0_11ea_a134_acde48001122level0_row4\" class=\"row_heading level0 row4\" >-1000</th>\n",
       "                        <td id=\"T_1f8003c4_dcc0_11ea_a134_acde48001122row4_col0\" class=\"data row4 col0\" >1001</td>\n",
       "                        <td id=\"T_1f8003c4_dcc0_11ea_a134_acde48001122row4_col1\" class=\"data row4 col1\" >0.061%</td>\n",
       "                        <td id=\"T_1f8003c4_dcc0_11ea_a134_acde48001122row4_col2\" class=\"data row4 col2\" >0.000%</td>\n",
       "                        <td id=\"T_1f8003c4_dcc0_11ea_a134_acde48001122row4_col3\" class=\"data row4 col3\" >0.122%</td>\n",
       "            </tr>\n",
       "            <tr>\n",
       "                        <th id=\"T_1f8003c4_dcc0_11ea_a134_acde48001122level0_row5\" class=\"row_heading level0 row5\" >1</th>\n",
       "                        <td id=\"T_1f8003c4_dcc0_11ea_a134_acde48001122row5_col0\" class=\"data row5 col0\" >1499</td>\n",
       "                        <td id=\"T_1f8003c4_dcc0_11ea_a134_acde48001122row5_col1\" class=\"data row5 col1\" >0.036%</td>\n",
       "                        <td id=\"T_1f8003c4_dcc0_11ea_a134_acde48001122row5_col2\" class=\"data row5 col2\" >0.000%</td>\n",
       "                        <td id=\"T_1f8003c4_dcc0_11ea_a134_acde48001122row5_col3\" class=\"data row5 col3\" >0.072%</td>\n",
       "            </tr>\n",
       "            <tr>\n",
       "                        <th id=\"T_1f8003c4_dcc0_11ea_a134_acde48001122level0_row6\" class=\"row_heading level0 row6\" >1500</th>\n",
       "                        <td id=\"T_1f8003c4_dcc0_11ea_a134_acde48001122row6_col0\" class=\"data row6 col0\" >270</td>\n",
       "                        <td id=\"T_1f8003c4_dcc0_11ea_a134_acde48001122row6_col1\" class=\"data row6 col1\" >0.149%</td>\n",
       "                        <td id=\"T_1f8003c4_dcc0_11ea_a134_acde48001122row6_col2\" class=\"data row6 col2\" >0.074%</td>\n",
       "                        <td id=\"T_1f8003c4_dcc0_11ea_a134_acde48001122row6_col3\" class=\"data row6 col3\" >0.150%</td>\n",
       "            </tr>\n",
       "            <tr>\n",
       "                        <th id=\"T_1f8003c4_dcc0_11ea_a134_acde48001122level0_row7\" class=\"row_heading level0 row7\" >1770</th>\n",
       "                        <td id=\"T_1f8003c4_dcc0_11ea_a134_acde48001122row7_col0\" class=\"data row7 col0\" >100</td>\n",
       "                        <td id=\"T_1f8003c4_dcc0_11ea_a134_acde48001122row7_col1\" class=\"data row7 col1\" >0.442%</td>\n",
       "                        <td id=\"T_1f8003c4_dcc0_11ea_a134_acde48001122row7_col2\" class=\"data row7 col2\" >0.167%</td>\n",
       "                        <td id=\"T_1f8003c4_dcc0_11ea_a134_acde48001122row7_col3\" class=\"data row7 col3\" >0.550%</td>\n",
       "            </tr>\n",
       "            <tr>\n",
       "                        <th id=\"T_1f8003c4_dcc0_11ea_a134_acde48001122level0_row8\" class=\"row_heading level0 row8\" >1870</th>\n",
       "                        <td id=\"T_1f8003c4_dcc0_11ea_a134_acde48001122row8_col0\" class=\"data row8 col0\" >150</td>\n",
       "                        <td id=\"T_1f8003c4_dcc0_11ea_a134_acde48001122row8_col1\" class=\"data row8 col1\" >2.061%</td>\n",
       "                        <td id=\"T_1f8003c4_dcc0_11ea_a134_acde48001122row8_col2\" class=\"data row8 col2\" >1.473%</td>\n",
       "                        <td id=\"T_1f8003c4_dcc0_11ea_a134_acde48001122row8_col3\" class=\"data row8 col3\" >1.177%</td>\n",
       "            </tr>\n",
       "    </tbody></table>"
      ],
      "text/plain": [
       "<pandas.io.formats.style.Styler at 0x7fb1eb6b9450>"
      ]
     },
     "execution_count": 23,
     "metadata": {},
     "output_type": "execute_result"
    }
   ],
   "source": [
    "# to three decimal places;\n",
    "\n",
    "format_dict = {'initial_year':'{0:.0f}', 'span': '{0:.0f}', 'h': '{0:,.3%}', \n",
    "    'g': '{0:,.3%}', 'n': '{0:,.3%}'}\n",
    "\n",
    "long_run_growth_rates_df.style.format(format_dict)"
   ]
  },
  {
   "cell_type": "code",
   "execution_count": 24,
   "metadata": {},
   "outputs": [
    {
     "data": {
      "text/html": [
       "<style  type=\"text/css\" >\n",
       "</style><table id=\"T_1f83430e_dcc0_11ea_a134_acde48001122\" ><thead>    <tr>        <th class=\"blank level0\" ></th>        <th class=\"col_heading level0 col0\" >human_ideas_index</th>        <th class=\"col_heading level0 col1\" >income_level</th>        <th class=\"col_heading level0 col2\" >population</th>        <th class=\"col_heading level0 col3\" >eras</th>    </tr>    <tr>        <th class=\"index_name level0\" >year</th>        <th class=\"blank\" ></th>        <th class=\"blank\" ></th>        <th class=\"blank\" ></th>        <th class=\"blank\" ></th>    </tr></thead><tbody>\n",
       "                <tr>\n",
       "                        <th id=\"T_1f83430e_dcc0_11ea_a134_acde48001122level0_row0\" class=\"row_heading level0 row0\" >-68000</th>\n",
       "                        <td id=\"T_1f83430e_dcc0_11ea_a134_acde48001122row0_col0\" class=\"data row0 col0\" >379</td>\n",
       "                        <td id=\"T_1f83430e_dcc0_11ea_a134_acde48001122row0_col1\" class=\"data row0 col1\" >$1,200</td>\n",
       "                        <td id=\"T_1f83430e_dcc0_11ea_a134_acde48001122row0_col2\" class=\"data row0 col2\" >0.1</td>\n",
       "                        <td id=\"T_1f83430e_dcc0_11ea_a134_acde48001122row0_col3\" class=\"data row0 col3\" >at the dawn</td>\n",
       "            </tr>\n",
       "            <tr>\n",
       "                        <th id=\"T_1f83430e_dcc0_11ea_a134_acde48001122level0_row1\" class=\"row_heading level0 row1\" >-8000</th>\n",
       "                        <td id=\"T_1f83430e_dcc0_11ea_a134_acde48001122row1_col0\" class=\"data row1 col0\" >1,897</td>\n",
       "                        <td id=\"T_1f83430e_dcc0_11ea_a134_acde48001122row1_col1\" class=\"data row1 col1\" >$1,200</td>\n",
       "                        <td id=\"T_1f83430e_dcc0_11ea_a134_acde48001122row1_col2\" class=\"data row1 col2\" >2.5</td>\n",
       "                        <td id=\"T_1f83430e_dcc0_11ea_a134_acde48001122row1_col3\" class=\"data row1 col3\" >agriculture & herding</td>\n",
       "            </tr>\n",
       "            <tr>\n",
       "                        <th id=\"T_1f83430e_dcc0_11ea_a134_acde48001122level0_row2\" class=\"row_heading level0 row2\" >-6000</th>\n",
       "                        <td id=\"T_1f83430e_dcc0_11ea_a134_acde48001122row2_col0\" class=\"data row2 col0\" >2,381</td>\n",
       "                        <td id=\"T_1f83430e_dcc0_11ea_a134_acde48001122row2_col1\" class=\"data row2 col1\" >$900</td>\n",
       "                        <td id=\"T_1f83430e_dcc0_11ea_a134_acde48001122row2_col2\" class=\"data row2 col2\" >7.0</td>\n",
       "                        <td id=\"T_1f83430e_dcc0_11ea_a134_acde48001122row2_col3\" class=\"data row2 col3\" >proto-agrarian age</td>\n",
       "            </tr>\n",
       "            <tr>\n",
       "                        <th id=\"T_1f83430e_dcc0_11ea_a134_acde48001122level0_row3\" class=\"row_heading level0 row3\" >-3000</th>\n",
       "                        <td id=\"T_1f83430e_dcc0_11ea_a134_acde48001122row3_col0\" class=\"data row3 col0\" >3,486</td>\n",
       "                        <td id=\"T_1f83430e_dcc0_11ea_a134_acde48001122row3_col1\" class=\"data row3 col1\" >$900</td>\n",
       "                        <td id=\"T_1f83430e_dcc0_11ea_a134_acde48001122row3_col2\" class=\"data row3 col2\" >15.0</td>\n",
       "                        <td id=\"T_1f83430e_dcc0_11ea_a134_acde48001122row3_col3\" class=\"data row3 col3\" >writing</td>\n",
       "            </tr>\n",
       "            <tr>\n",
       "                        <th id=\"T_1f83430e_dcc0_11ea_a134_acde48001122level0_row4\" class=\"row_heading level0 row4\" >-1000</th>\n",
       "                        <td id=\"T_1f83430e_dcc0_11ea_a134_acde48001122row4_col0\" class=\"data row4 col0\" >6,364</td>\n",
       "                        <td id=\"T_1f83430e_dcc0_11ea_a134_acde48001122row4_col1\" class=\"data row4 col1\" >$900</td>\n",
       "                        <td id=\"T_1f83430e_dcc0_11ea_a134_acde48001122row4_col2\" class=\"data row4 col2\" >50.0</td>\n",
       "                        <td id=\"T_1f83430e_dcc0_11ea_a134_acde48001122row4_col3\" class=\"data row4 col3\" >axial age</td>\n",
       "            </tr>\n",
       "            <tr>\n",
       "                        <th id=\"T_1f83430e_dcc0_11ea_a134_acde48001122level0_row5\" class=\"row_heading level0 row5\" >1</th>\n",
       "                        <td id=\"T_1f83430e_dcc0_11ea_a134_acde48001122row5_col0\" class=\"data row5 col0\" >11,735</td>\n",
       "                        <td id=\"T_1f83430e_dcc0_11ea_a134_acde48001122row5_col1\" class=\"data row5 col1\" >$900</td>\n",
       "                        <td id=\"T_1f83430e_dcc0_11ea_a134_acde48001122row5_col2\" class=\"data row5 col2\" >170.0</td>\n",
       "                        <td id=\"T_1f83430e_dcc0_11ea_a134_acde48001122row5_col3\" class=\"data row5 col3\" >dark & middle age slowdown</td>\n",
       "            </tr>\n",
       "            <tr>\n",
       "                        <th id=\"T_1f83430e_dcc0_11ea_a134_acde48001122level0_row6\" class=\"row_heading level0 row6\" >1500</th>\n",
       "                        <td id=\"T_1f83430e_dcc0_11ea_a134_acde48001122row6_col0\" class=\"data row6 col0\" >20,125</td>\n",
       "                        <td id=\"T_1f83430e_dcc0_11ea_a134_acde48001122row6_col1\" class=\"data row6 col1\" >$900</td>\n",
       "                        <td id=\"T_1f83430e_dcc0_11ea_a134_acde48001122row6_col2\" class=\"data row6 col2\" >500.0</td>\n",
       "                        <td id=\"T_1f83430e_dcc0_11ea_a134_acde48001122row6_col3\" class=\"data row6 col3\" >commercial revolution</td>\n",
       "            </tr>\n",
       "            <tr>\n",
       "                        <th id=\"T_1f83430e_dcc0_11ea_a134_acde48001122level0_row7\" class=\"row_heading level0 row7\" >1770</th>\n",
       "                        <td id=\"T_1f83430e_dcc0_11ea_a134_acde48001122row7_col0\" class=\"data row7 col0\" >30,125</td>\n",
       "                        <td id=\"T_1f83430e_dcc0_11ea_a134_acde48001122row7_col1\" class=\"data row7 col1\" >$1,100</td>\n",
       "                        <td id=\"T_1f83430e_dcc0_11ea_a134_acde48001122row7_col2\" class=\"data row7 col2\" >750.0</td>\n",
       "                        <td id=\"T_1f83430e_dcc0_11ea_a134_acde48001122row7_col3\" class=\"data row7 col3\" >industrial revolution</td>\n",
       "            </tr>\n",
       "            <tr>\n",
       "                        <th id=\"T_1f83430e_dcc0_11ea_a134_acde48001122level0_row8\" class=\"row_heading level0 row8\" >1870</th>\n",
       "                        <td id=\"T_1f83430e_dcc0_11ea_a134_acde48001122row8_col0\" class=\"data row8 col0\" >46,872</td>\n",
       "                        <td id=\"T_1f83430e_dcc0_11ea_a134_acde48001122row8_col1\" class=\"data row8 col1\" >$1,300</td>\n",
       "                        <td id=\"T_1f83430e_dcc0_11ea_a134_acde48001122row8_col2\" class=\"data row8 col2\" >1,300.0</td>\n",
       "                        <td id=\"T_1f83430e_dcc0_11ea_a134_acde48001122row8_col3\" class=\"data row8 col3\" >modern economic growth</td>\n",
       "            </tr>\n",
       "            <tr>\n",
       "                        <th id=\"T_1f83430e_dcc0_11ea_a134_acde48001122level0_row9\" class=\"row_heading level0 row9\" >2020</th>\n",
       "                        <td id=\"T_1f83430e_dcc0_11ea_a134_acde48001122row9_col0\" class=\"data row9 col0\" >1,032,371</td>\n",
       "                        <td id=\"T_1f83430e_dcc0_11ea_a134_acde48001122row9_col1\" class=\"data row9 col1\" >$11,842</td>\n",
       "                        <td id=\"T_1f83430e_dcc0_11ea_a134_acde48001122row9_col2\" class=\"data row9 col2\" >7,600.0</td>\n",
       "                        <td id=\"T_1f83430e_dcc0_11ea_a134_acde48001122row9_col3\" class=\"data row9 col3\" >whatever the 21st century brings</td>\n",
       "            </tr>\n",
       "    </tbody></table>"
      ],
      "text/plain": [
       "<pandas.io.formats.style.Styler at 0x7fb1eb5e1a10>"
      ]
     },
     "execution_count": 24,
     "metadata": {},
     "output_type": "execute_result"
    }
   ],
   "source": [
    "# finally, add a note to the end of each observation, reminding\n",
    "# us of what was going on in human history back in each of the\n",
    "# eras into which we have divided it\n",
    "\n",
    "eras = ['at the dawn', 'agriculture & herding', 'proto-agrarian age',\n",
    "        'writing', 'axial age', 'dark & middle age slowdown', 'commercial revolution',\n",
    "        'industrial revolution', 'modern economic growth', 'whatever the 21st century brings']\n",
    "\n",
    "long_run_growth_df['eras'] = eras\n",
    "\n",
    "format_dict = {'year': '{d}', 'human_ideas_index': '{0:,.0f}', \n",
    "    'income_level': '${0:,.0f}', 'population': '{0:,.1f}'}\n",
    "\n",
    "long_run_growth_df.style.format(format_dict)"
   ]
  },
  {
   "cell_type": "code",
   "execution_count": 25,
   "metadata": {},
   "outputs": [
    {
     "data": {
      "text/html": [
       "<style  type=\"text/css\" >\n",
       "</style><table id=\"T_1f86100c_dcc0_11ea_a134_acde48001122\" ><thead>    <tr>        <th class=\"blank level0\" ></th>        <th class=\"col_heading level0 col0\" >span</th>        <th class=\"col_heading level0 col1\" >h</th>        <th class=\"col_heading level0 col2\" >g</th>        <th class=\"col_heading level0 col3\" >n</th>        <th class=\"col_heading level0 col4\" >era</th>    </tr>    <tr>        <th class=\"index_name level0\" >initial_year</th>        <th class=\"blank\" ></th>        <th class=\"blank\" ></th>        <th class=\"blank\" ></th>        <th class=\"blank\" ></th>        <th class=\"blank\" ></th>    </tr></thead><tbody>\n",
       "                <tr>\n",
       "                        <th id=\"T_1f86100c_dcc0_11ea_a134_acde48001122level0_row0\" class=\"row_heading level0 row0\" >-68000</th>\n",
       "                        <td id=\"T_1f86100c_dcc0_11ea_a134_acde48001122row0_col0\" class=\"data row0 col0\" >60000</td>\n",
       "                        <td id=\"T_1f86100c_dcc0_11ea_a134_acde48001122row0_col1\" class=\"data row0 col1\" >0.003%</td>\n",
       "                        <td id=\"T_1f86100c_dcc0_11ea_a134_acde48001122row0_col2\" class=\"data row0 col2\" >0.00%</td>\n",
       "                        <td id=\"T_1f86100c_dcc0_11ea_a134_acde48001122row0_col3\" class=\"data row0 col3\" >0.01%</td>\n",
       "                        <td id=\"T_1f86100c_dcc0_11ea_a134_acde48001122row0_col4\" class=\"data row0 col4\" >at the dawn</td>\n",
       "            </tr>\n",
       "            <tr>\n",
       "                        <th id=\"T_1f86100c_dcc0_11ea_a134_acde48001122level0_row1\" class=\"row_heading level0 row1\" >-8000</th>\n",
       "                        <td id=\"T_1f86100c_dcc0_11ea_a134_acde48001122row1_col0\" class=\"data row1 col0\" >2000</td>\n",
       "                        <td id=\"T_1f86100c_dcc0_11ea_a134_acde48001122row1_col1\" class=\"data row1 col1\" >0.011%</td>\n",
       "                        <td id=\"T_1f86100c_dcc0_11ea_a134_acde48001122row1_col2\" class=\"data row1 col2\" >-0.01%</td>\n",
       "                        <td id=\"T_1f86100c_dcc0_11ea_a134_acde48001122row1_col3\" class=\"data row1 col3\" >0.05%</td>\n",
       "                        <td id=\"T_1f86100c_dcc0_11ea_a134_acde48001122row1_col4\" class=\"data row1 col4\" >agriculture & herding</td>\n",
       "            </tr>\n",
       "            <tr>\n",
       "                        <th id=\"T_1f86100c_dcc0_11ea_a134_acde48001122level0_row2\" class=\"row_heading level0 row2\" >-6000</th>\n",
       "                        <td id=\"T_1f86100c_dcc0_11ea_a134_acde48001122row2_col0\" class=\"data row2 col0\" >3000</td>\n",
       "                        <td id=\"T_1f86100c_dcc0_11ea_a134_acde48001122row2_col1\" class=\"data row2 col1\" >0.013%</td>\n",
       "                        <td id=\"T_1f86100c_dcc0_11ea_a134_acde48001122row2_col2\" class=\"data row2 col2\" >0.00%</td>\n",
       "                        <td id=\"T_1f86100c_dcc0_11ea_a134_acde48001122row2_col3\" class=\"data row2 col3\" >0.03%</td>\n",
       "                        <td id=\"T_1f86100c_dcc0_11ea_a134_acde48001122row2_col4\" class=\"data row2 col4\" >proto-agrarian age</td>\n",
       "            </tr>\n",
       "            <tr>\n",
       "                        <th id=\"T_1f86100c_dcc0_11ea_a134_acde48001122level0_row3\" class=\"row_heading level0 row3\" >-3000</th>\n",
       "                        <td id=\"T_1f86100c_dcc0_11ea_a134_acde48001122row3_col0\" class=\"data row3 col0\" >2000</td>\n",
       "                        <td id=\"T_1f86100c_dcc0_11ea_a134_acde48001122row3_col1\" class=\"data row3 col1\" >0.030%</td>\n",
       "                        <td id=\"T_1f86100c_dcc0_11ea_a134_acde48001122row3_col2\" class=\"data row3 col2\" >0.00%</td>\n",
       "                        <td id=\"T_1f86100c_dcc0_11ea_a134_acde48001122row3_col3\" class=\"data row3 col3\" >0.06%</td>\n",
       "                        <td id=\"T_1f86100c_dcc0_11ea_a134_acde48001122row3_col4\" class=\"data row3 col4\" >writing</td>\n",
       "            </tr>\n",
       "            <tr>\n",
       "                        <th id=\"T_1f86100c_dcc0_11ea_a134_acde48001122level0_row4\" class=\"row_heading level0 row4\" >-1000</th>\n",
       "                        <td id=\"T_1f86100c_dcc0_11ea_a134_acde48001122row4_col0\" class=\"data row4 col0\" >1001</td>\n",
       "                        <td id=\"T_1f86100c_dcc0_11ea_a134_acde48001122row4_col1\" class=\"data row4 col1\" >0.061%</td>\n",
       "                        <td id=\"T_1f86100c_dcc0_11ea_a134_acde48001122row4_col2\" class=\"data row4 col2\" >0.00%</td>\n",
       "                        <td id=\"T_1f86100c_dcc0_11ea_a134_acde48001122row4_col3\" class=\"data row4 col3\" >0.12%</td>\n",
       "                        <td id=\"T_1f86100c_dcc0_11ea_a134_acde48001122row4_col4\" class=\"data row4 col4\" >axial age</td>\n",
       "            </tr>\n",
       "            <tr>\n",
       "                        <th id=\"T_1f86100c_dcc0_11ea_a134_acde48001122level0_row5\" class=\"row_heading level0 row5\" >1</th>\n",
       "                        <td id=\"T_1f86100c_dcc0_11ea_a134_acde48001122row5_col0\" class=\"data row5 col0\" >1499</td>\n",
       "                        <td id=\"T_1f86100c_dcc0_11ea_a134_acde48001122row5_col1\" class=\"data row5 col1\" >0.036%</td>\n",
       "                        <td id=\"T_1f86100c_dcc0_11ea_a134_acde48001122row5_col2\" class=\"data row5 col2\" >0.00%</td>\n",
       "                        <td id=\"T_1f86100c_dcc0_11ea_a134_acde48001122row5_col3\" class=\"data row5 col3\" >0.07%</td>\n",
       "                        <td id=\"T_1f86100c_dcc0_11ea_a134_acde48001122row5_col4\" class=\"data row5 col4\" >dark & middle age slowdown</td>\n",
       "            </tr>\n",
       "            <tr>\n",
       "                        <th id=\"T_1f86100c_dcc0_11ea_a134_acde48001122level0_row6\" class=\"row_heading level0 row6\" >1500</th>\n",
       "                        <td id=\"T_1f86100c_dcc0_11ea_a134_acde48001122row6_col0\" class=\"data row6 col0\" >270</td>\n",
       "                        <td id=\"T_1f86100c_dcc0_11ea_a134_acde48001122row6_col1\" class=\"data row6 col1\" >0.149%</td>\n",
       "                        <td id=\"T_1f86100c_dcc0_11ea_a134_acde48001122row6_col2\" class=\"data row6 col2\" >0.07%</td>\n",
       "                        <td id=\"T_1f86100c_dcc0_11ea_a134_acde48001122row6_col3\" class=\"data row6 col3\" >0.15%</td>\n",
       "                        <td id=\"T_1f86100c_dcc0_11ea_a134_acde48001122row6_col4\" class=\"data row6 col4\" >commercial revolution</td>\n",
       "            </tr>\n",
       "            <tr>\n",
       "                        <th id=\"T_1f86100c_dcc0_11ea_a134_acde48001122level0_row7\" class=\"row_heading level0 row7\" >1770</th>\n",
       "                        <td id=\"T_1f86100c_dcc0_11ea_a134_acde48001122row7_col0\" class=\"data row7 col0\" >100</td>\n",
       "                        <td id=\"T_1f86100c_dcc0_11ea_a134_acde48001122row7_col1\" class=\"data row7 col1\" >0.442%</td>\n",
       "                        <td id=\"T_1f86100c_dcc0_11ea_a134_acde48001122row7_col2\" class=\"data row7 col2\" >0.17%</td>\n",
       "                        <td id=\"T_1f86100c_dcc0_11ea_a134_acde48001122row7_col3\" class=\"data row7 col3\" >0.55%</td>\n",
       "                        <td id=\"T_1f86100c_dcc0_11ea_a134_acde48001122row7_col4\" class=\"data row7 col4\" >industrial revolution</td>\n",
       "            </tr>\n",
       "            <tr>\n",
       "                        <th id=\"T_1f86100c_dcc0_11ea_a134_acde48001122level0_row8\" class=\"row_heading level0 row8\" >1870</th>\n",
       "                        <td id=\"T_1f86100c_dcc0_11ea_a134_acde48001122row8_col0\" class=\"data row8 col0\" >150</td>\n",
       "                        <td id=\"T_1f86100c_dcc0_11ea_a134_acde48001122row8_col1\" class=\"data row8 col1\" >2.061%</td>\n",
       "                        <td id=\"T_1f86100c_dcc0_11ea_a134_acde48001122row8_col2\" class=\"data row8 col2\" >1.47%</td>\n",
       "                        <td id=\"T_1f86100c_dcc0_11ea_a134_acde48001122row8_col3\" class=\"data row8 col3\" >1.18%</td>\n",
       "                        <td id=\"T_1f86100c_dcc0_11ea_a134_acde48001122row8_col4\" class=\"data row8 col4\" >modern economic growth</td>\n",
       "            </tr>\n",
       "    </tbody></table>"
      ],
      "text/plain": [
       "<pandas.io.formats.style.Styler at 0x7fb1eb658190>"
      ]
     },
     "execution_count": 25,
     "metadata": {},
     "output_type": "execute_result"
    }
   ],
   "source": [
    "# finally, add a note to the end of each observation, reminding\n",
    "# us of what was going on in human history back in each of the\n",
    "# eras into which we have divided it\n",
    "\n",
    "eras = eras[0:9]\n",
    "\n",
    "long_run_growth_rates_df['era'] = eras\n",
    "\n",
    "format_dict = { 'span': '{0:.0f}', 'h': '{0:,.3%}', \n",
    "    'g': '{0:,.2%}', 'n': '{0:,.2%}'}\n",
    "\n",
    "long_run_growth_rates_df.style.format(format_dict)"
   ]
  },
  {
   "cell_type": "markdown",
   "metadata": {},
   "source": [
    "### C. Thinking about what we have seen\n",
    "\n",
    "There are some obvious things to get from these numbers. Here is my take:\n",
    "\n",
    "The invention of agriculture—or perhaps it was the settling-down—mattered.\n",
    "\n",
    "Before 8000 years ago, most invention and innovation was figuring out what light and easy-to-carry tools you needed to flourish in new or changing environments.\n",
    "\n",
    "After 8000 years ago, invention and innovation got charged: stable location and population density greatly expanded what stuff could be useful, and greatly aided social memory. The rate of increase of the stock of valuable ideas about technology and organization quadrupled with the coming of agriculture. We can see the coming of agriculture as the first major watershed in the story of very long-run human economic history.\n",
    "\n",
    "Moreover, over the next several thousand years there was definitely a two-heads-are-better-than-one phenomenon as more people applying their brains and communicating with each other further increased the rate of growth. We saw a further doubling of the proportional pace of growth of the human useful ideas stock with the coming of cities (and their power to dominate and concentrate resources), record-keeping, and reading 5000 years ago. We saw a further doubling 3000 years ago, with the coming of civilization: what some call the “axial age”.\n",
    "\n",
    "But then, after about the year one (probably better-dated to 150) according to the most-used current calendar, the proportional growth rate of the ideas stock dropped. Before the year one, we could say that humanity, considered as a time-binding anthology intelligence, was undergoing super-exponential growth in its knowledge and capabilities. After the year one—or 150–that was no longer true. We can see this arrival of the mid-first millennium Eurasian dark age—the late-antiquity pause—as a second watershed.\n",
    "\n",
    "Then, starting around 1500, we see three more watersheds:\n",
    "\n",
    "(1) The coming of the commercial revolution era and the knitting together economically of the entire world via ocean transport produced a renewed worldwide acceleration in the proportional pace of ideas-stock growth: roughly a quadrupling, to rates of growth that had never been seen outside of areas in the Mediterranean, Mesopotamia, or north China that were relatively small portions of the globe. \n",
    "\n",
    "(2) 1770 saw the coming of the industrial revolution era, at first very highly concentrated in the northwestern tip of Eurasian continent: it more than tripled the proportional rate of ideas stock growth from its already unprecedentedly high level. \n",
    "\n",
    "(3) Then, about a century later, with the coming (a) of full globalization as we know it, (b) of the industrial research lab to rationalize and routinize the creation and development of technologies, and (c) of the modern corporation to rationalize and routinize their global deployment, came the era of modern economic growth that we live in. Since 1870 or so, the proportional growth rate of the human ideas stock has not been the 0.035% per year of the first millennium and a half, or the 0.15% per year of the commercial revolution era, or even the 0.45% per year of the 1770 to 1870 industrial revolution era. It has, rather, been more than four times as great as even this last: more than 2% per year.\n",
    "\n",
    "That is the \"innovation\" part of very long-run human economic history since the invention of agriculture. How about the \"fecundity and demography\" part? And the \"resources\" part?\n",
    "\n",
    "It is a fact that the typical human of 1500 lived little or no better than the typical human of -3000. \n",
    "\n",
    "Atypical humans, of course, lived much better in 1500: Gilgamesh, King of Uruk in -3000, may or may not have been absolute master of thousands, but for him the consumption goods at his disposal we’re little more than bread and meat for nourishment, fleeces and simple textiles to lie on for comfort, and beer for amusement-Even to obtain cedarwood required, for Gilgamesh, a significant military expedition and struggle. \n",
    "\n",
    "But the typical human standard of living was set by Malthusian pressure: People sought to increase their numbers over the generations. But slow growth of technology limited the long run rate of population increase to perhaps twice the slow rate of ideas stock growth. What was the mechanism? Limited resources. Because of limited resources, more mouths meant each had to be fed off of a smaller plot of land. Even though each mouth comes with two hands, average productivity fell. That fall continued until nutrition was poor enough that disease and famine carried enough people away to limit population growth to the Malthusian warranted rate. That kept the bulk of humanity poor: a standard of living equivalent, roughly, to what the World Bank today would call $2.50 a day.\n",
    "\n",
    "With the growth acceleration of the commercial revolution 1500 to 1770, technology begin to gain a few steps on fecundity—the potato and maize-corn were big players here. \n",
    "\n",
    "With the 1770 to 1870 industrial revolution saw more. The world in 1870 had a previously-unimaginable 1.3 billion people. They livedf at a typical standard of not 2.50 but perhaps 4 a day.\n",
    "\n",
    "But it is the post-1870 modern economic growth that has seen the real explosion of wealth. And it has been coupled with the demographic transition. Humanity has decided it is rich enough to be able to afford to and to desire to restrict its fertility. So we now approach zero population growth.\n",
    "\n",
    "We now have almost 50 times as many people on the earth living almost 15 times as well as we had back in the year one.\n"
   ]
  },
  {
   "cell_type": "markdown",
   "metadata": {},
   "source": [
    "# 3. You are done!\n",
    "\n",
    "You're done with Problem set 1! Be sure to print it to pdf and send it to us!"
   ]
  }
 ],
 "metadata": {
  "anaconda-cloud": {},
  "kernelspec": {
   "display_name": "Python 3",
   "language": "python",
   "name": "python3"
  },
  "language_info": {
   "codemirror_mode": {
    "name": "ipython",
    "version": 3
   },
   "file_extension": ".py",
   "mimetype": "text/x-python",
   "name": "python",
   "nbconvert_exporter": "python",
   "pygments_lexer": "ipython3",
   "version": "3.7.7"
  }
 },
 "nbformat": 4,
 "nbformat_minor": 4
}
