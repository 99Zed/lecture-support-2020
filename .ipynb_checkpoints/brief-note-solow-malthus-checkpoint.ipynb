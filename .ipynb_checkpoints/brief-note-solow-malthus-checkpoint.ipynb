{
 "cells": [
  {
   "cell_type": "markdown",
   "metadata": {},
   "source": [
    "### <font color=\"880000\">A Brief Cheat-Sheet Note:</font>\n",
    "## <font color=\"880000\">On the Solow-Malthus Model for Understanding Pre-Industrial Economies</font>\n",
    "\n",
    "What you need to know:\n",
    "\n",
    "1. The Malthusian equilibrium level of productivity and income is (a) the zpg subsistence level of necessities consumption (b) times the taste for luxuries (including urbanization and an upper class, as well as middle-class conveniences) (c) bumped up to make the economy prosperous enough to support population growth at the rate (d) warranted by progress in technology and organization.\n",
    "\n",
    "2. The Malthusian equilibrium level of population is (a) the quotient of useful ideas divided by the zpg subsistence level of necessities consumption, (b) times the ratio of the savings rate (boosted by law-and-order and by any imperial peace) to the depreciation rate raised to the elasticity of production with respect to capital intensity, (c) divided by the taste for luxuries, (d) all raised to the salience γ of ideas as opposed to resources in productivity, with (e) two nuisance terms tagging along.\n",
    "\n",
    "----\n",
    "\n",
    "Define the economy's capital-intensity $ \\kappa $ as measured by the quotient of the economy's capital stock $ K $ and its level of income and production $ Y $:\n",
    "\n",
    ">$ \\kappa = \\frac{K}{Y} $\n",
    "\n",
    "The production function is the relationship between the economy's level of income and production $ Y $ and its three determinants: the labor force $ L $, the efficiency of labor $ E $, and capital intensity:\n",
    "\n",
    ">$ Y = \\kappa^\\theta E L  $\n",
    "\n",
    "or in per-worker terms:\n",
    "\n",
    ">$ y = \\kappa^\\theta E $\n",
    "\n",
    "(Why the $ \\kappa^\\theta $? Because then we get simple, exact solutions for the steady state and for dynamics:\n",
    "\n",
    ">$ \\kappa^* = \\frac{s}{n+g+\\delta} $\n",
    "\n",
    ">$ \\frac{d\\kappa}{dt} = -\\frac{n+g+\\delta}{1+\\theta} $"
   ]
  },
  {
   "cell_type": "markdown",
   "metadata": {},
   "source": [
    ")\n",
    "\n",
    "And then knowing $ \\kappa_t $, $ E_t $ and $L_t $, we can easily calculate:\n",
    "\n",
    ">$ Y_t = \\kappa_t^\\theta E_t L_t $\n",
    "\n",
    ">$ y_t = \\kappa_t^\\theta E_t  $\n",
    "\n",
    ">$ K_t = \\kappa_t Y_t $"
   ]
  },
  {
   "cell_type": "markdown",
   "metadata": {},
   "source": [
    "Back before the demographic transition:\n",
    "\n",
    ">$ g = h - \\frac{n}{\\gamma} $\n",
    "\n",
    ">$ n = \\beta  \\left( \\frac{y}{\\phi y^{sub}}-1 \\right) $\n",
    "\n",
    ">$ n^{*mal} = \\gamma h $ \n",
    "\n",
    ">$ y^{*mal} = \\phi y^{sub} \\left( 1 + \\frac{ \\gamma h}{\\beta}\\right) $\n",
    "\n",
    ">$ L_t^{*mal} = \\left[ \\left( \\frac{H_t}{y^{sub}} \\right) \\left( \\frac{s}{\\delta} \\right)^\\theta  \\left( \\frac{1}{\\phi} \\right) \\left[ \\frac{1}{(1+\\gamma h/\\delta)^\\theta} \\frac{1}{(1+\\gamma h/\\beta)} \\right] \\right]^\\gamma $ "
   ]
  },
  {
   "cell_type": "markdown",
   "metadata": {},
   "source": [
    "with:\n",
    "\n",
    "$ h $ :: rate of ideas growth   \n",
    "$ \\gamma $ :: labor efficiency-curbing   \n",
    "&nbsp; &nbsp; &nbsp; &nbsp; effect of resource scarcity   \n",
    "$ \\phi $ :: taste for \"luxuries\"    \n",
    "$ y^{sub} $ :: necessities consumption   \n",
    "&nbsp; &nbsp; &nbsp; &nbsp;  at which zpg   \n",
    "$ \\beta $ :: responsiveness of population   \n",
    "&nbsp; &nbsp; &nbsp; &nbsp; growth to prosperity"
   ]
  },
  {
   "cell_type": "markdown",
   "metadata": {},
   "source": [
    "What can we say about the speed of convergence? We know from the Solow growth model side that:\n",
    "\n",
    ">$ \\frac{d\\kappa}{dt} = -\\left( \\frac{n+g+\\delta}{1+\\theta} \\right)(\\kappa - \\kappa^*) $\n",
    "\n",
    "and very roughly from the Malthusian side:\n",
    "\n",
    ">$ \\frac{dL}{dt} = - \\frac{\\beta}{\\gamma}(L - L^*) $\n",
    "\n",
    "Convergence to the Malthusian population and income levels will be slower than, but of a not too dissimilar order of magnitude than, convergence to the Slow steady-state capital intensity."
   ]
  },
  {
   "cell_type": "markdown",
   "metadata": {},
   "source": [
    "&nbsp;\n",
    "\n",
    "### <font color=\"880000\">A Brief Cheat-Sheet Note: On the Solow-Malthus Model for Understanding Pre-Industrial Economies</font>\n",
    "\n",
    "<img src=\"https://tinyurl.com/20181029a-delong\" width=\"300\" style=\"float:right\" />\n",
    "\n",
    "* Ask me two questions…\n",
    "* Make two comments…\n",
    "* Further reading…\n",
    "\n",
    "<br clear=\"all\" />\n",
    "\n",
    "----\n",
    "\n",
    "* weblog support: <https://github.com/braddelong/lecture-support-2020/blob/master/brief-note-solow-malthus.ipynb>    \n",
    "* nbViewer: <https://nbviewer.jupyter.org/github/braddelong/lecture-support-2020/blob/master/brief-note-solow-malthus.ipynb>   \n",
    "* datahub: <datahub.berkeley.edu/hub/user-redirect/git-pull?repo=https%3A%2F%2Fgithub.com%2Fbraddelong%2Flecture-support-2020&subPath=brief-note-solow-malthus.ipynb&app=notebook>   \n",
    "* html: <https://www.bradford-delong.com/2020/01/a-brief-cheat-sheet-note-on-the-solow-malthus-model-for-understanding-pre-industrial-economies.html>\n",
    "\n",
    "&nbsp;\n",
    "\n",
    "----"
   ]
  }
 ],
 "metadata": {
  "kernelspec": {
   "display_name": "Python 3",
   "language": "python",
   "name": "python3"
  },
  "language_info": {
   "codemirror_mode": {
    "name": "ipython",
    "version": 3
   },
   "file_extension": ".py",
   "mimetype": "text/x-python",
   "name": "python",
   "nbconvert_exporter": "python",
   "pygments_lexer": "ipython3",
   "version": "3.7.4"
  }
 },
 "nbformat": 4,
 "nbformat_minor": 4
}
