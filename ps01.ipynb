{
 "cells": [
  {
   "cell_type": "code",
   "execution_count": 1,
   "metadata": {
    "deletable": false
   },
   "outputs": [
    {
     "name": "stdout",
     "output_type": "stream",
     "text": [
      "=====================================================================\n",
      "Assignment: Problem Set 1. The Very Long Run View\n",
      "OK, version v1.14.20\n",
      "=====================================================================\n",
      "\n"
     ]
    }
   ],
   "source": [
    "# Initialize OK\n",
    "from client.api.notebook import Notebook\n",
    "ok = Notebook('ps01.ok')"
   ]
  },
  {
   "cell_type": "markdown",
   "metadata": {
    "deletable": false
   },
   "source": [
    "# Problem Set 1. The Very Long Run View\n",
    "\n",
    "These problem set assignments are a required part of the course.\n",
    "\n",
    "Collaborating on the problem sets is more than okay—it is encouraged! Seek help from a classmate or an instructor or a roommate or a passerby when you get stuck! (Explaining things is beneficial, too—the best way to solidify your knowledge of a subject is to explain it.) \n",
    "\n",
    "But the work has to be your own: no cutting-&-pasting from others' problem sets, please! We want you to learn this stuff, and your fingers typing every keystroke is an important way of building muscle memory here.\n",
    "\n",
    "In this problem set, you will...\n",
    "\n",
    "1. take a look at the very long-term structure of human economic history\n",
    "2. take a look at the patterns of growth across countries over the long 20th century 1870-2016\n",
    "\n",
    "Let us get started!"
   ]
  },
  {
   "cell_type": "markdown",
   "metadata": {},
   "source": [
    "## 1. Preliminaries\n",
    "\n",
    "First, we set up the computing environment: "
   ]
  },
  {
   "cell_type": "code",
   "execution_count": 2,
   "metadata": {},
   "outputs": [],
   "source": [
    "# set up the computing environment: import libraries, & ensure\n",
    "# that graphs appear inline in the notebook & not in extra\n",
    "# windows:\n",
    "\n",
    "%matplotlib inline\n",
    "import numpy as np\n",
    "import pandas as pd\n",
    "import matplotlib as mpl\n",
    "import matplotlib.pyplot as plt"
   ]
  },
  {
   "cell_type": "markdown",
   "metadata": {},
   "source": [
    "Next we load in and organize our basic data—or, rather, guesses—of the very long term global structure of human economic history.\n",
    "\n",
    "We will use estimates of a very few quantities:\n",
    "\n",
    "* The year at which an observation is made or an era begins, which we will call $ t $ or `year`\n",
    "* The stock of useful human ideas about technology and organization, which we will call $ H $ or `human_ideas`\n",
    "* The level of labor efficiency or productivity, which we will call $ E $ or `labor_efficiency`\n",
    "* In this notetook, $ E $ will be the same as productivity or real income per capita, which we will call $ y $ or `income_level`\n",
    "* The level of human population, which we will call $ P $ or `population`\n",
    "\n",
    "Plus:\n",
    "\n",
    "* The initial year at which each of the eras we divide history into begins, which we will call $ t_{era} $ or `initial_year`\n",
    "* The span of time each era covers, which we will call `span`\n",
    "* The proportional growth rates over each era $ n $, $ g $, and $ h $ of human population $ P $, productivity and labor efficiency $ y $, and of the ideas stock $ H $"
   ]
  },
  {
   "cell_type": "code",
   "execution_count": 3,
   "metadata": {},
   "outputs": [],
   "source": [
    "# the \"data\" (actually, more like guesses) of the very long term\n",
    "# structure of human economic history. we feed it into a dataframe,\n",
    "# make sure that the dataframe knows that the year is an integer\n",
    "# & not a floating point number, & set up an extra variable \n",
    "# `initial_year`, to remind us of the starting point of all\n",
    "# of the periods into which we divide very long term human \n",
    "# economic history:\n",
    "\n",
    "long_run_growth_list = [\n",
    "    [-68000, 1, 1200, 0.1],\n",
    "    [-8000, 5, 1200, 2.5],\n",
    "    [-6000, 6.3, 900, 7],\n",
    "    [-3000, 9.2, 900, 15],\n",
    "    [-1000, 16.8, 900, 50],\n",
    "    [1, 30.9, 900, 170],\n",
    "    [800, 41.1, 900, 300],\n",
    "    [1500, 53, 900, 500],\n",
    "    [1770, 79.4, 1100, 750],\n",
    "    [1870, 123.5, 1300, 1300],\n",
    "    [2020, 2720.5, 11842, 7600]\n",
    "    ]\n",
    "\n",
    "long_run_growth_df = pd.DataFrame(\n",
    "  data=np.array(long_run_growth_list), columns = ['year', 'human_ideas', 'income_level', 'population']                             \n",
    "  )\n",
    "\n",
    "long_run_growth_df['year'] = long_run_growth_df['year'].apply(np.int64)\n",
    "initial_year = long_run_growth_df['year'][0:10]"
   ]
  },
  {
   "cell_type": "code",
   "execution_count": 4,
   "metadata": {},
   "outputs": [],
   "source": [
    "# now we calculate era lengths—spans—and growth rates over\n",
    "# our periods of real income per capita g, of population n,\n",
    "# & of the growth rate of the value of useful human ideas\n",
    "# about technology and organization h:\n",
    "\n",
    "span = []\n",
    "g = []\n",
    "h = []\n",
    "n = []\n",
    "\n",
    "for t in range(10):\n",
    "    span = span +[long_run_growth_df['year'][t+1]-long_run_growth_df['year'][t]]\n",
    "    h = h + [np.log(long_run_growth_df['human_ideas'][t+1]/long_run_growth_df['human_ideas'][t])/span[t]]\n",
    "    g = g + [np.log(long_run_growth_df['income_level'][t+1]/long_run_growth_df['income_level'][t])/span[t]]\n",
    "    n = n + [np.log(long_run_growth_df['population'][t+1]/long_run_growth_df['population'][t])/span[t]]\n",
    "    "
   ]
  },
  {
   "cell_type": "code",
   "execution_count": 5,
   "metadata": {},
   "outputs": [
    {
     "data": {
      "text/plain": [
       "year\n",
       "-68000     1200.0\n",
       "-8000      1200.0\n",
       "-6000       900.0\n",
       "-3000       900.0\n",
       "-1000       900.0\n",
       " 1          900.0\n",
       " 800        900.0\n",
       " 1500       900.0\n",
       " 1770      1100.0\n",
       " 1870      1300.0\n",
       " 2020     11842.0\n",
       "Name: income_level, dtype: float64"
      ]
     },
     "execution_count": 5,
     "metadata": {},
     "output_type": "execute_result"
    }
   ],
   "source": [
    "# finally, we tell the dataframe that the data are naturally\n",
    "# indexed by the year, & then check to make sure that\n",
    "# nothing has gone wrong yet:\n",
    "\n",
    "long_run_growth_df.set_index('year', inplace=True)\n",
    "\n",
    "long_run_growth_df['income_level']"
   ]
  },
  {
   "cell_type": "markdown",
   "metadata": {},
   "source": [
    "### 2. The most eagle's eye view"
   ]
  },
  {
   "cell_type": "code",
   "execution_count": 6,
   "metadata": {},
   "outputs": [
    {
     "data": {
      "text/plain": [
       "Text(0, 0.5, 'Annual Income per Capita, 2020 Dollars')"
      ]
     },
     "execution_count": 6,
     "metadata": {},
     "output_type": "execute_result"
    },
    {
     "data": {
      "image/png": "[encoded data removed]",
      "text/plain": [
       "<Figure size 432x288 with 1 Axes>"
      ]
     },
     "metadata": {
      "needs_background": "light"
     },
     "output_type": "display_data"
    }
   ],
   "source": [
    "long_run_growth_df['income_level'].plot()\n",
    "plt.title('Human Economic History: Wealth per Capita', size=20)\n",
    "plt.xlabel('Year')\n",
    "plt.ylabel('Annual Income per Capita, 2020 Dollars')"
   ]
  },
  {
   "cell_type": "code",
   "execution_count": 7,
   "metadata": {},
   "outputs": [
    {
     "data": {
      "text/plain": [
       "Text(0, 0.5, 'Millions')"
      ]
     },
     "execution_count": 7,
     "metadata": {},
     "output_type": "execute_result"
    },
    {
     "data": {
      "image/png": "[encoded data removed]",
      "text/plain": [
       "<Figure size 432x288 with 1 Axes>"
      ]
     },
     "metadata": {
      "needs_background": "light"
     },
     "output_type": "display_data"
    }
   ],
   "source": [
    "long_run_growth_df['population'].plot()\n",
    "plt.title('Human Economic History: Population', size=20)\n",
    "plt.xlabel('Year')\n",
    "plt.ylabel('Millions')\n",
    "                   "
   ]
  },
  {
   "cell_type": "code",
   "execution_count": 8,
   "metadata": {},
   "outputs": [
    {
     "data": {
      "text/plain": [
       "Text(0, 0.5, 'Index of Useful Ideas Stock')"
      ]
     },
     "execution_count": 8,
     "metadata": {},
     "output_type": "execute_result"
    },
    {
     "data": {
      "image/png": "[encoded data removed]",
      "text/plain": [
       "<Figure size 432x288 with 1 Axes>"
      ]
     },
     "metadata": {
      "needs_background": "light"
     },
     "output_type": "display_data"
    }
   ],
   "source": [
    "long_run_growth_df['human_ideas'].plot()\n",
    "plt.title('Human Economic History: Ideas', size=20)\n",
    "plt.xlabel('Year')\n",
    "plt.ylabel('Index of Useful Ideas Stock')"
   ]
  },
  {
   "cell_type": "markdown",
   "metadata": {},
   "source": [
    "Freaky, no?\n",
    "\n",
    "This is why U.C. Davis economic historian Greg Clark says that there is really only one graph that is important in economic history.\n",
    "\n",
    "After the spring of coronavirus, we are used to exponential growth processes—things that explode, but only after a time in which they gather force, and which look like straight line growth on a graph plotted on a logarithmic scale. Let us plot income levels, populations, and ideas stock values on log scales and see what we see:"
   ]
  },
  {
   "cell_type": "code",
   "execution_count": 9,
   "metadata": {},
   "outputs": [
    {
     "data": {
      "text/plain": [
       "Text(0, 0.5, 'Log Annual Income per Capita, 2020 Dollars')"
      ]
     },
     "execution_count": 9,
     "metadata": {},
     "output_type": "execute_result"
    },
    {
     "data": {
      "image/png": "[encoded data removed]",
      "text/plain": [
       "<Figure size 432x288 with 1 Axes>"
      ]
     },
     "metadata": {
      "needs_background": "light"
     },
     "output_type": "display_data"
    }
   ],
   "source": [
    "np.log(long_run_growth_df['income_level']).plot()\n",
    "plt.title('Human Economic History: Wealth', size=20)\n",
    "plt.xlabel('Year')\n",
    "plt.ylabel('Log Annual Income per Capita, 2020 Dollars')"
   ]
  },
  {
   "cell_type": "code",
   "execution_count": 10,
   "metadata": {},
   "outputs": [
    {
     "data": {
      "text/plain": [
       "Text(0, 0.5, 'Log Millions')"
      ]
     },
     "execution_count": 10,
     "metadata": {},
     "output_type": "execute_result"
    },
    {
     "data": {
      "image/png": "[encoded data removed]",
      "text/plain": [
       "<Figure size 432x288 with 1 Axes>"
      ]
     },
     "metadata": {
      "needs_background": "light"
     },
     "output_type": "display_data"
    }
   ],
   "source": [
    "np.log(long_run_growth_df['population']).plot()\n",
    "plt.title('Human Economic History: Population', size=20)\n",
    "plt.xlabel('Year')\n",
    "plt.ylabel('Log Millions')          "
   ]
  },
  {
   "cell_type": "code",
   "execution_count": 11,
   "metadata": {},
   "outputs": [
    {
     "data": {
      "text/plain": [
       "Text(0, 0.5, 'Log Index of Useful Ideas Stock')"
      ]
     },
     "execution_count": 11,
     "metadata": {},
     "output_type": "execute_result"
    },
    {
     "data": {
      "image/png": "[encoded data removed]",
      "text/plain": [
       "<Figure size 432x288 with 1 Axes>"
      ]
     },
     "metadata": {
      "needs_background": "light"
     },
     "output_type": "display_data"
    }
   ],
   "source": [
    "np.log(long_run_growth_df['human_ideas']).plot()\n",
    "plt.title('Human Economic History: Ideas', size=20)\n",
    "plt.xlabel('Year')\n",
    "plt.ylabel('Log Index of Useful Ideas Stock')"
   ]
  },
  {
   "cell_type": "code",
   "execution_count": 12,
   "metadata": {},
   "outputs": [
    {
     "data": {
      "text/html": [
       "<div>\n",
       "<style scoped>\n",
       "    .dataframe tbody tr th:only-of-type {\n",
       "        vertical-align: middle;\n",
       "    }\n",
       "\n",
       "    .dataframe tbody tr th {\n",
       "        vertical-align: top;\n",
       "    }\n",
       "\n",
       "    .dataframe thead th {\n",
       "        text-align: right;\n",
       "    }\n",
       "</style>\n",
       "<table border=\"1\" class=\"dataframe\">\n",
       "  <thead>\n",
       "    <tr style=\"text-align: right;\">\n",
       "      <th></th>\n",
       "      <th>human_ideas</th>\n",
       "      <th>income_level</th>\n",
       "      <th>population</th>\n",
       "    </tr>\n",
       "    <tr>\n",
       "      <th>year</th>\n",
       "      <th></th>\n",
       "      <th></th>\n",
       "      <th></th>\n",
       "    </tr>\n",
       "  </thead>\n",
       "  <tbody>\n",
       "    <tr>\n",
       "      <th>-68000</th>\n",
       "      <td>1.0</td>\n",
       "      <td>1200.0</td>\n",
       "      <td>0.1</td>\n",
       "    </tr>\n",
       "    <tr>\n",
       "      <th>-8000</th>\n",
       "      <td>5.0</td>\n",
       "      <td>1200.0</td>\n",
       "      <td>2.5</td>\n",
       "    </tr>\n",
       "    <tr>\n",
       "      <th>-6000</th>\n",
       "      <td>6.3</td>\n",
       "      <td>900.0</td>\n",
       "      <td>7.0</td>\n",
       "    </tr>\n",
       "    <tr>\n",
       "      <th>-3000</th>\n",
       "      <td>9.2</td>\n",
       "      <td>900.0</td>\n",
       "      <td>15.0</td>\n",
       "    </tr>\n",
       "    <tr>\n",
       "      <th>-1000</th>\n",
       "      <td>16.8</td>\n",
       "      <td>900.0</td>\n",
       "      <td>50.0</td>\n",
       "    </tr>\n",
       "    <tr>\n",
       "      <th>1</th>\n",
       "      <td>30.9</td>\n",
       "      <td>900.0</td>\n",
       "      <td>170.0</td>\n",
       "    </tr>\n",
       "    <tr>\n",
       "      <th>800</th>\n",
       "      <td>41.1</td>\n",
       "      <td>900.0</td>\n",
       "      <td>300.0</td>\n",
       "    </tr>\n",
       "    <tr>\n",
       "      <th>1500</th>\n",
       "      <td>53.0</td>\n",
       "      <td>900.0</td>\n",
       "      <td>500.0</td>\n",
       "    </tr>\n",
       "    <tr>\n",
       "      <th>1770</th>\n",
       "      <td>79.4</td>\n",
       "      <td>1100.0</td>\n",
       "      <td>750.0</td>\n",
       "    </tr>\n",
       "    <tr>\n",
       "      <th>1870</th>\n",
       "      <td>123.5</td>\n",
       "      <td>1300.0</td>\n",
       "      <td>1300.0</td>\n",
       "    </tr>\n",
       "    <tr>\n",
       "      <th>2020</th>\n",
       "      <td>2720.5</td>\n",
       "      <td>11842.0</td>\n",
       "      <td>7600.0</td>\n",
       "    </tr>\n",
       "  </tbody>\n",
       "</table>\n",
       "</div>"
      ],
      "text/plain": [
       "        human_ideas  income_level  population\n",
       "year                                         \n",
       "-68000          1.0        1200.0         0.1\n",
       "-8000           5.0        1200.0         2.5\n",
       "-6000           6.3         900.0         7.0\n",
       "-3000           9.2         900.0        15.0\n",
       "-1000          16.8         900.0        50.0\n",
       " 1             30.9         900.0       170.0\n",
       " 800           41.1         900.0       300.0\n",
       " 1500          53.0         900.0       500.0\n",
       " 1770          79.4        1100.0       750.0\n",
       " 1870         123.5        1300.0      1300.0\n",
       " 2020        2720.5       11842.0      7600.0"
      ]
     },
     "execution_count": 12,
     "metadata": {},
     "output_type": "execute_result"
    }
   ],
   "source": [
    "# we have seen that we can simply print a dataframe by putting its name by itself\n",
    "# on the last line of a code cell:\n",
    "\n",
    "long_run_growth_df"
   ]
  },
  {
   "cell_type": "code",
   "execution_count": 13,
   "metadata": {},
   "outputs": [
    {
     "data": {
      "text/html": [
       "<style  type=\"text/css\" >\n",
       "</style><table id=\"T_c6c26f26_9c53_11ea_b207_3e22fb6c5c23\" ><thead>    <tr>        <th class=\"blank level0\" ></th>        <th class=\"col_heading level0 col0\" >human_ideas</th>        <th class=\"col_heading level0 col1\" >income_level</th>        <th class=\"col_heading level0 col2\" >population</th>    </tr>    <tr>        <th class=\"index_name level0\" >year</th>        <th class=\"blank\" ></th>        <th class=\"blank\" ></th>        <th class=\"blank\" ></th>    </tr></thead><tbody>\n",
       "                <tr>\n",
       "                        <th id=\"T_c6c26f26_9c53_11ea_b207_3e22fb6c5c23level0_row0\" class=\"row_heading level0 row0\" >-68000</th>\n",
       "                        <td id=\"T_c6c26f26_9c53_11ea_b207_3e22fb6c5c23row0_col0\" class=\"data row0 col0\" >1</td>\n",
       "                        <td id=\"T_c6c26f26_9c53_11ea_b207_3e22fb6c5c23row0_col1\" class=\"data row0 col1\" >$1,200</td>\n",
       "                        <td id=\"T_c6c26f26_9c53_11ea_b207_3e22fb6c5c23row0_col2\" class=\"data row0 col2\" >0.1</td>\n",
       "            </tr>\n",
       "            <tr>\n",
       "                        <th id=\"T_c6c26f26_9c53_11ea_b207_3e22fb6c5c23level0_row1\" class=\"row_heading level0 row1\" >-8000</th>\n",
       "                        <td id=\"T_c6c26f26_9c53_11ea_b207_3e22fb6c5c23row1_col0\" class=\"data row1 col0\" >5</td>\n",
       "                        <td id=\"T_c6c26f26_9c53_11ea_b207_3e22fb6c5c23row1_col1\" class=\"data row1 col1\" >$1,200</td>\n",
       "                        <td id=\"T_c6c26f26_9c53_11ea_b207_3e22fb6c5c23row1_col2\" class=\"data row1 col2\" >2.5</td>\n",
       "            </tr>\n",
       "            <tr>\n",
       "                        <th id=\"T_c6c26f26_9c53_11ea_b207_3e22fb6c5c23level0_row2\" class=\"row_heading level0 row2\" >-6000</th>\n",
       "                        <td id=\"T_c6c26f26_9c53_11ea_b207_3e22fb6c5c23row2_col0\" class=\"data row2 col0\" >6</td>\n",
       "                        <td id=\"T_c6c26f26_9c53_11ea_b207_3e22fb6c5c23row2_col1\" class=\"data row2 col1\" >$900</td>\n",
       "                        <td id=\"T_c6c26f26_9c53_11ea_b207_3e22fb6c5c23row2_col2\" class=\"data row2 col2\" >7.0</td>\n",
       "            </tr>\n",
       "            <tr>\n",
       "                        <th id=\"T_c6c26f26_9c53_11ea_b207_3e22fb6c5c23level0_row3\" class=\"row_heading level0 row3\" >-3000</th>\n",
       "                        <td id=\"T_c6c26f26_9c53_11ea_b207_3e22fb6c5c23row3_col0\" class=\"data row3 col0\" >9</td>\n",
       "                        <td id=\"T_c6c26f26_9c53_11ea_b207_3e22fb6c5c23row3_col1\" class=\"data row3 col1\" >$900</td>\n",
       "                        <td id=\"T_c6c26f26_9c53_11ea_b207_3e22fb6c5c23row3_col2\" class=\"data row3 col2\" >15.0</td>\n",
       "            </tr>\n",
       "            <tr>\n",
       "                        <th id=\"T_c6c26f26_9c53_11ea_b207_3e22fb6c5c23level0_row4\" class=\"row_heading level0 row4\" >-1000</th>\n",
       "                        <td id=\"T_c6c26f26_9c53_11ea_b207_3e22fb6c5c23row4_col0\" class=\"data row4 col0\" >17</td>\n",
       "                        <td id=\"T_c6c26f26_9c53_11ea_b207_3e22fb6c5c23row4_col1\" class=\"data row4 col1\" >$900</td>\n",
       "                        <td id=\"T_c6c26f26_9c53_11ea_b207_3e22fb6c5c23row4_col2\" class=\"data row4 col2\" >50.0</td>\n",
       "            </tr>\n",
       "            <tr>\n",
       "                        <th id=\"T_c6c26f26_9c53_11ea_b207_3e22fb6c5c23level0_row5\" class=\"row_heading level0 row5\" >1</th>\n",
       "                        <td id=\"T_c6c26f26_9c53_11ea_b207_3e22fb6c5c23row5_col0\" class=\"data row5 col0\" >31</td>\n",
       "                        <td id=\"T_c6c26f26_9c53_11ea_b207_3e22fb6c5c23row5_col1\" class=\"data row5 col1\" >$900</td>\n",
       "                        <td id=\"T_c6c26f26_9c53_11ea_b207_3e22fb6c5c23row5_col2\" class=\"data row5 col2\" >170.0</td>\n",
       "            </tr>\n",
       "            <tr>\n",
       "                        <th id=\"T_c6c26f26_9c53_11ea_b207_3e22fb6c5c23level0_row6\" class=\"row_heading level0 row6\" >800</th>\n",
       "                        <td id=\"T_c6c26f26_9c53_11ea_b207_3e22fb6c5c23row6_col0\" class=\"data row6 col0\" >41</td>\n",
       "                        <td id=\"T_c6c26f26_9c53_11ea_b207_3e22fb6c5c23row6_col1\" class=\"data row6 col1\" >$900</td>\n",
       "                        <td id=\"T_c6c26f26_9c53_11ea_b207_3e22fb6c5c23row6_col2\" class=\"data row6 col2\" >300.0</td>\n",
       "            </tr>\n",
       "            <tr>\n",
       "                        <th id=\"T_c6c26f26_9c53_11ea_b207_3e22fb6c5c23level0_row7\" class=\"row_heading level0 row7\" >1500</th>\n",
       "                        <td id=\"T_c6c26f26_9c53_11ea_b207_3e22fb6c5c23row7_col0\" class=\"data row7 col0\" >53</td>\n",
       "                        <td id=\"T_c6c26f26_9c53_11ea_b207_3e22fb6c5c23row7_col1\" class=\"data row7 col1\" >$900</td>\n",
       "                        <td id=\"T_c6c26f26_9c53_11ea_b207_3e22fb6c5c23row7_col2\" class=\"data row7 col2\" >500.0</td>\n",
       "            </tr>\n",
       "            <tr>\n",
       "                        <th id=\"T_c6c26f26_9c53_11ea_b207_3e22fb6c5c23level0_row8\" class=\"row_heading level0 row8\" >1770</th>\n",
       "                        <td id=\"T_c6c26f26_9c53_11ea_b207_3e22fb6c5c23row8_col0\" class=\"data row8 col0\" >79</td>\n",
       "                        <td id=\"T_c6c26f26_9c53_11ea_b207_3e22fb6c5c23row8_col1\" class=\"data row8 col1\" >$1,100</td>\n",
       "                        <td id=\"T_c6c26f26_9c53_11ea_b207_3e22fb6c5c23row8_col2\" class=\"data row8 col2\" >750.0</td>\n",
       "            </tr>\n",
       "            <tr>\n",
       "                        <th id=\"T_c6c26f26_9c53_11ea_b207_3e22fb6c5c23level0_row9\" class=\"row_heading level0 row9\" >1870</th>\n",
       "                        <td id=\"T_c6c26f26_9c53_11ea_b207_3e22fb6c5c23row9_col0\" class=\"data row9 col0\" >124</td>\n",
       "                        <td id=\"T_c6c26f26_9c53_11ea_b207_3e22fb6c5c23row9_col1\" class=\"data row9 col1\" >$1,300</td>\n",
       "                        <td id=\"T_c6c26f26_9c53_11ea_b207_3e22fb6c5c23row9_col2\" class=\"data row9 col2\" >1,300.0</td>\n",
       "            </tr>\n",
       "            <tr>\n",
       "                        <th id=\"T_c6c26f26_9c53_11ea_b207_3e22fb6c5c23level0_row10\" class=\"row_heading level0 row10\" >2020</th>\n",
       "                        <td id=\"T_c6c26f26_9c53_11ea_b207_3e22fb6c5c23row10_col0\" class=\"data row10 col0\" >2,720</td>\n",
       "                        <td id=\"T_c6c26f26_9c53_11ea_b207_3e22fb6c5c23row10_col1\" class=\"data row10 col1\" >$11,842</td>\n",
       "                        <td id=\"T_c6c26f26_9c53_11ea_b207_3e22fb6c5c23row10_col2\" class=\"data row10 col2\" >7,600.0</td>\n",
       "            </tr>\n",
       "    </tbody></table>"
      ],
      "text/plain": [
       "<pandas.io.formats.style.Styler at 0x11dbae250>"
      ]
     },
     "execution_count": 13,
     "metadata": {},
     "output_type": "execute_result"
    }
   ],
   "source": [
    "# we can make the printing prettier by defining a format dictionary\n",
    "# `format_dict` (or whatever other name we choose) and feeding it\n",
    "# to the dataframe, telling the dataframe that we want it to evaluate\n",
    "# itself using its `.style` method, and that `style()` should use\n",
    "# its `.format()` submethod to understand what the `format_dict`\n",
    "# is asking it to do:\n",
    "\n",
    "format_dict = {'year': '{d}', 'human_ideas': '{0:,.0f}', \n",
    "    'income_level': '${0:,.0f}', 'population': '{0:,.1f}'}\n",
    "\n",
    "long_run_growth_df.style.format(format_dict)"
   ]
  },
  {
   "cell_type": "code",
   "execution_count": 16,
   "metadata": {},
   "outputs": [
    {
     "data": {
      "text/html": [
       "<div>\n",
       "<style scoped>\n",
       "    .dataframe tbody tr th:only-of-type {\n",
       "        vertical-align: middle;\n",
       "    }\n",
       "\n",
       "    .dataframe tbody tr th {\n",
       "        vertical-align: top;\n",
       "    }\n",
       "\n",
       "    .dataframe thead th {\n",
       "        text-align: right;\n",
       "    }\n",
       "</style>\n",
       "<table border=\"1\" class=\"dataframe\">\n",
       "  <thead>\n",
       "    <tr style=\"text-align: right;\">\n",
       "      <th></th>\n",
       "      <th>span</th>\n",
       "      <th>h</th>\n",
       "      <th>g</th>\n",
       "      <th>n</th>\n",
       "    </tr>\n",
       "    <tr>\n",
       "      <th>initial_year</th>\n",
       "      <th></th>\n",
       "      <th></th>\n",
       "      <th></th>\n",
       "      <th></th>\n",
       "    </tr>\n",
       "  </thead>\n",
       "  <tbody>\n",
       "    <tr>\n",
       "      <th>-68000</th>\n",
       "      <td>60000.0</td>\n",
       "      <td>0.000027</td>\n",
       "      <td>0.000000</td>\n",
       "      <td>0.000054</td>\n",
       "    </tr>\n",
       "    <tr>\n",
       "      <th>-8000</th>\n",
       "      <td>2000.0</td>\n",
       "      <td>0.000116</td>\n",
       "      <td>-0.000144</td>\n",
       "      <td>0.000515</td>\n",
       "    </tr>\n",
       "    <tr>\n",
       "      <th>-6000</th>\n",
       "      <td>3000.0</td>\n",
       "      <td>0.000126</td>\n",
       "      <td>0.000000</td>\n",
       "      <td>0.000254</td>\n",
       "    </tr>\n",
       "    <tr>\n",
       "      <th>-3000</th>\n",
       "      <td>2000.0</td>\n",
       "      <td>0.000301</td>\n",
       "      <td>0.000000</td>\n",
       "      <td>0.000602</td>\n",
       "    </tr>\n",
       "    <tr>\n",
       "      <th>-1000</th>\n",
       "      <td>1001.0</td>\n",
       "      <td>0.000609</td>\n",
       "      <td>0.000000</td>\n",
       "      <td>0.001223</td>\n",
       "    </tr>\n",
       "    <tr>\n",
       "      <th>1</th>\n",
       "      <td>799.0</td>\n",
       "      <td>0.000357</td>\n",
       "      <td>0.000000</td>\n",
       "      <td>0.000711</td>\n",
       "    </tr>\n",
       "    <tr>\n",
       "      <th>800</th>\n",
       "      <td>700.0</td>\n",
       "      <td>0.000363</td>\n",
       "      <td>0.000000</td>\n",
       "      <td>0.000730</td>\n",
       "    </tr>\n",
       "    <tr>\n",
       "      <th>1500</th>\n",
       "      <td>270.0</td>\n",
       "      <td>0.001497</td>\n",
       "      <td>0.000743</td>\n",
       "      <td>0.001502</td>\n",
       "    </tr>\n",
       "    <tr>\n",
       "      <th>1770</th>\n",
       "      <td>100.0</td>\n",
       "      <td>0.004417</td>\n",
       "      <td>0.001671</td>\n",
       "      <td>0.005500</td>\n",
       "    </tr>\n",
       "    <tr>\n",
       "      <th>1870</th>\n",
       "      <td>150.0</td>\n",
       "      <td>0.020616</td>\n",
       "      <td>0.014729</td>\n",
       "      <td>0.011772</td>\n",
       "    </tr>\n",
       "  </tbody>\n",
       "</table>\n",
       "</div>"
      ],
      "text/plain": [
       "                 span         h         g         n\n",
       "initial_year                                       \n",
       "-68000        60000.0  0.000027  0.000000  0.000054\n",
       "-8000          2000.0  0.000116 -0.000144  0.000515\n",
       "-6000          3000.0  0.000126  0.000000  0.000254\n",
       "-3000          2000.0  0.000301  0.000000  0.000602\n",
       "-1000          1001.0  0.000609  0.000000  0.001223\n",
       " 1              799.0  0.000357  0.000000  0.000711\n",
       " 800            700.0  0.000363  0.000000  0.000730\n",
       " 1500           270.0  0.001497  0.000743  0.001502\n",
       " 1770           100.0  0.004417  0.001671  0.005500\n",
       " 1870           150.0  0.020616  0.014729  0.011772"
      ]
     },
     "execution_count": 16,
     "metadata": {},
     "output_type": "execute_result"
    }
   ],
   "source": [
    "# remember those growth rates we calculated? we can stuff them\n",
    "# into their own dataframe and take a look:\n",
    "\n",
    "long_run_growth_rates_df = pd.DataFrame(\n",
    "    data=np.array([initial_year, span, h, g, n]).transpose(),\n",
    "    columns = ['initial_year', 'span', 'h', 'g', 'n'])\n",
    "\n",
    "long_run_growth_rates_df['initial_year'] = long_run_growth_rates_df['initial_year'].apply(np.int64)\n",
    "long_run_growth_rates_df.set_index('initial_year', inplace=True)\n",
    "\n",
    "long_run_growth_rates_df"
   ]
  },
  {
   "cell_type": "code",
   "execution_count": 17,
   "metadata": {},
   "outputs": [
    {
     "data": {
      "text/html": [
       "<style  type=\"text/css\" >\n",
       "</style><table id=\"T_1e1ca3a4_9c54_11ea_b207_3e22fb6c5c23\" ><thead>    <tr>        <th class=\"blank level0\" ></th>        <th class=\"col_heading level0 col0\" >span</th>        <th class=\"col_heading level0 col1\" >h</th>        <th class=\"col_heading level0 col2\" >g</th>        <th class=\"col_heading level0 col3\" >n</th>    </tr>    <tr>        <th class=\"index_name level0\" >initial_year</th>        <th class=\"blank\" ></th>        <th class=\"blank\" ></th>        <th class=\"blank\" ></th>        <th class=\"blank\" ></th>    </tr></thead><tbody>\n",
       "                <tr>\n",
       "                        <th id=\"T_1e1ca3a4_9c54_11ea_b207_3e22fb6c5c23level0_row0\" class=\"row_heading level0 row0\" >-68000</th>\n",
       "                        <td id=\"T_1e1ca3a4_9c54_11ea_b207_3e22fb6c5c23row0_col0\" class=\"data row0 col0\" >60000</td>\n",
       "                        <td id=\"T_1e1ca3a4_9c54_11ea_b207_3e22fb6c5c23row0_col1\" class=\"data row0 col1\" >0.003%</td>\n",
       "                        <td id=\"T_1e1ca3a4_9c54_11ea_b207_3e22fb6c5c23row0_col2\" class=\"data row0 col2\" >0.00%</td>\n",
       "                        <td id=\"T_1e1ca3a4_9c54_11ea_b207_3e22fb6c5c23row0_col3\" class=\"data row0 col3\" >0.01%</td>\n",
       "            </tr>\n",
       "            <tr>\n",
       "                        <th id=\"T_1e1ca3a4_9c54_11ea_b207_3e22fb6c5c23level0_row1\" class=\"row_heading level0 row1\" >-8000</th>\n",
       "                        <td id=\"T_1e1ca3a4_9c54_11ea_b207_3e22fb6c5c23row1_col0\" class=\"data row1 col0\" >2000</td>\n",
       "                        <td id=\"T_1e1ca3a4_9c54_11ea_b207_3e22fb6c5c23row1_col1\" class=\"data row1 col1\" >0.012%</td>\n",
       "                        <td id=\"T_1e1ca3a4_9c54_11ea_b207_3e22fb6c5c23row1_col2\" class=\"data row1 col2\" >-0.01%</td>\n",
       "                        <td id=\"T_1e1ca3a4_9c54_11ea_b207_3e22fb6c5c23row1_col3\" class=\"data row1 col3\" >0.05%</td>\n",
       "            </tr>\n",
       "            <tr>\n",
       "                        <th id=\"T_1e1ca3a4_9c54_11ea_b207_3e22fb6c5c23level0_row2\" class=\"row_heading level0 row2\" >-6000</th>\n",
       "                        <td id=\"T_1e1ca3a4_9c54_11ea_b207_3e22fb6c5c23row2_col0\" class=\"data row2 col0\" >3000</td>\n",
       "                        <td id=\"T_1e1ca3a4_9c54_11ea_b207_3e22fb6c5c23row2_col1\" class=\"data row2 col1\" >0.013%</td>\n",
       "                        <td id=\"T_1e1ca3a4_9c54_11ea_b207_3e22fb6c5c23row2_col2\" class=\"data row2 col2\" >0.00%</td>\n",
       "                        <td id=\"T_1e1ca3a4_9c54_11ea_b207_3e22fb6c5c23row2_col3\" class=\"data row2 col3\" >0.03%</td>\n",
       "            </tr>\n",
       "            <tr>\n",
       "                        <th id=\"T_1e1ca3a4_9c54_11ea_b207_3e22fb6c5c23level0_row3\" class=\"row_heading level0 row3\" >-3000</th>\n",
       "                        <td id=\"T_1e1ca3a4_9c54_11ea_b207_3e22fb6c5c23row3_col0\" class=\"data row3 col0\" >2000</td>\n",
       "                        <td id=\"T_1e1ca3a4_9c54_11ea_b207_3e22fb6c5c23row3_col1\" class=\"data row3 col1\" >0.030%</td>\n",
       "                        <td id=\"T_1e1ca3a4_9c54_11ea_b207_3e22fb6c5c23row3_col2\" class=\"data row3 col2\" >0.00%</td>\n",
       "                        <td id=\"T_1e1ca3a4_9c54_11ea_b207_3e22fb6c5c23row3_col3\" class=\"data row3 col3\" >0.06%</td>\n",
       "            </tr>\n",
       "            <tr>\n",
       "                        <th id=\"T_1e1ca3a4_9c54_11ea_b207_3e22fb6c5c23level0_row4\" class=\"row_heading level0 row4\" >-1000</th>\n",
       "                        <td id=\"T_1e1ca3a4_9c54_11ea_b207_3e22fb6c5c23row4_col0\" class=\"data row4 col0\" >1001</td>\n",
       "                        <td id=\"T_1e1ca3a4_9c54_11ea_b207_3e22fb6c5c23row4_col1\" class=\"data row4 col1\" >0.061%</td>\n",
       "                        <td id=\"T_1e1ca3a4_9c54_11ea_b207_3e22fb6c5c23row4_col2\" class=\"data row4 col2\" >0.00%</td>\n",
       "                        <td id=\"T_1e1ca3a4_9c54_11ea_b207_3e22fb6c5c23row4_col3\" class=\"data row4 col3\" >0.12%</td>\n",
       "            </tr>\n",
       "            <tr>\n",
       "                        <th id=\"T_1e1ca3a4_9c54_11ea_b207_3e22fb6c5c23level0_row5\" class=\"row_heading level0 row5\" >1</th>\n",
       "                        <td id=\"T_1e1ca3a4_9c54_11ea_b207_3e22fb6c5c23row5_col0\" class=\"data row5 col0\" >799</td>\n",
       "                        <td id=\"T_1e1ca3a4_9c54_11ea_b207_3e22fb6c5c23row5_col1\" class=\"data row5 col1\" >0.036%</td>\n",
       "                        <td id=\"T_1e1ca3a4_9c54_11ea_b207_3e22fb6c5c23row5_col2\" class=\"data row5 col2\" >0.00%</td>\n",
       "                        <td id=\"T_1e1ca3a4_9c54_11ea_b207_3e22fb6c5c23row5_col3\" class=\"data row5 col3\" >0.07%</td>\n",
       "            </tr>\n",
       "            <tr>\n",
       "                        <th id=\"T_1e1ca3a4_9c54_11ea_b207_3e22fb6c5c23level0_row6\" class=\"row_heading level0 row6\" >800</th>\n",
       "                        <td id=\"T_1e1ca3a4_9c54_11ea_b207_3e22fb6c5c23row6_col0\" class=\"data row6 col0\" >700</td>\n",
       "                        <td id=\"T_1e1ca3a4_9c54_11ea_b207_3e22fb6c5c23row6_col1\" class=\"data row6 col1\" >0.036%</td>\n",
       "                        <td id=\"T_1e1ca3a4_9c54_11ea_b207_3e22fb6c5c23row6_col2\" class=\"data row6 col2\" >0.00%</td>\n",
       "                        <td id=\"T_1e1ca3a4_9c54_11ea_b207_3e22fb6c5c23row6_col3\" class=\"data row6 col3\" >0.07%</td>\n",
       "            </tr>\n",
       "            <tr>\n",
       "                        <th id=\"T_1e1ca3a4_9c54_11ea_b207_3e22fb6c5c23level0_row7\" class=\"row_heading level0 row7\" >1500</th>\n",
       "                        <td id=\"T_1e1ca3a4_9c54_11ea_b207_3e22fb6c5c23row7_col0\" class=\"data row7 col0\" >270</td>\n",
       "                        <td id=\"T_1e1ca3a4_9c54_11ea_b207_3e22fb6c5c23row7_col1\" class=\"data row7 col1\" >0.150%</td>\n",
       "                        <td id=\"T_1e1ca3a4_9c54_11ea_b207_3e22fb6c5c23row7_col2\" class=\"data row7 col2\" >0.07%</td>\n",
       "                        <td id=\"T_1e1ca3a4_9c54_11ea_b207_3e22fb6c5c23row7_col3\" class=\"data row7 col3\" >0.15%</td>\n",
       "            </tr>\n",
       "            <tr>\n",
       "                        <th id=\"T_1e1ca3a4_9c54_11ea_b207_3e22fb6c5c23level0_row8\" class=\"row_heading level0 row8\" >1770</th>\n",
       "                        <td id=\"T_1e1ca3a4_9c54_11ea_b207_3e22fb6c5c23row8_col0\" class=\"data row8 col0\" >100</td>\n",
       "                        <td id=\"T_1e1ca3a4_9c54_11ea_b207_3e22fb6c5c23row8_col1\" class=\"data row8 col1\" >0.442%</td>\n",
       "                        <td id=\"T_1e1ca3a4_9c54_11ea_b207_3e22fb6c5c23row8_col2\" class=\"data row8 col2\" >0.17%</td>\n",
       "                        <td id=\"T_1e1ca3a4_9c54_11ea_b207_3e22fb6c5c23row8_col3\" class=\"data row8 col3\" >0.55%</td>\n",
       "            </tr>\n",
       "            <tr>\n",
       "                        <th id=\"T_1e1ca3a4_9c54_11ea_b207_3e22fb6c5c23level0_row9\" class=\"row_heading level0 row9\" >1870</th>\n",
       "                        <td id=\"T_1e1ca3a4_9c54_11ea_b207_3e22fb6c5c23row9_col0\" class=\"data row9 col0\" >150</td>\n",
       "                        <td id=\"T_1e1ca3a4_9c54_11ea_b207_3e22fb6c5c23row9_col1\" class=\"data row9 col1\" >2.062%</td>\n",
       "                        <td id=\"T_1e1ca3a4_9c54_11ea_b207_3e22fb6c5c23row9_col2\" class=\"data row9 col2\" >1.47%</td>\n",
       "                        <td id=\"T_1e1ca3a4_9c54_11ea_b207_3e22fb6c5c23row9_col3\" class=\"data row9 col3\" >1.18%</td>\n",
       "            </tr>\n",
       "    </tbody></table>"
      ],
      "text/plain": [
       "<pandas.io.formats.style.Styler at 0x11e592090>"
      ]
     },
     "execution_count": 17,
     "metadata": {},
     "output_type": "execute_result"
    }
   ],
   "source": [
    "# here making the printing prettier really matters—for us humans,\n",
    "# at least, as we try to read what is going on:\n",
    "\n",
    "format_dict = { 'span': '{0:.0f}', 'h': '{0:,.3%}', \n",
    "    'g': '{0:,.2%}', 'n': '{0:,.2%}'}\n",
    "\n",
    "long_run_growth_rates_df.style.format(format_dict)"
   ]
  },
  {
   "cell_type": "code",
   "execution_count": 19,
   "metadata": {},
   "outputs": [
    {
     "data": {
      "text/html": [
       "<style  type=\"text/css\" >\n",
       "</style><table id=\"T_3c3f99fe_9c54_11ea_b207_3e22fb6c5c23\" ><thead>    <tr>        <th class=\"blank level0\" ></th>        <th class=\"col_heading level0 col0\" >human_ideas</th>        <th class=\"col_heading level0 col1\" >income_level</th>        <th class=\"col_heading level0 col2\" >population</th>        <th class=\"col_heading level0 col3\" >eras</th>    </tr>    <tr>        <th class=\"index_name level0\" >year</th>        <th class=\"blank\" ></th>        <th class=\"blank\" ></th>        <th class=\"blank\" ></th>        <th class=\"blank\" ></th>    </tr></thead><tbody>\n",
       "                <tr>\n",
       "                        <th id=\"T_3c3f99fe_9c54_11ea_b207_3e22fb6c5c23level0_row0\" class=\"row_heading level0 row0\" >-68000</th>\n",
       "                        <td id=\"T_3c3f99fe_9c54_11ea_b207_3e22fb6c5c23row0_col0\" class=\"data row0 col0\" >1</td>\n",
       "                        <td id=\"T_3c3f99fe_9c54_11ea_b207_3e22fb6c5c23row0_col1\" class=\"data row0 col1\" >$1,200</td>\n",
       "                        <td id=\"T_3c3f99fe_9c54_11ea_b207_3e22fb6c5c23row0_col2\" class=\"data row0 col2\" >0.1</td>\n",
       "                        <td id=\"T_3c3f99fe_9c54_11ea_b207_3e22fb6c5c23row0_col3\" class=\"data row0 col3\" >speciation? language?</td>\n",
       "            </tr>\n",
       "            <tr>\n",
       "                        <th id=\"T_3c3f99fe_9c54_11ea_b207_3e22fb6c5c23level0_row1\" class=\"row_heading level0 row1\" >-8000</th>\n",
       "                        <td id=\"T_3c3f99fe_9c54_11ea_b207_3e22fb6c5c23row1_col0\" class=\"data row1 col0\" >5</td>\n",
       "                        <td id=\"T_3c3f99fe_9c54_11ea_b207_3e22fb6c5c23row1_col1\" class=\"data row1 col1\" >$1,200</td>\n",
       "                        <td id=\"T_3c3f99fe_9c54_11ea_b207_3e22fb6c5c23row1_col2\" class=\"data row1 col2\" >2.5</td>\n",
       "                        <td id=\"T_3c3f99fe_9c54_11ea_b207_3e22fb6c5c23row1_col3\" class=\"data row1 col3\" >agriculture & herding</td>\n",
       "            </tr>\n",
       "            <tr>\n",
       "                        <th id=\"T_3c3f99fe_9c54_11ea_b207_3e22fb6c5c23level0_row2\" class=\"row_heading level0 row2\" >-6000</th>\n",
       "                        <td id=\"T_3c3f99fe_9c54_11ea_b207_3e22fb6c5c23row2_col0\" class=\"data row2 col0\" >6</td>\n",
       "                        <td id=\"T_3c3f99fe_9c54_11ea_b207_3e22fb6c5c23row2_col1\" class=\"data row2 col1\" >$900</td>\n",
       "                        <td id=\"T_3c3f99fe_9c54_11ea_b207_3e22fb6c5c23row2_col2\" class=\"data row2 col2\" >7.0</td>\n",
       "                        <td id=\"T_3c3f99fe_9c54_11ea_b207_3e22fb6c5c23row2_col3\" class=\"data row2 col3\" >proto-agrarian age</td>\n",
       "            </tr>\n",
       "            <tr>\n",
       "                        <th id=\"T_3c3f99fe_9c54_11ea_b207_3e22fb6c5c23level0_row3\" class=\"row_heading level0 row3\" >-3000</th>\n",
       "                        <td id=\"T_3c3f99fe_9c54_11ea_b207_3e22fb6c5c23row3_col0\" class=\"data row3 col0\" >9</td>\n",
       "                        <td id=\"T_3c3f99fe_9c54_11ea_b207_3e22fb6c5c23row3_col1\" class=\"data row3 col1\" >$900</td>\n",
       "                        <td id=\"T_3c3f99fe_9c54_11ea_b207_3e22fb6c5c23row3_col2\" class=\"data row3 col2\" >15.0</td>\n",
       "                        <td id=\"T_3c3f99fe_9c54_11ea_b207_3e22fb6c5c23row3_col3\" class=\"data row3 col3\" >writing</td>\n",
       "            </tr>\n",
       "            <tr>\n",
       "                        <th id=\"T_3c3f99fe_9c54_11ea_b207_3e22fb6c5c23level0_row4\" class=\"row_heading level0 row4\" >-1000</th>\n",
       "                        <td id=\"T_3c3f99fe_9c54_11ea_b207_3e22fb6c5c23row4_col0\" class=\"data row4 col0\" >17</td>\n",
       "                        <td id=\"T_3c3f99fe_9c54_11ea_b207_3e22fb6c5c23row4_col1\" class=\"data row4 col1\" >$900</td>\n",
       "                        <td id=\"T_3c3f99fe_9c54_11ea_b207_3e22fb6c5c23row4_col2\" class=\"data row4 col2\" >50.0</td>\n",
       "                        <td id=\"T_3c3f99fe_9c54_11ea_b207_3e22fb6c5c23row4_col3\" class=\"data row4 col3\" >axial age</td>\n",
       "            </tr>\n",
       "            <tr>\n",
       "                        <th id=\"T_3c3f99fe_9c54_11ea_b207_3e22fb6c5c23level0_row5\" class=\"row_heading level0 row5\" >1</th>\n",
       "                        <td id=\"T_3c3f99fe_9c54_11ea_b207_3e22fb6c5c23row5_col0\" class=\"data row5 col0\" >31</td>\n",
       "                        <td id=\"T_3c3f99fe_9c54_11ea_b207_3e22fb6c5c23row5_col1\" class=\"data row5 col1\" >$900</td>\n",
       "                        <td id=\"T_3c3f99fe_9c54_11ea_b207_3e22fb6c5c23row5_col2\" class=\"data row5 col2\" >170.0</td>\n",
       "                        <td id=\"T_3c3f99fe_9c54_11ea_b207_3e22fb6c5c23row5_col3\" class=\"data row5 col3\" >late-antiquity pause</td>\n",
       "            </tr>\n",
       "            <tr>\n",
       "                        <th id=\"T_3c3f99fe_9c54_11ea_b207_3e22fb6c5c23level0_row6\" class=\"row_heading level0 row6\" >800</th>\n",
       "                        <td id=\"T_3c3f99fe_9c54_11ea_b207_3e22fb6c5c23row6_col0\" class=\"data row6 col0\" >41</td>\n",
       "                        <td id=\"T_3c3f99fe_9c54_11ea_b207_3e22fb6c5c23row6_col1\" class=\"data row6 col1\" >$900</td>\n",
       "                        <td id=\"T_3c3f99fe_9c54_11ea_b207_3e22fb6c5c23row6_col2\" class=\"data row6 col2\" >300.0</td>\n",
       "                        <td id=\"T_3c3f99fe_9c54_11ea_b207_3e22fb6c5c23row6_col3\" class=\"data row6 col3\" >middle age</td>\n",
       "            </tr>\n",
       "            <tr>\n",
       "                        <th id=\"T_3c3f99fe_9c54_11ea_b207_3e22fb6c5c23level0_row7\" class=\"row_heading level0 row7\" >1500</th>\n",
       "                        <td id=\"T_3c3f99fe_9c54_11ea_b207_3e22fb6c5c23row7_col0\" class=\"data row7 col0\" >53</td>\n",
       "                        <td id=\"T_3c3f99fe_9c54_11ea_b207_3e22fb6c5c23row7_col1\" class=\"data row7 col1\" >$900</td>\n",
       "                        <td id=\"T_3c3f99fe_9c54_11ea_b207_3e22fb6c5c23row7_col2\" class=\"data row7 col2\" >500.0</td>\n",
       "                        <td id=\"T_3c3f99fe_9c54_11ea_b207_3e22fb6c5c23row7_col3\" class=\"data row7 col3\" >commercial revolution</td>\n",
       "            </tr>\n",
       "            <tr>\n",
       "                        <th id=\"T_3c3f99fe_9c54_11ea_b207_3e22fb6c5c23level0_row8\" class=\"row_heading level0 row8\" >1770</th>\n",
       "                        <td id=\"T_3c3f99fe_9c54_11ea_b207_3e22fb6c5c23row8_col0\" class=\"data row8 col0\" >79</td>\n",
       "                        <td id=\"T_3c3f99fe_9c54_11ea_b207_3e22fb6c5c23row8_col1\" class=\"data row8 col1\" >$1,100</td>\n",
       "                        <td id=\"T_3c3f99fe_9c54_11ea_b207_3e22fb6c5c23row8_col2\" class=\"data row8 col2\" >750.0</td>\n",
       "                        <td id=\"T_3c3f99fe_9c54_11ea_b207_3e22fb6c5c23row8_col3\" class=\"data row8 col3\" >industrial revolution</td>\n",
       "            </tr>\n",
       "            <tr>\n",
       "                        <th id=\"T_3c3f99fe_9c54_11ea_b207_3e22fb6c5c23level0_row9\" class=\"row_heading level0 row9\" >1870</th>\n",
       "                        <td id=\"T_3c3f99fe_9c54_11ea_b207_3e22fb6c5c23row9_col0\" class=\"data row9 col0\" >124</td>\n",
       "                        <td id=\"T_3c3f99fe_9c54_11ea_b207_3e22fb6c5c23row9_col1\" class=\"data row9 col1\" >$1,300</td>\n",
       "                        <td id=\"T_3c3f99fe_9c54_11ea_b207_3e22fb6c5c23row9_col2\" class=\"data row9 col2\" >1,300.0</td>\n",
       "                        <td id=\"T_3c3f99fe_9c54_11ea_b207_3e22fb6c5c23row9_col3\" class=\"data row9 col3\" >modern economic growth</td>\n",
       "            </tr>\n",
       "            <tr>\n",
       "                        <th id=\"T_3c3f99fe_9c54_11ea_b207_3e22fb6c5c23level0_row10\" class=\"row_heading level0 row10\" >2020</th>\n",
       "                        <td id=\"T_3c3f99fe_9c54_11ea_b207_3e22fb6c5c23row10_col0\" class=\"data row10 col0\" >2,720</td>\n",
       "                        <td id=\"T_3c3f99fe_9c54_11ea_b207_3e22fb6c5c23row10_col1\" class=\"data row10 col1\" >$11,842</td>\n",
       "                        <td id=\"T_3c3f99fe_9c54_11ea_b207_3e22fb6c5c23row10_col2\" class=\"data row10 col2\" >7,600.0</td>\n",
       "                        <td id=\"T_3c3f99fe_9c54_11ea_b207_3e22fb6c5c23row10_col3\" class=\"data row10 col3\" >whatever the 21st century brings</td>\n",
       "            </tr>\n",
       "    </tbody></table>"
      ],
      "text/plain": [
       "<pandas.io.formats.style.Styler at 0x11e592650>"
      ]
     },
     "execution_count": 19,
     "metadata": {},
     "output_type": "execute_result"
    }
   ],
   "source": [
    "eras = ['at the dawn', 'agriculture & herding', 'proto-agrarian age',\n",
    "        'writing', 'axial age', 'late-antiquity pause', 'middle age', 'commercial revolution',\n",
    "        'industrial revolution', 'modern economic growth', 'whatever the 21st century brings']\n",
    "\n",
    "long_run_growth_df['eras'] = eras\n",
    "\n",
    "format_dict = {'year': '{d}', 'human_ideas': '{0:,.0f}', \n",
    "    'income_level': '${0:,.0f}', 'population': '{0:,.1f}'}\n",
    "\n",
    "long_run_growth_df.style.format(format_dict)"
   ]
  },
  {
   "cell_type": "code",
   "execution_count": 21,
   "metadata": {},
   "outputs": [
    {
     "data": {
      "text/html": [
       "<style  type=\"text/css\" >\n",
       "</style><table id=\"T_5e992164_9c54_11ea_b207_3e22fb6c5c23\" ><thead>    <tr>        <th class=\"blank level0\" ></th>        <th class=\"col_heading level0 col0\" >span</th>        <th class=\"col_heading level0 col1\" >h</th>        <th class=\"col_heading level0 col2\" >g</th>        <th class=\"col_heading level0 col3\" >n</th>        <th class=\"col_heading level0 col4\" >eras</th>    </tr>    <tr>        <th class=\"index_name level0\" >initial_year</th>        <th class=\"blank\" ></th>        <th class=\"blank\" ></th>        <th class=\"blank\" ></th>        <th class=\"blank\" ></th>        <th class=\"blank\" ></th>    </tr></thead><tbody>\n",
       "                <tr>\n",
       "                        <th id=\"T_5e992164_9c54_11ea_b207_3e22fb6c5c23level0_row0\" class=\"row_heading level0 row0\" >-68000</th>\n",
       "                        <td id=\"T_5e992164_9c54_11ea_b207_3e22fb6c5c23row0_col0\" class=\"data row0 col0\" >60000</td>\n",
       "                        <td id=\"T_5e992164_9c54_11ea_b207_3e22fb6c5c23row0_col1\" class=\"data row0 col1\" >0.003%</td>\n",
       "                        <td id=\"T_5e992164_9c54_11ea_b207_3e22fb6c5c23row0_col2\" class=\"data row0 col2\" >0.00%</td>\n",
       "                        <td id=\"T_5e992164_9c54_11ea_b207_3e22fb6c5c23row0_col3\" class=\"data row0 col3\" >0.01%</td>\n",
       "                        <td id=\"T_5e992164_9c54_11ea_b207_3e22fb6c5c23row0_col4\" class=\"data row0 col4\" >speciation? language?</td>\n",
       "            </tr>\n",
       "            <tr>\n",
       "                        <th id=\"T_5e992164_9c54_11ea_b207_3e22fb6c5c23level0_row1\" class=\"row_heading level0 row1\" >-8000</th>\n",
       "                        <td id=\"T_5e992164_9c54_11ea_b207_3e22fb6c5c23row1_col0\" class=\"data row1 col0\" >2000</td>\n",
       "                        <td id=\"T_5e992164_9c54_11ea_b207_3e22fb6c5c23row1_col1\" class=\"data row1 col1\" >0.012%</td>\n",
       "                        <td id=\"T_5e992164_9c54_11ea_b207_3e22fb6c5c23row1_col2\" class=\"data row1 col2\" >-0.01%</td>\n",
       "                        <td id=\"T_5e992164_9c54_11ea_b207_3e22fb6c5c23row1_col3\" class=\"data row1 col3\" >0.05%</td>\n",
       "                        <td id=\"T_5e992164_9c54_11ea_b207_3e22fb6c5c23row1_col4\" class=\"data row1 col4\" >agriculture & herding</td>\n",
       "            </tr>\n",
       "            <tr>\n",
       "                        <th id=\"T_5e992164_9c54_11ea_b207_3e22fb6c5c23level0_row2\" class=\"row_heading level0 row2\" >-6000</th>\n",
       "                        <td id=\"T_5e992164_9c54_11ea_b207_3e22fb6c5c23row2_col0\" class=\"data row2 col0\" >3000</td>\n",
       "                        <td id=\"T_5e992164_9c54_11ea_b207_3e22fb6c5c23row2_col1\" class=\"data row2 col1\" >0.013%</td>\n",
       "                        <td id=\"T_5e992164_9c54_11ea_b207_3e22fb6c5c23row2_col2\" class=\"data row2 col2\" >0.00%</td>\n",
       "                        <td id=\"T_5e992164_9c54_11ea_b207_3e22fb6c5c23row2_col3\" class=\"data row2 col3\" >0.03%</td>\n",
       "                        <td id=\"T_5e992164_9c54_11ea_b207_3e22fb6c5c23row2_col4\" class=\"data row2 col4\" >proto-agrarian age</td>\n",
       "            </tr>\n",
       "            <tr>\n",
       "                        <th id=\"T_5e992164_9c54_11ea_b207_3e22fb6c5c23level0_row3\" class=\"row_heading level0 row3\" >-3000</th>\n",
       "                        <td id=\"T_5e992164_9c54_11ea_b207_3e22fb6c5c23row3_col0\" class=\"data row3 col0\" >2000</td>\n",
       "                        <td id=\"T_5e992164_9c54_11ea_b207_3e22fb6c5c23row3_col1\" class=\"data row3 col1\" >0.030%</td>\n",
       "                        <td id=\"T_5e992164_9c54_11ea_b207_3e22fb6c5c23row3_col2\" class=\"data row3 col2\" >0.00%</td>\n",
       "                        <td id=\"T_5e992164_9c54_11ea_b207_3e22fb6c5c23row3_col3\" class=\"data row3 col3\" >0.06%</td>\n",
       "                        <td id=\"T_5e992164_9c54_11ea_b207_3e22fb6c5c23row3_col4\" class=\"data row3 col4\" >writing</td>\n",
       "            </tr>\n",
       "            <tr>\n",
       "                        <th id=\"T_5e992164_9c54_11ea_b207_3e22fb6c5c23level0_row4\" class=\"row_heading level0 row4\" >-1000</th>\n",
       "                        <td id=\"T_5e992164_9c54_11ea_b207_3e22fb6c5c23row4_col0\" class=\"data row4 col0\" >1001</td>\n",
       "                        <td id=\"T_5e992164_9c54_11ea_b207_3e22fb6c5c23row4_col1\" class=\"data row4 col1\" >0.061%</td>\n",
       "                        <td id=\"T_5e992164_9c54_11ea_b207_3e22fb6c5c23row4_col2\" class=\"data row4 col2\" >0.00%</td>\n",
       "                        <td id=\"T_5e992164_9c54_11ea_b207_3e22fb6c5c23row4_col3\" class=\"data row4 col3\" >0.12%</td>\n",
       "                        <td id=\"T_5e992164_9c54_11ea_b207_3e22fb6c5c23row4_col4\" class=\"data row4 col4\" >axial age</td>\n",
       "            </tr>\n",
       "            <tr>\n",
       "                        <th id=\"T_5e992164_9c54_11ea_b207_3e22fb6c5c23level0_row5\" class=\"row_heading level0 row5\" >1</th>\n",
       "                        <td id=\"T_5e992164_9c54_11ea_b207_3e22fb6c5c23row5_col0\" class=\"data row5 col0\" >799</td>\n",
       "                        <td id=\"T_5e992164_9c54_11ea_b207_3e22fb6c5c23row5_col1\" class=\"data row5 col1\" >0.036%</td>\n",
       "                        <td id=\"T_5e992164_9c54_11ea_b207_3e22fb6c5c23row5_col2\" class=\"data row5 col2\" >0.00%</td>\n",
       "                        <td id=\"T_5e992164_9c54_11ea_b207_3e22fb6c5c23row5_col3\" class=\"data row5 col3\" >0.07%</td>\n",
       "                        <td id=\"T_5e992164_9c54_11ea_b207_3e22fb6c5c23row5_col4\" class=\"data row5 col4\" >late-antiquity pause</td>\n",
       "            </tr>\n",
       "            <tr>\n",
       "                        <th id=\"T_5e992164_9c54_11ea_b207_3e22fb6c5c23level0_row6\" class=\"row_heading level0 row6\" >800</th>\n",
       "                        <td id=\"T_5e992164_9c54_11ea_b207_3e22fb6c5c23row6_col0\" class=\"data row6 col0\" >700</td>\n",
       "                        <td id=\"T_5e992164_9c54_11ea_b207_3e22fb6c5c23row6_col1\" class=\"data row6 col1\" >0.036%</td>\n",
       "                        <td id=\"T_5e992164_9c54_11ea_b207_3e22fb6c5c23row6_col2\" class=\"data row6 col2\" >0.00%</td>\n",
       "                        <td id=\"T_5e992164_9c54_11ea_b207_3e22fb6c5c23row6_col3\" class=\"data row6 col3\" >0.07%</td>\n",
       "                        <td id=\"T_5e992164_9c54_11ea_b207_3e22fb6c5c23row6_col4\" class=\"data row6 col4\" >middle age</td>\n",
       "            </tr>\n",
       "            <tr>\n",
       "                        <th id=\"T_5e992164_9c54_11ea_b207_3e22fb6c5c23level0_row7\" class=\"row_heading level0 row7\" >1500</th>\n",
       "                        <td id=\"T_5e992164_9c54_11ea_b207_3e22fb6c5c23row7_col0\" class=\"data row7 col0\" >270</td>\n",
       "                        <td id=\"T_5e992164_9c54_11ea_b207_3e22fb6c5c23row7_col1\" class=\"data row7 col1\" >0.150%</td>\n",
       "                        <td id=\"T_5e992164_9c54_11ea_b207_3e22fb6c5c23row7_col2\" class=\"data row7 col2\" >0.07%</td>\n",
       "                        <td id=\"T_5e992164_9c54_11ea_b207_3e22fb6c5c23row7_col3\" class=\"data row7 col3\" >0.15%</td>\n",
       "                        <td id=\"T_5e992164_9c54_11ea_b207_3e22fb6c5c23row7_col4\" class=\"data row7 col4\" >commercial revolution</td>\n",
       "            </tr>\n",
       "            <tr>\n",
       "                        <th id=\"T_5e992164_9c54_11ea_b207_3e22fb6c5c23level0_row8\" class=\"row_heading level0 row8\" >1770</th>\n",
       "                        <td id=\"T_5e992164_9c54_11ea_b207_3e22fb6c5c23row8_col0\" class=\"data row8 col0\" >100</td>\n",
       "                        <td id=\"T_5e992164_9c54_11ea_b207_3e22fb6c5c23row8_col1\" class=\"data row8 col1\" >0.442%</td>\n",
       "                        <td id=\"T_5e992164_9c54_11ea_b207_3e22fb6c5c23row8_col2\" class=\"data row8 col2\" >0.17%</td>\n",
       "                        <td id=\"T_5e992164_9c54_11ea_b207_3e22fb6c5c23row8_col3\" class=\"data row8 col3\" >0.55%</td>\n",
       "                        <td id=\"T_5e992164_9c54_11ea_b207_3e22fb6c5c23row8_col4\" class=\"data row8 col4\" >industrial revolution</td>\n",
       "            </tr>\n",
       "            <tr>\n",
       "                        <th id=\"T_5e992164_9c54_11ea_b207_3e22fb6c5c23level0_row9\" class=\"row_heading level0 row9\" >1870</th>\n",
       "                        <td id=\"T_5e992164_9c54_11ea_b207_3e22fb6c5c23row9_col0\" class=\"data row9 col0\" >150</td>\n",
       "                        <td id=\"T_5e992164_9c54_11ea_b207_3e22fb6c5c23row9_col1\" class=\"data row9 col1\" >2.062%</td>\n",
       "                        <td id=\"T_5e992164_9c54_11ea_b207_3e22fb6c5c23row9_col2\" class=\"data row9 col2\" >1.47%</td>\n",
       "                        <td id=\"T_5e992164_9c54_11ea_b207_3e22fb6c5c23row9_col3\" class=\"data row9 col3\" >1.18%</td>\n",
       "                        <td id=\"T_5e992164_9c54_11ea_b207_3e22fb6c5c23row9_col4\" class=\"data row9 col4\" >modern economic growth</td>\n",
       "            </tr>\n",
       "    </tbody></table>"
      ],
      "text/plain": [
       "<pandas.io.formats.style.Styler at 0x11e523790>"
      ]
     },
     "execution_count": 21,
     "metadata": {},
     "output_type": "execute_result"
    }
   ],
   "source": [
    "eras = eras[0:10]\n",
    "\n",
    "long_run_growth_rates_df['era'] = era\n",
    "\n",
    "format_dict = { 'span': '{0:.0f}', 'h': '{0:,.3%}', \n",
    "    'g': '{0:,.2%}', 'n': '{0:,.2%}'}\n",
    "\n",
    "long_run_growth_rates_df.style.format(format_dict)"
   ]
  },
  {
   "cell_type": "markdown",
   "metadata": {},
   "source": [
    "## 1. Jupyter notebooks\n",
    "This webpage is called a Jupyter notebook. A notebook is a place to write programs and view their results, and also to write text.\n",
    "\n",
    "A notebook is thus an editable computer document in which you can write computer programs; view their results; and comment, annotate, and explain what is going on. Project jupyter <https://en.wikipedia.org/wiki/Project_Jupyter> is headquartered here at Berkeley, where jupyter originator and ringmaster Fernando Pérez <https://en.wikipedia.org/wiki/Fernando_Pérez_(software_developer)> works: its purpose is to build human-friendly frameworks for interactive computing. If you want to see what Fernando looks and sounds like, you can load and watch a 15-minute inspirational video by clicking on \"YouTubeVideo\" below and then on the `▶` in the toolbar above: "
   ]
  },
  {
   "cell_type": "code",
   "execution_count": null,
   "metadata": {},
   "outputs": [],
   "source": [
    "from IPython.display import YouTubeVideo\n",
    "# The original URL is: \n",
    "# https://www.youtube.com/watch?v=Wd6a3JIFH0s\n",
    "\n",
    "YouTubeVideo(\"Wd6a3JIFH0s\")"
   ]
  },
  {
   "cell_type": "markdown",
   "metadata": {},
   "source": [
    "### 1.1. Text cells\n",
    "In a notebook, each rectangle containing text or code is called a *cell*.\n",
    "\n",
    "Text cells (like this one) can be edited by double-clicking on them. They're written in a simple format created by Jon Gruber called  markdown <<http://daringfireball.net/projects/markdown/syntax>> to add formatting and section headings. You almost surely want to learn how to use markdown.\n",
    "\n",
    "After you edit a text cell, click the \"run cell\" button at the top that looks like `▶` in the toolbar at the top of this window, or hold down `shift` + press `return`, to confirm any changes to the text and formatting. \n",
    "\n",
    "(Try not to delete the problem set instructions. If you do, then (a) rename your current notebook via the `Rename` command in the `File` menu so that you do not lose your work done so far, and then reenter the url `http://datahub.berkeley.edu/user-redirect/interact?account=braddelong&repo=lecture-support-2020&branch=master&path=ps01.ipynb` in the web address bar at the top of your browser to download a new, fresh copy of this problem set.)"
   ]
  },
  {
   "cell_type": "markdown",
   "metadata": {
    "deletable": false
   },
   "source": [
    "**Question 1.1.1.** This paragraph is in its own text cell.  Try editing it so that this sentence is the last sentence in the paragraph, and then click the \"run cell\" ▶| button or hold down `shift` + `return`.  This sentence, for example, should be deleted.  So should this one."
   ]
  },
  {
   "cell_type": "markdown",
   "metadata": {},
   "source": [
    "### 1.2. Code cells\n",
    "Other cells contain code in the Python 3 language. Running a code cell will execute all of the code it contains.\n",
    "\n",
    "To run the code in a code cell, first click on that cell to activate it.  It'll be highlighted with a little green or blue rectangle.  Next, either press `▶` or hold down `shift` + press `return`.\n",
    "\n",
    "Try running this cell:"
   ]
  },
  {
   "cell_type": "code",
   "execution_count": null,
   "metadata": {},
   "outputs": [],
   "source": [
    "print(\"Hello, World!\")"
   ]
  },
  {
   "cell_type": "markdown",
   "metadata": {},
   "source": [
    "And this one:"
   ]
  },
  {
   "cell_type": "code",
   "execution_count": null,
   "metadata": {},
   "outputs": [],
   "source": [
    "print(\"\\N{WAVING HAND SIGN}, \\N{EARTH GLOBE ASIA-AUSTRALIA}!\")"
   ]
  },
  {
   "cell_type": "markdown",
   "metadata": {},
   "source": [
    "The fundamental building block of Python code is an expression. Cells can contain multiple lines with multiple expressions. When you run a cell, the lines of code are executed in the order in which they appear. Every `print` expression prints a line. Run the next cell and notice the order of the output."
   ]
  },
  {
   "cell_type": "code",
   "execution_count": null,
   "metadata": {
    "deletable": false
   },
   "outputs": [],
   "source": [
    "print(\"First this line is printed,\")\n",
    "print(\"and then this one.\")"
   ]
  },
  {
   "cell_type": "markdown",
   "metadata": {},
   "source": [
    "**Question 1.2.1.** Change the cell above so that it prints out:\n",
    "\n",
    "    First this line,\n",
    "    then the whole 🌏,\n",
    "    and then this one.\n",
    "\n",
    "*Hint:* If you're stuck on the Earth symbol for more than a few minutes, try talking to a neighbor or a staff member. That's a good idea for any lab problem."
   ]
  },
  {
   "cell_type": "markdown",
   "metadata": {},
   "source": [
    "### 1.3. Writing notebooks\n",
    "You can use Jupyter notebooks for your own projects or documents.  When you make your own notebook, you'll need to create your own cells for text and code.\n",
    "\n",
    "To add a cell, click the + button in the menu bar.  It'll start out as a text cell.  You can change it to a code cell by clicking inside it so it's highlighted, clicking the drop-down box next to the restart (⟳) button in the menu bar, and choosing \"Code\".\n",
    "\n",
    "**Question 1.3.1.** Add a code cell below this one.  Write code in it that prints out:\n",
    "   \n",
    "    A whole new cell! ♪🌏♪\n",
    "\n",
    "(That musical note symbol is like the Earth symbol.  Its long-form name is `\\N{EIGHTH NOTE}`.)\n",
    "\n",
    "Run your cell to verify that it works."
   ]
  },
  {
   "cell_type": "markdown",
   "metadata": {},
   "source": [
    "### 1.4. \"Errors\"\n",
    "Python is a language, and like natural human languages, it has rules.  It differs from natural language in two important ways:\n",
    "1. The rules are *simple*.  You can learn most of them in a few weeks and gain reasonable proficiency with the language in a semester.\n",
    "2. The rules are *rigid*.  If you're proficient in a natural language, you can understand a non-proficient speaker, glossing over small mistakes.  A computer running Python code is not smart enough to do that.\n",
    "\n",
    "Whenever you write code, you'll make mistakes.  When you run a code cell that has errors, Python will sometimes produce error messages to tell you what you did wrong.\n",
    "\n",
    "Errors are okay; even experienced programmers make many errors.  When you make an error, you just have to find the source of the problem, fix it, and move on.\n",
    "\n",
    "We have made an error in the next code cell.  Run it and see what happens."
   ]
  },
  {
   "cell_type": "markdown",
   "metadata": {},
   "source": [
    "(**Note:** In the toolbar, there is the option to click `Cell > Run All`, which will run all the code cells in this notebook in order. However, the notebook stops running code cells if it hits an error, like the one in the cell just below.)"
   ]
  },
  {
   "cell_type": "code",
   "execution_count": null,
   "metadata": {
    "deletable": false,
    "scrolled": true
   },
   "outputs": [],
   "source": [
    "print(\"This line is missing something.\")"
   ]
  },
  {
   "cell_type": "markdown",
   "metadata": {},
   "source": [
    "You should see something like this (minus our annotations):\n",
    "\n",
    "<img src=\"images/error.jpg\" width=\"600\" />\n",
    "\n",
    "The last line of the error output attempts to tell you what went wrong.  The *syntax* of a language is its structure, and this `SyntaxError` tells you that you have created an illegal structure.  \"`EOF`\" means \"end of file,\" so the message is saying Python expected you to write something more (in this case, a right parenthesis) before finishing the cell.\n",
    "\n",
    "There's a lot of terminology in programming languages, but you don't need to know it all in order to program effectively. If you see a cryptic message like this, you can often get by without deciphering it.  (Of course, if you're frustrated, ask a neighbor or a staff member for help.)\n",
    "\n",
    "Try to fix the code above so that you can run the cell and see the intended message instead of an error."
   ]
  },
  {
   "cell_type": "code",
   "execution_count": null,
   "metadata": {
    "for_assignment_type": "solution"
   },
   "outputs": [],
   "source": [
    "print(\"This line is missing something.\")"
   ]
  },
  {
   "cell_type": "markdown",
   "metadata": {},
   "source": [
    "### 1.5. Programming & testing\n",
    "Our notebooks include built-in *tests* to check whether your work is correct. Sometimes, there are multiple tests for a single question, and passing all of them is required to receive credit for the question. Please don't change the contents of the test cells. \n",
    "\n",
    "Go ahead and attempt Question 1.5.1. Running the cell directly after it will test whether you have assigned `seconds_in_a_decade` correctly in Question 4.1. If you haven't, this test will tell you the correct answer. Resist the urge to just copy it, and instead try to adjust your expression. (Sometimes the tests will give hints about what went wrong...)"
   ]
  },
  {
   "cell_type": "markdown",
   "metadata": {},
   "source": [
    "**Question 1.5.1.** Assign the name `seconds_in_a_decade` to the number of seconds between midnight January 1, 2010 and midnight January 1, 2020. Note that there are two leap years in this span of a decade. A non-leap year has 365 days and a leap year has 366 days.\n",
    "\n",
    "*Hint:* If you're stuck, the next section shows you how to get hints.\n",
    "\n",
    "<!--\n",
    "BEGIN QUESTION\n",
    "name: q1_5_1\n",
    "-->"
   ]
  },
  {
   "cell_type": "code",
   "execution_count": null,
   "metadata": {},
   "outputs": [],
   "source": [
    "# In the next line, replace the ellipsis (\"...\") after the equals sign (\"=\")\n",
    "# with the number of seconds in a decade. Then click the \n",
    "\n",
    "seconds_in_a_decade = 60*60*24*(10*365+2)\n",
    "\n",
    "# Do not change anything else in this cell. Just click the \"run cell\" button \n",
    "# that looks like `▶` in the toolbar at the top of this window, or hold down \n",
    "# `shift` +  press`return`:\n",
    "\n",
    "print(seconds_in_a_decade)"
   ]
  },
  {
   "cell_type": "code",
   "execution_count": null,
   "metadata": {},
   "outputs": [],
   "source": [
    "ok.grade(\"q1_5_1\");"
   ]
  },
  {
   "cell_type": "markdown",
   "metadata": {},
   "source": [
    "If ok.grade found that you had set the right variable(s) to the proper value(s) that it expected, well and good: you are probably not far off track. If ok.grade reported that you failed any of the tests, go back and think again—and if you are still stuck, call for help."
   ]
  },
  {
   "cell_type": "markdown",
   "metadata": {},
   "source": [
    "### 1.6. The kernel\n",
    "The kernel is a program that executes the code inside your notebook and outputs the results. In the top right of your window, you can see a circle that indicates the status of your kernel. If the circle is empty (⚪), the kernel is idle and ready to execute code. If the circle is filled in (⚫), the kernel is busy running some code. \n",
    "\n",
    "Next to every code cell, you'll see some text that says `In [...]`. Before you run the cell, you'll see `In [ ]`. When the cell is running, you'll see `In [*]`. If you see an asterisk (\\*) next to a cell that doesn't go away, it's likely that the code inside the cell is taking too long to run, and it might be a good time to interrupt the kernel (discussed below). When a cell is finished running, you'll see a number inside the brackets, like so: `In [1]`. The number corresponds to the order in which you run the cells; so, the first cell you run will show a 1 when it's finished running, the second will show a 2, and so on. \n",
    "\n",
    "You may run into problems where your kernel is stuck for an excessive amount of time, your notebook is very slow and unresponsive, or your kernel loses its connection. If this happens, try the following steps:\n",
    "1. At the top of your screen, click **Kernel**, then **Interrupt**.\n",
    "2. If that doesn't help, click **Kernel**, then **Restart**. If you do this, you will have to run your code cells from the start of your notebook up until where you paused your work.\n",
    "3. If that doesn't help, restart your server. First, save your work by clicking **File** at the top left of your screen, then **Save and Checkpoint**. Next, click **Control Panel** at the top right. Choose **Stop My Server** to shut it down, then **Start My Server** to start it back up. Then, navigate back to the notebook you were working on. You'll still have to run your code cells again."
   ]
  },
  {
   "cell_type": "markdown",
   "metadata": {},
   "source": [
    "### 1.7. Libraries\n",
    "There are many add-ons and extensions to the core of python that are useful—indeed essential—to using it to get work done. They are contained in what are called libraries. The rest of this notebook needs three libraries. So let us tell the python interpreter to install them. Run the code cell below to do so: "
   ]
  },
  {
   "cell_type": "code",
   "execution_count": null,
   "metadata": {},
   "outputs": [],
   "source": [
    "# install the numerical python, python data analysis, and mathematical\n",
    "# plotting libraries for python\n",
    "\n",
    "!pip install numpy\n",
    "!pip install pandas\n",
    "!pip install matplotlib\n",
    "\n",
    "import numpy as np\n",
    "import pandas as pd\n",
    "import matplotlib as mpl"
   ]
  },
  {
   "cell_type": "markdown",
   "metadata": {},
   "source": [
    "### 1.8. Submitting your work\n",
    "All problem sets in the course will be distributed as notebooks like this one, and you will submit your work from the notebook. We will use a system called OK that checks your work and helps you submit. At the top of each assignment, you'll see a cell like the one below that prompts you to identify yourself. Run it and follow the instructions. Please use your @berkeley.edu address when logging in."
   ]
  },
  {
   "cell_type": "code",
   "execution_count": null,
   "metadata": {
    "deletable": false
   },
   "outputs": [],
   "source": [
    "# this cell will not yet give you directions as to how to login to the\n",
    "# autograding system\n",
    "# \n",
    "# Later on, after we have hooked this notebook into the autograding \n",
    "# system, we will reenable that functionality.\n",
    "\n",
    "# Don't change this cell; just run it. \n",
    "# The result will give you directions about how to log in to the submission system, called OK.\n",
    "# Once you're logged in, you can run this cell again, \n",
    "# but it won't ask you who you are because it remembers you. \n",
    "# However, you will need to log in once per assignment.\n",
    "# When you log-in please hit return (not shift + return) after typing in your email\n",
    "\n",
    "from client.api.notebook import Notebook\n",
    "ok = Notebook('ps00.ok')"
   ]
  },
  {
   "cell_type": "markdown",
   "metadata": {},
   "source": [
    "When you finish an assignment, you need to submit it by running the submit command below. It's fine to submit multiple times. OK will only try to grade your final submission for each assignment. Don't forget to submit your lab assignment at the end of section, even if you haven't finished everything."
   ]
  },
  {
   "cell_type": "code",
   "execution_count": null,
   "metadata": {
    "deletable": false
   },
   "outputs": [],
   "source": [
    "# this cell is currently \"commented out\": that is, we have turned the \n",
    "# program line into a comment that the python interpreter believes it \n",
    "# is supposed to ignore. Later on, after we have hooked this notebook\n",
    "# into the autograding system, we will reenable it.\n",
    "\n",
    "# _ = ok.submit()"
   ]
  },
  {
   "cell_type": "markdown",
   "metadata": {},
   "source": [
    "## 2. Python: numbers & variables\n",
    "\n",
    "Quantitative information arises everywhere in data science. In addition to representing commands to print out lines, expressions can represent numbers and methods of combining numbers. The expression `3.2500` evaluates to the number 3.25. (Run the cell and see.)"
   ]
  },
  {
   "cell_type": "code",
   "execution_count": null,
   "metadata": {},
   "outputs": [],
   "source": [
    "3.2500"
   ]
  },
  {
   "cell_type": "markdown",
   "metadata": {},
   "source": [
    "Notice that we didn't have to `print`. When you run a notebook cell, if the last line has a value, then Jupyter helpfully prints out that value for you. However, it won't print out prior lines automatically."
   ]
  },
  {
   "cell_type": "code",
   "execution_count": null,
   "metadata": {
    "scrolled": true
   },
   "outputs": [],
   "source": [
    "print(2)\n",
    "3\n",
    "4"
   ]
  },
  {
   "cell_type": "markdown",
   "metadata": {},
   "source": [
    "Above, you should see that 4 is the value of the last expression, 2 is printed, but 3 is lost forever because it was neither printed nor last.\n",
    "\n",
    "You don't want to print everything all the time anyway.  But if you feel sorry for 3, change the cell above to print it."
   ]
  },
  {
   "cell_type": "markdown",
   "metadata": {},
   "source": [
    "### 2.1. Arithmetic\n",
    "The line in the next cell subtracts.  Its value is what you'd expect.  Run it."
   ]
  },
  {
   "cell_type": "code",
   "execution_count": null,
   "metadata": {},
   "outputs": [],
   "source": [
    "3.25 - 1.5"
   ]
  },
  {
   "cell_type": "markdown",
   "metadata": {},
   "source": [
    "Many basic arithmetic operations are built into Python.  The textbook section on [Expressions](http://www.inferentialthinking.com/chapters/03/1/expressions.html) describes all the arithmetic operators used in the course.  The common operator that differs from typical math notation is `**`, which raises one number to the power of the other. So, `2**3` stands for $2^3$ and evaluates to 8. \n",
    "\n",
    "The order of operations is the same as what you learned in elementary school, and Python also has parentheses.  For example, compare the outputs of the cells below. The second cell uses parentheses for a happy new year!"
   ]
  },
  {
   "cell_type": "code",
   "execution_count": null,
   "metadata": {},
   "outputs": [],
   "source": [
    "3+6*5-6*3**2*2**3/4*7"
   ]
  },
  {
   "cell_type": "code",
   "execution_count": null,
   "metadata": {},
   "outputs": [],
   "source": [
    "4+(6*5-(6*3))**2*((2**3)/4*7)"
   ]
  },
  {
   "cell_type": "markdown",
   "metadata": {},
   "source": [
    "In standard math notation, the first expression is\n",
    "\n",
    "$$3 + 6 \\times 5 - 6 \\times 3^2 \\times \\frac{2^3}{4} \\times 7,$$\n",
    "\n",
    "while the second expression is\n",
    "\n",
    "$$3 + (6 \\times 5 - (6 \\times 3))^2 \\times (\\frac{(2^3)}{4} \\times 7).$$\n",
    "\n",
    "**Question 2.1.1.** Write a Python expression in this next cell that's equal to $5 \\times (3 \\frac{10}{11}) - 50 \\frac{1}{3} + 2^{.5 \\times 22} - \\frac{7}{33} + 3$.  That's five times three and ten elevenths, minus fifty and a third, plus two to the power of half twenty-two, minus seven thirty-thirds plus three.  By \"$3 \\frac{10}{11}$\" we mean $3+\\frac{10}{11}$, not $3 \\times \\frac{10}{11}$.\n",
    "\n",
    "Replace the ellipses (`...`) with your expression.  Try to use parentheses only when necessary.\n",
    "\n",
    "*Hint:* The correct output should start with a familiar number."
   ]
  },
  {
   "cell_type": "code",
   "execution_count": null,
   "metadata": {
    "deletable": false
   },
   "outputs": [],
   "source": [
    "5*(3 + 10/11) -50 - 1/3 + 2**(0.5*22) -7/33 + 3"
   ]
  },
  {
   "cell_type": "markdown",
   "metadata": {},
   "source": [
    "### 2.2. Variables\n",
    "In natural language, we have terminology that lets us quickly reference very complicated concepts.  We don't say, \"That's a large mammal with brown fur and sharp teeth!\"  Instead, we just say, \"Bear!\"\n",
    "\n",
    "In Python, we do this with *assignment statements*. An assignment statement has a name on the left side of an `=` sign and an expression to be evaluated on the right."
   ]
  },
  {
   "cell_type": "code",
   "execution_count": null,
   "metadata": {},
   "outputs": [],
   "source": [
    "ten = 3 * 2 + 4"
   ]
  },
  {
   "cell_type": "markdown",
   "metadata": {},
   "source": [
    "When you run that cell, Python first computes the value of the expression on the right-hand side, `3 * 2 + 4`, which is the number 10.  Then it assigns that value to the name `ten`.  At that point, the code in the cell is done running.\n",
    "\n",
    "After you run that cell, the value 10 is bound to the name `ten`:"
   ]
  },
  {
   "cell_type": "code",
   "execution_count": null,
   "metadata": {},
   "outputs": [],
   "source": [
    "ten"
   ]
  },
  {
   "cell_type": "markdown",
   "metadata": {},
   "source": [
    "The statement `ten = 3 * 2 + 4` is not asserting that `ten` is already equal to `3 * 2 + 4`, as we might expect by analogy with math notation.  Rather, that line of code changes what `ten` means; it now refers to the value 10, whereas before it meant nothing at all.\n",
    "\n",
    "If the designers of Python had been ruthlessly pedantic, they might have made us write\n",
    "\n",
    "    define the name ten to hereafter have the value of 3 * 2 + 4 \n",
    "\n",
    "instead.  You will probably appreciate the brevity of \"`=`\"!  But keep in mind that this is the real meaning.\n",
    "\n",
    "**Question 2.2.1.** Try writing code that uses a name (like `eleven`) that hasn't been assigned to anything.  You'll see an error!"
   ]
  },
  {
   "cell_type": "code",
   "execution_count": null,
   "metadata": {},
   "outputs": [],
   "source": [
    "eleven"
   ]
  },
  {
   "cell_type": "markdown",
   "metadata": {},
   "source": [
    "A common pattern in Jupyter notebooks is to assign a value to a name and then immediately evaluate the name in the last line in the cell so that the value is displayed as output. "
   ]
  },
  {
   "cell_type": "code",
   "execution_count": null,
   "metadata": {},
   "outputs": [],
   "source": [
    "close_to_pi = 355/113\n",
    "close_to_pi"
   ]
  },
  {
   "cell_type": "markdown",
   "metadata": {},
   "source": [
    "Another common pattern is that a series of lines in a single cell will build up a complex computation in stages, naming the intermediate results."
   ]
  },
  {
   "cell_type": "code",
   "execution_count": null,
   "metadata": {},
   "outputs": [],
   "source": [
    "semimonthly_salary = 841.25\n",
    "monthly_salary = 2 * semimonthly_salary\n",
    "number_of_months_in_a_year = 12\n",
    "yearly_salary = number_of_months_in_a_year * monthly_salary\n",
    "yearly_salary"
   ]
  },
  {
   "cell_type": "markdown",
   "metadata": {},
   "source": [
    "Names in Python can have letters (upper- and lower-case letters are both okay and count as different letters), underscores, and numbers.  The first character can't be a number (otherwise a name might look like a number).  And names can't contain spaces, since spaces are used to separate pieces of code from each other.\n",
    "\n",
    "Other than those rules, what you name something doesn't matter *to Python*.  For example, this cell does the same thing as the above cell, except everything has a different name:"
   ]
  },
  {
   "cell_type": "code",
   "execution_count": null,
   "metadata": {},
   "outputs": [],
   "source": [
    "a = 841.25\n",
    "b = 2 * a\n",
    "c = 12\n",
    "d = c * b\n",
    "d"
   ]
  },
  {
   "cell_type": "markdown",
   "metadata": {},
   "source": [
    "**However**, names are very important for making your code *readable* to yourself and others.  The cell above is shorter, but it's totally useless without an explanation of what it does."
   ]
  },
  {
   "cell_type": "markdown",
   "metadata": {},
   "source": [
    "### 2.3. Application: a physics experiment\n",
    "\n",
    "On the Apollo 15 mission to the Moon, astronaut David Scott famously replicated Galileo's physics experiment in which he showed that gravity accelerates objects of different mass at the same rate. Because there is no air resistance for a falling object on the surface of the Moon, even two objects with very different masses and densities should fall at the same rate. David Scott compared a feather and a hammer.\n",
    "\n",
    "You can run the following cell to watch a video of the experiment."
   ]
  },
  {
   "cell_type": "code",
   "execution_count": null,
   "metadata": {},
   "outputs": [],
   "source": [
    "from IPython.display import YouTubeVideo\n",
    "# The original URL is: \n",
    "# https://www.youtube.com/watch?v=U7db6ZeLR5s\n",
    "\n",
    "YouTubeVideo(\"U7db6ZeLR5s\")"
   ]
  },
  {
   "cell_type": "markdown",
   "metadata": {},
   "source": [
    "Here's the transcript of the video:\n",
    "\n",
    "**167:22:06 Scott**: Well, in my left hand, I have a feather; in my right hand, a hammer. And I guess one of the reasons we got here today was because of a gentleman named Galileo, a long time ago, who made a rather significant discovery about falling objects in gravity fields. And we thought where would be a better place to confirm his findings than on the Moon. And so we thought we'd try it here for you. The feather happens to be, appropriately, a falcon feather for our Falcon. And I'll drop the two of them here and, hopefully, they'll hit the ground at the same time. \n",
    "\n",
    "**167:22:43 Scott**: How about that!\n",
    "\n",
    "**167:22:45 Allen**: How about that! (Applause in Houston)\n",
    "\n",
    "**167:22:46 Scott**: Which proves that Mr. Galileo was correct in his findings."
   ]
  },
  {
   "cell_type": "markdown",
   "metadata": {},
   "source": [
    "**Newton's Law.** Using this footage, we can also attempt to confirm another famous bit of physics: Newton's law of universal gravitation. Newton's laws predict that any object dropped near the surface of the Moon should fall\n",
    "\n",
    "$$\\frac{1}{2} G \\frac{M}{R^2} t^2 \\text{ meters}$$\n",
    "\n",
    "after $t$ seconds, where $G$ is a universal constant, $M$ is the moon's mass in kilograms, and $R$ is the moon's radius in meters.  So if we know $G$, $M$, and $R$, then Newton's laws let us predict how far an object will fall over any amount of time.\n",
    "\n",
    "To verify the accuracy of this law, we will calculate the difference between the predicted distance the hammer drops and the actual distance.  (If they are different, it might be because Newton's laws are wrong, or because our measurements are imprecise, or because there are other factors affecting the hammer for which we haven't accounted.)\n",
    "\n",
    "Someone studied the video and estimated that the hammer was dropped 113 cm from the surface. Counting frames in the video, the hammer falls for 1.2 seconds (36 frames)."
   ]
  },
  {
   "cell_type": "markdown",
   "metadata": {},
   "source": [
    "**Question 2.3.1.** Complete the code in the next cell to fill in the data from the experiment.\n",
    "\n",
    "*Hint:* No computation required; just fill in data from the paragraph above.\n",
    "\n",
    "<!--\n",
    "BEGIN QUESTION\n",
    "name: q2_3_1\n",
    "-->"
   ]
  },
  {
   "cell_type": "code",
   "execution_count": null,
   "metadata": {},
   "outputs": [],
   "source": [
    "# time t, the duration of the fall in the experiment, in seconds.\n",
    "# Replace the ellipsis (\"...\") in the line below with your \n",
    "# estimate of the duration of the fall\n",
    "\n",
    "time = 1.2\n",
    "\n",
    "# The estimated distance the hammer actually fell, in meters.\n",
    "\n",
    "# Replace the ellipsis (\"...\") in the line below with your \n",
    "# estimate of the length of the fall\n",
    "\n",
    "estimated_distance_m = 1.13"
   ]
  },
  {
   "cell_type": "code",
   "execution_count": null,
   "metadata": {},
   "outputs": [],
   "source": [
    "ok.grade(\"q2_3_1\");"
   ]
  },
  {
   "cell_type": "markdown",
   "metadata": {},
   "source": [
    "**Question 2.3.2.** Now, complete the code in the next cell to compute the difference between the predicted and estimated distances (in meters) that the hammer fell in this experiment.\n",
    "\n",
    "This just means translating the formula above ($\\frac{1}{2}G\\frac{M}{R^2}t^2$) into Python code.  You'll have to replace each variable in the math formula with the name we gave that number in Python code.\n",
    "\n",
    "*Hint:* Try to use variables you've already defined in question 4.1.1\n",
    "\n",
    "<!--\n",
    "BEGIN QUESTION\n",
    "name: q2_3_2\n",
    "-->"
   ]
  },
  {
   "cell_type": "code",
   "execution_count": null,
   "metadata": {},
   "outputs": [],
   "source": [
    "# First, we've written down the values of the 3 universal constants \n",
    "# that show up in Newton's formula.\n",
    "\n",
    "# G, the universal constant measuring the strength of gravity.\n",
    "gravity_constant = 6.674 * 10**-11\n",
    "\n",
    "# M, the moon's mass, in kilograms.\n",
    "moon_mass_kg = 7.34767309 * 10**22\n",
    "\n",
    "# R, the radius of the moon, in meters.\n",
    "moon_radius_m = 1.737 * 10**6\n",
    "\n",
    "# The distance the hammer should have fallen \n",
    "# over the duration of the fall, in meters, \n",
    "# according to Newton's law of gravity.  \n",
    "# The text above describes the formula\n",
    "# for this distance given by Newton's law.\n",
    "\n",
    "# **YOU FILL THIS PART IN.**\n",
    "predicted_distance_m = 0.5 * gravity_constant * moon_mass_kg/(moon_radius_m**2)*time**2\n",
    "\n",
    "# Here we've computed the difference \n",
    "# between the predicted fall distance and the distance we actually measured.\n",
    "# If you've filled in the above code, this should just work.\n",
    "difference = predicted_distance_m - estimated_distance_m\n",
    "difference"
   ]
  },
  {
   "cell_type": "code",
   "execution_count": null,
   "metadata": {},
   "outputs": [],
   "source": [
    "ok.grade(\"q2_3_2\");"
   ]
  },
  {
   "cell_type": "markdown",
   "metadata": {},
   "source": [
    "### 2.4. Lists\n",
    "Lists and their siblings, numpy arrays, ordered collections of objects. They allow us to store and access groups of variables and other objects for easy access and analysis. If you want an in-depth look at the capabilities of lists, take a look at <<https://www.tutorialspoint.com/python/python_lists.htm>>\n",
    "\n",
    "To initialize a list, you use brackets. Putting objects separated by commas in between the brackets will add them to the list. For example, we can create and name an empty list:"
   ]
  },
  {
   "cell_type": "code",
   "execution_count": null,
   "metadata": {},
   "outputs": [],
   "source": [
    "list_example = []\n",
    "print(list_example)"
   ]
  },
  {
   "cell_type": "markdown",
   "metadata": {},
   "source": [
    "We can add an object to the end of a list:"
   ]
  },
  {
   "cell_type": "code",
   "execution_count": null,
   "metadata": {},
   "outputs": [],
   "source": [
    "list_example = list_example + [5]\n",
    "print(list_example)"
   ]
  },
  {
   "cell_type": "markdown",
   "metadata": {},
   "source": [
    "And we can join (\"concatenate\") two lists together:"
   ]
  },
  {
   "cell_type": "code",
   "execution_count": null,
   "metadata": {},
   "outputs": [],
   "source": [
    "list_example_two = list_example + [1, 3, 6, 'lists', 'are', 'fun', 4]\n",
    "print(list_example_two)"
   ]
  },
  {
   "cell_type": "markdown",
   "metadata": {},
   "source": [
    "To access not the list as a whole but an individual value in the list, simply count from the start of the list, and put the place of the object you want to access in brackets after the name of the list. But you have to start counting from not one but zero. Thus the initial object of a list has index 0, the second object of a list has index 1, and in the list above the eighth object has index 7:"
   ]
  },
  {
   "cell_type": "code",
   "execution_count": null,
   "metadata": {},
   "outputs": [],
   "source": [
    "selected_example = list_example_two[7]\n",
    "print(selected_example)"
   ]
  },
  {
   "cell_type": "markdown",
   "metadata": {},
   "source": [
    "Lists do not have to be made up of elements of the same kind. Indices do not have to be taken one at a time, either. Instead, we can take a slice of indices and return the elements at those indices as a separate list. Suppose we just want to select out items 4 through 6 from a list. We can do so:"
   ]
  },
  {
   "cell_type": "code",
   "execution_count": null,
   "metadata": {},
   "outputs": [],
   "source": [
    "selected_list = list_example_two[4:7]\n",
    "print(selected_list)"
   ]
  },
  {
   "cell_type": "markdown",
   "metadata": {},
   "source": [
    "We can select out the largest and smallest items of a list via `min` and `max`:"
   ]
  },
  {
   "cell_type": "code",
   "execution_count": null,
   "metadata": {},
   "outputs": [],
   "source": [
    "# A list containing six integers.\n",
    "a_list = [1, 6, 4, 8, 13, 2]\n",
    "\n",
    "# Another list containing six integers.\n",
    "b_list = [4, 5, 2, 14, 9, 11]\n",
    "\n",
    "print('Max of a_list:', max(a_list))\n",
    "print('Min of b_list:', min(a_list))"
   ]
  },
  {
   "cell_type": "markdown",
   "metadata": {},
   "source": [
    "Numpy arrays are siblings of lists that can be operated on arithmetically with much more versatility than regular lists. Let us start by making an array that consists of the numbers from zero to nine:"
   ]
  },
  {
   "cell_type": "code",
   "execution_count": null,
   "metadata": {},
   "outputs": [],
   "source": [
    "example_array = np.array([0, 1, 2, 3, 4, 5, 6, 7, 8, 9])\n",
    "print(example_array)"
   ]
  },
  {
   "cell_type": "markdown",
   "metadata": {},
   "source": [
    "This could have been accomplished more quickly:"
   ]
  },
  {
   "cell_type": "code",
   "execution_count": null,
   "metadata": {},
   "outputs": [],
   "source": [
    "example_array_2 = np.arange(10)\n",
    "print('Undoubled Array: ', example_array_2)"
   ]
  },
  {
   "cell_type": "markdown",
   "metadata": {},
   "source": [
    "Multiplying a list and an array by a number produce different results:"
   ]
  },
  {
   "cell_type": "code",
   "execution_count": null,
   "metadata": {},
   "outputs": [],
   "source": [
    "print('Multiplying a list by 2: ', 2 * b_list)\n",
    "print('Multiplying an array by 2: ',2 * example_array_2)"
   ]
  },
  {
   "cell_type": "markdown",
   "metadata": {},
   "source": [
    "### 2.5. Comment your code!\n",
    "You may have noticed these lines in the cell in which you answered Question 4.1:\n",
    "\n",
    "    # Change the next line \n",
    "    # so that it computes the number of seconds in a decade \n",
    "    # and assigns that number the name, seconds_in_a_decade.\n",
    "    \n",
    "This is called a *comment*. It doesn't make anything happen in Python; Python ignores anything on a line after a `#`.  Instead, it's there to communicate something about the code to you, the human reader. Comments are extremely useful. \n",
    "\n",
    "\n",
    "<img src=\"http://imgs.xkcd.com/comics/future_self.png\" />\n",
    "Source: <<http://imgs.xkcd.com/comics/future_self.png>>"
   ]
  },
  {
   "cell_type": "markdown",
   "metadata": {},
   "source": [
    "## 3. Programming\n",
    "### 3.1. Looping\n",
    "Loops <<https://www.tutorialspoint.com/python/python_loops.htm>> are  useful in manipulating, iterating over, or transforming large lists and arrays. The __for loop__ is useful in that it travels through a list, performing an action at each element. The following code cell moves through every element in example_array, adds it to the previous element in example_array, and copies this sum to a new array."
   ]
  },
  {
   "cell_type": "code",
   "execution_count": null,
   "metadata": {},
   "outputs": [],
   "source": [
    "new_list = []\n",
    "\n",
    "for element in example_array:\n",
    "    new_element = element + 5\n",
    "    new_list.append(new_element)\n",
    "\n",
    "print(new_list)"
   ]
  },
  {
   "cell_type": "markdown",
   "metadata": {},
   "source": [
    "The most important line in the above cell is the \"`for element in...`\" line. This statement sets the structure of our  loop, instructing the machine to stop at every number in `example_array`, perform the indicated operations, and then move on. Once Python has stopped at every element in `example_array`, the loop is completed and the final line, which outputs `new_list`, is executed. \n",
    "\n",
    "Note that we did not have to use \"element\" to refer to whichever index value the loop is currently operating on. We could have called it almost anything. For example:"
   ]
  },
  {
   "cell_type": "code",
   "execution_count": null,
   "metadata": {},
   "outputs": [],
   "source": [
    "newer_list = []\n",
    "\n",
    "for completely_arbitrary_name in example_array:\n",
    "    newer_element = completely_arbitrary_name + 5\n",
    "    newer_list.append(newer_element)\n",
    "    \n",
    "print(newer_list)"
   ]
  },
  {
   "cell_type": "markdown",
   "metadata": {},
   "source": [
    "For loops can also iterate over ranges of numerical values. For example:"
   ]
  },
  {
   "cell_type": "code",
   "execution_count": null,
   "metadata": {},
   "outputs": [],
   "source": [
    "for i in range(len(example_array)):\n",
    "    example_array[i] = example_array[i] + 5\n",
    "\n",
    "print(example_array)"
   ]
  },
  {
   "cell_type": "markdown",
   "metadata": {},
   "source": [
    "The __while loop__ repeatedly performs operations until a condition is no longer satisfied. Consider the example below. When the program enters the while loop, it notices that the maximum value of the while_array is less than 50. Because of this, it adds 1 to the fifth element, as instructed. \n",
    "\n",
    "The program then goes back to the start of the loop. Again, the maximum value is less than 50. This process repeats until the the fifth element, now the maximum value of the array, is equal to 50, at which point the condition is no longer true, and the python interpreter moves on to the \"print\" command:"
   ]
  },
  {
   "cell_type": "code",
   "execution_count": null,
   "metadata": {},
   "outputs": [],
   "source": [
    "while_array = np.arange(10)        # Generate our array of values\n",
    "\n",
    "print('Before:', while_array)\n",
    "\n",
    "while(max(while_array) < 50):      # Set our conditional\n",
    "    while_array[4] += 1            # Add 1 to the fifth element if the conditional is satisfied \n",
    "    \n",
    "print('After:', while_array)"
   ]
  },
  {
   "cell_type": "markdown",
   "metadata": {},
   "source": [
    "### 3.2. Functions\n",
    "\n",
    "The most common way to combine or manipulate values in Python is by calling functions. Python comes with many built-in functions that perform common operations.\n",
    "\n",
    "For example, the `abs` function takes a single number as its argument and returns the absolute value of that number. Run the next two cells and see if you understand the output."
   ]
  },
  {
   "cell_type": "code",
   "execution_count": null,
   "metadata": {},
   "outputs": [],
   "source": [
    "abs(5)"
   ]
  },
  {
   "cell_type": "code",
   "execution_count": null,
   "metadata": {},
   "outputs": [],
   "source": [
    "abs(-5)"
   ]
  },
  {
   "cell_type": "markdown",
   "metadata": {
    "deletable": false
   },
   "source": [
    "**Example: computing walking distances**: Chunhua is on the corner of 7th Avenue and 42nd Street in Midtown Manhattan, and she wants to know far she'd have to walk to get to Gramercy School on the corner of 10th Avenue and 34th Street.\n",
    "\n",
    "She can't cut across blocks diagonally, since there are buildings in the way.  She has to walk along the sidewalks.  Using the map below, she sees she'd have to walk 3 avenues (long blocks) and 8 streets (short blocks).  In terms of the given numbers, she computed 3 as the difference between 7 and 10, *in absolute value*, and 8 similarly.  \n",
    "\n",
    "Chunhua also knows that blocks in Manhattan are all about 80m by 274m (avenues are farther apart than streets).  So in total, she'd have to walk $(80 \\times |42 - 34| + 274 \\times |7 - 10|)$ meters to get to the park.\n",
    "\n",
    "<img src=\"images/map.jpg\" width=\"600\" />"
   ]
  },
  {
   "cell_type": "markdown",
   "metadata": {
    "deletable": false
   },
   "source": [
    "**Question 3.2.1.** Fill in the line `num_avenues_away = ...` in the next cell so that the cell calculates the distance Chunhua must walk and gives it the name `manhattan_distance`.  Everything else has been filled in for you.  **Use the `abs` function.** Also, be sure to run the test cell afterward to test your code.\n",
    "\n",
    "<!--\n",
    "BEGIN QUESTION\n",
    "name: q3_2_1\n",
    "-->"
   ]
  },
  {
   "cell_type": "code",
   "execution_count": null,
   "metadata": {
    "deletable": false
   },
   "outputs": [],
   "source": [
    "# Here's the number of streets away:\n",
    "num_streets_away = abs(42-34)\n",
    "\n",
    "# Compute the number of avenues away in a similar way:\n",
    "num_avenues_away = abs(7-10)\n",
    "\n",
    "street_length_m = 80\n",
    "avenue_length_m = 274\n",
    "\n",
    "# Now we compute the total distance Chunhua must walk.\n",
    "manhattan_distance = street_length_m*num_streets_away + avenue_length_m*num_avenues_away\n",
    "\n",
    "# We've included this line so that you see the distance you've computed \n",
    "# when you run this cell.  \n",
    "# You don't need to change it, but you can if you want.\n",
    "manhattan_distance"
   ]
  },
  {
   "cell_type": "code",
   "execution_count": null,
   "metadata": {
    "deletable": false
   },
   "outputs": [],
   "source": [
    "ok.grade(\"q3_2_1\");"
   ]
  },
  {
   "cell_type": "markdown",
   "metadata": {},
   "source": [
    "**Multiple arguments**: Some functions take multiple arguments, separated by commas. For example, the built-in `max` function returns the maximum argument passed to it."
   ]
  },
  {
   "cell_type": "code",
   "execution_count": null,
   "metadata": {},
   "outputs": [],
   "source": [
    "max(2, -3, 4, -5)"
   ]
  },
  {
   "cell_type": "markdown",
   "metadata": {},
   "source": [
    "### 3.3. Nested expressions\n",
    "Function calls and arithmetic expressions can themselves contain expressions.  You saw an example in the last question:\n",
    "\n",
    "    abs(42-34)\n",
    "\n",
    "has 2 number expressions in a subtraction expression in a function call expression.  And you probably wrote something like `abs(7-10)` to compute `num_avenues_away`.\n",
    "\n",
    "Nested expressions can turn into complicated-looking code. However, the way in which complicated expressions break down is very regular.\n",
    "\n",
    "Suppose we are interested in heights that are very unusual.  We'll say that a height is unusual to the extent that it's far away on the number line from the average human height.  [An estimate](http://press.endocrine.org/doi/full/10.1210/jcem.86.9.7875?ck=nck&) of the average adult human height (averaging, we hope, over all humans on Earth today) is 1.688 meters.\n",
    "\n",
    "So if Kayla is 1.21 meters tall, then her height is $|1.21 - 1.688|$, or $.478$, meters away from the average.  Here's a picture of that:\n",
    "\n",
    "<img src=\"images/numberline_0.png\" width=\"600\" />\n",
    "\n",
    "And here's how we'd write that in one line of Python code:"
   ]
  },
  {
   "cell_type": "code",
   "execution_count": null,
   "metadata": {},
   "outputs": [],
   "source": [
    "abs(1.21 - 1.688)"
   ]
  },
  {
   "cell_type": "markdown",
   "metadata": {},
   "source": [
    "What's going on here?  `abs` takes just one argument, so the stuff inside the parentheses is all part of that *single argument*.  Specifically, the argument is the value of the expression `1.21 - 1.688`.  The value of that expression is `-.478`.  That value is the argument to `abs`.  The absolute value of that is `.478`, so `.478` is the value of the full expression `abs(1.21 - 1.688)`.\n",
    "\n",
    "Picture simplifying the expression in several steps:\n",
    "\n",
    "1. `abs(1.21 - 1.688)`\n",
    "2. `abs(-.478)`\n",
    "3. `.478`\n",
    "\n",
    "In fact, that's basically what Python does to compute the value of the expression."
   ]
  },
  {
   "cell_type": "markdown",
   "metadata": {
    "deletable": false
   },
   "source": [
    "**Question 3.3.1.** Say that Paola's height is 1.76 meters.  In the next cell, use `abs` to compute the absolute value of the difference between Paola's height and the average human height.  Give that value the name `paola_distance_from_average_m`.\n",
    "\n",
    "<img src=\"images/numberline_1.png\" width=\"600\" />\n",
    "\n",
    "<!--\n",
    "BEGIN QUESTION\n",
    "name: q3_3_1\n",
    "-->"
   ]
  },
  {
   "cell_type": "code",
   "execution_count": null,
   "metadata": {
    "deletable": false
   },
   "outputs": [],
   "source": [
    "# Replace the ... with an expression \n",
    "# to compute the absolute value \n",
    "# of the difference between Paola's height (1.76m) and the average human height.\n",
    "paola_distance_from_average_m = abs(1.76-1.688)\n",
    "\n",
    "# Again, we've written this here \n",
    "# so that the distance you compute will get printed \n",
    "# when you run this cell.\n",
    "paola_distance_from_average_m"
   ]
  },
  {
   "cell_type": "code",
   "execution_count": null,
   "metadata": {
    "deletable": false
   },
   "outputs": [],
   "source": [
    "ok.grade(\"q3_3_1\");"
   ]
  },
  {
   "cell_type": "markdown",
   "metadata": {},
   "source": [
    "Now say that we want to compute the more unusual of the two heights.  We'll use the function `max`, which (again) takes two numbers as arguments and returns the larger of the two arguments.  Combining that with the `abs` function, we can compute the larger distance from average among the two heights:"
   ]
  },
  {
   "cell_type": "code",
   "execution_count": null,
   "metadata": {},
   "outputs": [],
   "source": [
    "# Just read and run this cell.\n",
    "\n",
    "kayla_height_m = 1.21\n",
    "paola_height_m = 1.76\n",
    "average_adult_height_m = 1.688\n",
    "\n",
    "# The larger distance from the average human height, among the two heights:\n",
    "larger_distance_m = max(abs(kayla_height_m - average_adult_height_m), abs(paola_height_m - average_adult_height_m))\n",
    "\n",
    "# Print out our results in a nice readable format:\n",
    "print(\"The larger distance from the average height among these two people is\", larger_distance_m, \"meters.\")"
   ]
  },
  {
   "cell_type": "markdown",
   "metadata": {},
   "source": [
    "The line where `larger_distance_m` is computed looks complicated, but we can break it down into simpler components just like we did before.\n",
    "\n",
    "The basic recipe is to repeatedly simplify small parts of the expression:\n",
    "\n",
    "* **Basic expressions:** Start with expressions whose values we know, like names or numbers.\n",
    "    - Examples: `paola_height_m` or `5`.\n",
    "* **Find the next simplest group of expressions:** Look for basic expressions that are directly connected to each other. This can be by arithmetic or as arguments to a function call. \n",
    "    - Example: `kayla_height_m - average_adult_height_m`.\n",
    "* **Evaluate that group:** Evaluate the arithmetic expression or function call. Use the value computed to replace the group of expressions.  \n",
    "    - Example: `kayla_height_m - average_adult_height_m` becomes `-.478`.\n",
    "* **Repeat:** Continue this process, using the value of the previously-evaluated expression as a new basic expression. Stop when we've evaluated the entire expression.\n",
    "    - Example: `abs(-.478)` becomes `.478`, and `max(.478, .072)` becomes `.478`.\n",
    "\n",
    "You can run the next cell to see a slideshow of that process."
   ]
  },
  {
   "cell_type": "code",
   "execution_count": null,
   "metadata": {},
   "outputs": [],
   "source": [
    "from IPython.display import IFrame\n",
    "IFrame('https://docs.google.com/presentation/d/e/2PACX-1vTiIUOa9tP4pHPesrI8p2TCp8WCOJtTb3usOacQFPfkEfvQMmX-JYEW3OnBoTmQEJWAHdBP6Mvp053G/embed?start=false&loop=false&delayms=3000', 800, 600)"
   ]
  },
  {
   "cell_type": "markdown",
   "metadata": {
    "deletable": false
   },
   "source": [
    "Ok, your turn: \n",
    "\n",
    "**Question 3.3.2.** Given the heights of players from the Golden State Warriors, write an expression that computes the smallest difference between any of the three heights. Your expression shouldn't have any numbers in it, only function calls and the names `klay`, `steph`, and `dangelo`. Give the value of your expression the name `min_height_difference`.\n",
    "\n",
    "<!--\n",
    "BEGIN QUESTION\n",
    "name: q3_3_2\n",
    "-->"
   ]
  },
  {
   "cell_type": "code",
   "execution_count": null,
   "metadata": {
    "deletable": false
   },
   "outputs": [],
   "source": [
    "# The three players' heights, in meters:\n",
    "klay =  2.01 # Klay Thompson is 6'7\"\n",
    "steph = 1.91 # Steph Curry is 6'3\"\n",
    "dangelo = 1.95 # D'Angelo Russell is 6'5\"\n",
    "             \n",
    "# We'd like to look at all 3 pairs of heights, \n",
    "# compute the absolute difference between each pair, \n",
    "# and then find the smallest of those 3 absolute differences.  \n",
    "# This is left to you!  \n",
    "# If you're stuck, try computing the value for each step of the process \n",
    "# (like the difference between Klay's heigh and Steph's height) \n",
    "# on a separate line and giving it a name (like klay_steph_height_diff)6\n",
    "min_height_difference = min(abs(klay-steph),abs(klay-dangelo),abs(steph-dangelo))\n",
    "min_height_difference"
   ]
  },
  {
   "cell_type": "code",
   "execution_count": null,
   "metadata": {
    "deletable": false
   },
   "outputs": [],
   "source": [
    "ok.grade(\"q3_3_2\");"
   ]
  },
  {
   "cell_type": "markdown",
   "metadata": {},
   "source": [
    "## 4. Data Manipulation\n",
    "### 4.1. Pandas datafames\n",
    "Pandas is one of the most widely used Python libraries in data science. It is commonly used for data cleaning, and with good reason: it’s very powerful and flexible. Think of it as a table. The rows and columns of a pandas dataframe thought of as a table are a collection of lists stacked on top/next to each other. For example, here is a dataframe made up of ten lists, with each list consisting of a rating and a movie title:"
   ]
  },
  {
   "cell_type": "code",
   "execution_count": null,
   "metadata": {},
   "outputs": [],
   "source": [
    "import numpy as np\n",
    "import pandas as pd\n",
    "\n",
    "top_10_movies_list = [\n",
    "    [9.2, 'The Shawshank Redemption', '1994'],\n",
    "    [9.2, 'The Godfather', '1972'],\n",
    "    [9.0, 'The Godfather: Part II', '1974'],\n",
    "    [8.9, 'Pulp Fiction', '1994'],\n",
    "    [8.9, \"Schindler's List\", '1993'],\n",
    "    [8.9, 'The Lord of the Rings: The Return of the King', '2003'],\n",
    "    [8.9, '12 Angry Men', '1957'],\n",
    "    [8.9, 'The Dark Knight', '2008'],\n",
    "    [8.9, 'Il buono, il brutto, il cattivo', '1966'],\n",
    "    [8.8, 'The Lord of the Rings: The Fellowship of the Ring', '2001']]\n",
    "\n",
    "top_10_movies_df = pd.DataFrame(data=np.array(top_10_movies_list), columns=[\"Rating\", \"Movie\", \"Year\"])\n",
    "                                \n",
    "top_10_movies_df"
   ]
  },
  {
   "cell_type": "markdown",
   "metadata": {},
   "source": [
    "### 4.2 Reading in dataframes\n",
    "\n",
    "Luckily for you, most datatables in this course will be premade and given to you in a form that is easily read into a pandas method, which creates the table for you. A common file type that is used for economic data is a Comma-Separated Values (.csv) file, which stores tabular data. It is not necessary for you to know exactly how .csv files store data, but you should know how to read a file in as a pandas dataframe. You can use the \"read_csv\" method from pandas, which takes in one parameter which is the path to the csv file you are reading in."
   ]
  },
  {
   "cell_type": "markdown",
   "metadata": {},
   "source": [
    "We will read in a .csv file that contains quarterly real GDI, real GDP, and nominal GDP data in the U.S. from 1947 to the present."
   ]
  },
  {
   "cell_type": "code",
   "execution_count": null,
   "metadata": {},
   "outputs": [],
   "source": [
    "# Run this cell to read in the table\n",
    "accounts = pd.read_csv(\"data/Quarterly_Accounts.csv\")"
   ]
  },
  {
   "cell_type": "markdown",
   "metadata": {},
   "source": [
    "The `pd.read_csv` function expects a path to a .csv file as its input, and will return a data table created from the data contained in the csv.\n",
    "We have provided `Quarterly_Accouunts.csv` in the data directory, which is all contained in the current working directory (aka the folder this assignment is contained in). For this reason, we must specify to the `read_csv` function that it should look for the csv in the data directory, and the `/` indicates that `Quarterly_Accounts.csv` can be found there. \n",
    "\n",
    "Here is a sample of some of the rows in this datatable:"
   ]
  },
  {
   "cell_type": "code",
   "execution_count": null,
   "metadata": {},
   "outputs": [],
   "source": [
    "accounts.head()"
   ]
  },
  {
   "cell_type": "markdown",
   "metadata": {},
   "source": [
    "### 4.3 Indexing dataframes\n",
    "\n",
    "Oftentimes, tables will contain a lot of extraneous data that muddles our data tables, making it more difficult to quickly and accurately obtain the data we need. To correct for this, we can select out columns or rows that we need by indexing our dataframes. "
   ]
  },
  {
   "cell_type": "markdown",
   "metadata": {},
   "source": [
    "The easiest way to index into a table is with square bracket notation. Suppose you wanted to obtain all of the Real GDP data from the data. Using a single pair of square brackets, you could index the table for `\"Real GDP\"`"
   ]
  },
  {
   "cell_type": "code",
   "execution_count": null,
   "metadata": {},
   "outputs": [],
   "source": [
    "# Run this cell and see what it outputs\n",
    "accounts[\"Real GDP\"]"
   ]
  },
  {
   "cell_type": "markdown",
   "metadata": {},
   "source": [
    "Notice how the above cell returns an array of all the real GDP values in their original order.\n",
    "Now, if you wanted to get the first real GDP value from this array, you could index it with another pair of square brackets:"
   ]
  },
  {
   "cell_type": "code",
   "execution_count": null,
   "metadata": {},
   "outputs": [],
   "source": [
    "accounts[\"Real GDP\"][0]"
   ]
  },
  {
   "cell_type": "markdown",
   "metadata": {},
   "source": [
    "Pandas columns have many of the same properties as numpy arrays. Keep in mind that pandas dataframes, as well as many other data structures, are zero-indexed, meaning indexes start at 0 and end at the number of elements minus one. "
   ]
  },
  {
   "cell_type": "markdown",
   "metadata": {},
   "source": [
    "If you wanted to create a new datatable with select columns from the original table, you can index with double brackets."
   ]
  },
  {
   "cell_type": "code",
   "execution_count": null,
   "metadata": {},
   "outputs": [],
   "source": [
    "## Note: .head() returns the first five rows of the table\n",
    "accounts[[\"Year\", \"Quarter\", \"Real GDP\", \"Real GDI\"]].head()"
   ]
  },
  {
   "cell_type": "markdown",
   "metadata": {},
   "source": [
    "Alternatively, you can also get rid of columns you dont need using `.drop()`"
   ]
  },
  {
   "cell_type": "code",
   "execution_count": null,
   "metadata": {},
   "outputs": [],
   "source": [
    "accounts.drop(\"Nominal GDP\", axis=1).head()"
   ]
  },
  {
   "cell_type": "markdown",
   "metadata": {},
   "source": [
    "Finally, you can use square bracket notation to index rows by their indices with a single set of brackets. You must specify a range of values for which you want to index. For example, if I wanted the 20th to 30th rows of `accounts`:"
   ]
  },
  {
   "cell_type": "code",
   "execution_count": null,
   "metadata": {},
   "outputs": [],
   "source": [
    "accounts[20:31]"
   ]
  },
  {
   "cell_type": "markdown",
   "metadata": {},
   "source": [
    "### 4.4. Filtering data\n",
    "\n",
    "As you can tell from the previous, indexing rows based on indices is only useful when you know the specific set of rows that you need, and you can only really get a range of entries. Working with data often involves huge datasets, making it inefficient and sometimes impossible to know exactly what indices to be looking at. On top of that, most data analysis concerns itself with looking for patterns or specific conditions in the data, which is impossible to look for with simple index based sorting.   "
   ]
  },
  {
   "cell_type": "markdown",
   "metadata": {},
   "source": [
    "Thankfully, you can also use square bracket notation to filter out data based on a condition. Suppose we only wanted real GDP and nominal GDP data from the 21st century:"
   ]
  },
  {
   "cell_type": "code",
   "execution_count": null,
   "metadata": {},
   "outputs": [],
   "source": [
    "accounts[accounts[\"Year\"] >= 2000][[\"Real GDP\", \"Nominal GDP\"]]"
   ]
  },
  {
   "cell_type": "markdown",
   "metadata": {},
   "source": [
    "The `accounts` table is being indexed by the condition `accounts[\"Year\"] >= 2000`, which returns a table where only rows that have a \"Year\" greater than $2000$ is returned. We then index this table with the double bracket notation from the previous section to only get the real GDP and nominal GDP columns."
   ]
  },
  {
   "cell_type": "markdown",
   "metadata": {},
   "source": [
    "Suppose now we wanted a table with data from the first quarter, and where the real GDP was less than 5000 or nominal GDP is greater than 15,000."
   ]
  },
  {
   "cell_type": "code",
   "execution_count": null,
   "metadata": {},
   "outputs": [],
   "source": [
    "accounts[(accounts[\"Quarter\"] == \"Q1\") & ((accounts[\"Real GDP\"] < 5000) | (accounts[\"Nominal GDP\"] > 15000))]"
   ]
  },
  {
   "cell_type": "markdown",
   "metadata": {},
   "source": [
    "Many different conditions can be included to filter, and you can use `&` and `|` operators to connect them together. Make sure to include parantheses for each condition!"
   ]
  },
  {
   "cell_type": "markdown",
   "metadata": {},
   "source": [
    "Another way to reorganize data to make it more convenient is to sort the data by the values in a specific column. For example, if we wanted to find the highest real GDP since 1947, we could sort the table for real GDP:"
   ]
  },
  {
   "cell_type": "code",
   "execution_count": null,
   "metadata": {},
   "outputs": [],
   "source": [
    "accounts.sort_values(\"Real GDP\")"
   ]
  },
  {
   "cell_type": "markdown",
   "metadata": {},
   "source": [
    "But wait! The table looks like it's sorted in increasing order. This is because `sort_values` defaults to ordering the column in ascending order. To correct this, add in the extra optional parameter"
   ]
  },
  {
   "cell_type": "code",
   "execution_count": null,
   "metadata": {},
   "outputs": [],
   "source": [
    "accounts.sort_values(\"Real GDP\", ascending=False)"
   ]
  },
  {
   "cell_type": "markdown",
   "metadata": {},
   "source": [
    "Now we can clearly see that the highest real GDP was attained in the first quarter of this year, and had a value of 16903.2"
   ]
  },
  {
   "cell_type": "markdown",
   "metadata": {},
   "source": [
    "### 4.5 Useful methods for numeric data\n",
    "\n",
    "Here are a few useful functions when dealing with numeric data columns.\n",
    "To find the minimum value in a column, call `min()` on a column of the table:"
   ]
  },
  {
   "cell_type": "code",
   "execution_count": null,
   "metadata": {},
   "outputs": [],
   "source": [
    "accounts[\"Real GDP\"].min()"
   ]
  },
  {
   "cell_type": "markdown",
   "metadata": {},
   "source": [
    "To find the maximum value, call `max()`."
   ]
  },
  {
   "cell_type": "code",
   "execution_count": null,
   "metadata": {},
   "outputs": [],
   "source": [
    "accounts[\"Nominal GDP\"].max()"
   ]
  },
  {
   "cell_type": "markdown",
   "metadata": {},
   "source": [
    "And to find the average value of a column, use `mean()`."
   ]
  },
  {
   "cell_type": "code",
   "execution_count": null,
   "metadata": {},
   "outputs": [],
   "source": [
    "accounts[\"Real GDI\"].mean()"
   ]
  },
  {
   "cell_type": "markdown",
   "metadata": {},
   "source": [
    "### 4.6. Keeping track of your information\n",
    "\n",
    "Data comes from all kinds of places. It is important to be systematic about where your data comes from—lest you do all your work, come up with quantitative answers, and then realize you have not the foggiest clue about what the ultimate source of data is and how reliable it is.\n",
    "\n",
    "I find it useful to keep the data in a dataframe, to mark that it is a dataframe by making sure that its name ends with a \"\\_df\", and to keep the source information in another object with the same name but ending with a \"\\_dict\", for \"dictionary\"—a more flexible pandas object.\n",
    "\n",
    "Watch how I constructed the data for the next section, \"5. Visualization\", of this notebook:"
   ]
  },
  {
   "cell_type": "markdown",
   "metadata": {},
   "source": [
    "In the spring of 2020 with the coming of coronavirus the share of Americans who had jobs collapsed. In order to gain some perspective, I wanted to look back at how the share of Americans who had jobs had changed over time, and how it typically varies. The United States's Department of Labor's Bureau of Labor Statistics, every month, sends out interviewers to survey a random sample of Americans about their experiences. In this Current Population Survey one of the questions asked is: \"do you have a job?\" The share of American adults—people 16 and over—who answer \"yes\" is then called the employment-population ratio. This series is available, monthly, back to when the BLS started collecting the CPS in 1948.\n",
    "\n",
    "Let us take a look at how the employment-population ratio has fluctuated over the past seventy-odd years.\n",
    "\n",
    "The Federal Reserve Bank of St. Louis has an internet-accessible databank called FRED, for Federal Reserve Economic Data. I downloaded the employment-population ratio from FRED as a single .csv—\".csv\" meaning that the data consists of values, separated by commas, and parked it on the internet."
   ]
  },
  {
   "cell_type": "markdown",
   "metadata": {},
   "source": [
    "The first thing to do is to go out to the internet, get the .csv file, and load it into a pandas dataframe, using the `pd.read_csv` command pandas has for this specific purpose:"
   ]
  },
  {
   "cell_type": "code",
   "execution_count": null,
   "metadata": {},
   "outputs": [],
   "source": [
    "# read the employment-population ratio data in from the internet\n",
    "# into a dataframe:\n",
    "\n",
    "employment_population_df = pd.read_csv(\n",
    "    'https://delong.typepad.com/files/employment-to-population2.csv'\n",
    "    )"
   ]
  },
  {
   "cell_type": "markdown",
   "metadata": {},
   "source": [
    "And then look at what the data looks like—just the first few lines of the dataframe, the `.head()` of the file, will be enough:"
   ]
  },
  {
   "cell_type": "code",
   "execution_count": null,
   "metadata": {},
   "outputs": [],
   "source": [
    "employment_population_df.head()"
   ]
  },
  {
   "cell_type": "markdown",
   "metadata": {},
   "source": [
    "The second thing to do is to tell the python interpreter that we are going to want to use the `Date` column to organize the dataframe: that the data are naturally arranged by date, and we want to utilize that natural arrangement:"
   ]
  },
  {
   "cell_type": "code",
   "execution_count": null,
   "metadata": {},
   "outputs": [],
   "source": [
    "# set the date column to be the index of the dataframe:\n",
    "\n",
    "employment_population_df.set_index('Date', inplace=True)"
   ]
  },
  {
   "cell_type": "markdown",
   "metadata": {},
   "source": [
    "We see that the dataframe has both date and employment-population ratio information in it stored in its columns 1 and 2, and also source information stored in its columns 3 and 4. We would like to move that information to a more convenient place so that it does not mess up presentation of the data. Therefore, third, we tell the python interpreter that we want to create our related `.dict` object, which starts out empty. We then loop over the first seven lines of the file—where the source information is—to transfer that information into the dict like so:"
   ]
  },
  {
   "cell_type": "code",
   "execution_count": null,
   "metadata": {},
   "outputs": [],
   "source": [
    "# as downloaded, the employment_population_df dataframe includes\n",
    "# source and other such information in the first seven lines of \n",
    "# the dataframe. we would like to move that information to a more\n",
    "# convenient place so that it does not mess up presentation of \n",
    "# the data\n",
    "\n",
    "# therefore we create a related \"dict\" object, which starts out \n",
    "# empty:\n",
    "\n",
    "employment_population_dict = {}\n",
    "\n",
    "# and we load the source and related information into the dict\n",
    "# object:\n",
    "\n",
    "for i in range(7):\n",
    "    employment_population_dict[employment_population_df['Key'][i]] = employment_population_df['Value'][i]"
   ]
  },
  {
   "cell_type": "markdown",
   "metadata": {},
   "source": [
    "Now we can drop the source information from the dataframe without losting any information:"
   ]
  },
  {
   "cell_type": "code",
   "execution_count": null,
   "metadata": {},
   "outputs": [],
   "source": [
    "# then we drop the source information from the dataframe:\n",
    "\n",
    "employment_population_df.drop(['Key'], axis = 1, inplace=True)\n",
    "employment_population_df.drop(['Value'], axis = 1, inplace=True)"
   ]
  },
  {
   "cell_type": "markdown",
   "metadata": {},
   "source": [
    "We now have both `employment_population_df` and `employment_population_dict` around. Anyone looking at this notebook in the future should be able to infer that the first is a dataframe, and the second is related information. But just to be sure let's add the dataframe to the dictionary, so that anyone asking the dictionary if it has associated data in it will get the answer \"yes\". Thus, last, we do this:"
   ]
  },
  {
   "cell_type": "code",
   "execution_count": null,
   "metadata": {},
   "outputs": [],
   "source": [
    "# last, we add the dataframe as another element of the \"dict\"\n",
    "# object so that it is kept close and related to its source\n",
    "# information. If we ever want to see information about the\n",
    "# source, simply replace the \"df\" at the end of the dataframe's\n",
    "# name with a \"dict\", and then look in that object to see what\n",
    "# is there:\n",
    "\n",
    "employment_population_dict['Data'] = employment_population_df"
   ]
  },
  {
   "cell_type": "markdown",
   "metadata": {},
   "source": [
    "Now somebody who asks python if there is data associated with `employment_population_dict` by typing in `employment_population_dict['Data']` will get a helpful result:"
   ]
  },
  {
   "cell_type": "code",
   "execution_count": null,
   "metadata": {},
   "outputs": [],
   "source": [
    "employment_population_dict['Data']"
   ]
  },
  {
   "cell_type": "markdown",
   "metadata": {},
   "source": [
    "There is all the data."
   ]
  },
  {
   "cell_type": "markdown",
   "metadata": {},
   "source": [
    "Why have we jumped through all these hoops? so that somebody coming across this notebook file one or five or ten years from now will not be hopelessly lost in trying to figure out what is supposed to be going on here. if they want more information about just what the data in `employment_population_df` is, the fact that there is also an object called `employment_population_dict` will make it a very obvious place to look...\n",
    "\n",
    "The FRED databank <<http://fred.stlouisfed.org>> assumes and makes it easy for you to analyze the data in a spreadsheet program, like Microsoft Excel, a knockoff of Jonathan Sachs's Lotus 1-2-3, which was a considerable upgrade of Bob Frankston's Visicalc, itself a work of genius and a vast improvement over earlier mainframe-based report generators such as ITS's Business Planning Language <<https://en.wikipedia.org/wiki/VisiCalc>>. Why not follow the line of least resistance? Why not do our data analysis and visualization in a spreadsheet?\n",
    "\n",
    "I do not recommend using spreadsheet programs. In fact, I greatly disrecommend using spreadsheet programs.\n",
    "\n",
    "Why?\n",
    "\n",
    "This is why:\n",
    "\n",
    "<img src=\"https://delong.typepad.com/img/borwein-bailey-reinhart-rogoff.png\" width=\"600\" />\n",
    "\n",
    "Do your work in a spreadsheet, and it rapidly becomes impossible to check or understand. A spreadsheet is a uniquely easy framework to work in. A spreadsheet is a uniquely opaque and incomprehensible framework to assess for its correctness.\n",
    "\n",
    "Since we all make errors, frequently, the ability to look back and assess whether one's calculations are correct is absolutely essential. With spreadsheets, such checking is impossible."
   ]
  },
  {
   "cell_type": "markdown",
   "metadata": {},
   "source": [
    "## 5. Visualization <a id='viz'></a>"
   ]
  },
  {
   "cell_type": "markdown",
   "metadata": {},
   "source": [
    "Now that you can read in data and manipulate it, you are now ready to learn about how to visualize data. To begin, run the cell below to import the required libraries we will be using, and to make graphs appear inside the notebook rather than in a separate window:"
   ]
  },
  {
   "cell_type": "code",
   "execution_count": null,
   "metadata": {},
   "outputs": [],
   "source": [
    "%matplotlib inline\n",
    "import numpy as np\n",
    "import pandas as pd\n",
    "import matplotlib.pyplot as plt\n",
    "import matplotlib as mpl"
   ]
  },
  {
   "cell_type": "markdown",
   "metadata": {},
   "source": [
    "### 5.1. It is very easy\n",
    "We jumped through all our hoops to set up our `employment_population_df` dataframe in the last section. To plot a graph of how the employment-population ratio varies over time, all we do is to take the name of the dataframe and add \".plot()\" to the end of it, like so. So here is our graph:"
   ]
  },
  {
   "cell_type": "code",
   "execution_count": null,
   "metadata": {},
   "outputs": [],
   "source": [
    "# having jumped through these hoops, we can now take a look at\n",
    "# what the share of american adults who every month tell the \n",
    "# cps interviewers that they have jobs looks like:\n",
    "\n",
    "employment_population_df.plot()"
   ]
  },
  {
   "cell_type": "markdown",
   "metadata": {},
   "source": [
    "That is it.\n",
    "\n",
    "One of the treat advantages of python and pandas is its built-in plotting methods. We can simply call `.plot()` on a dataframe to plot columns against one another. All that we have to do is specify which column to plot on which axis. Something special that pandas does is attempt to automatically parse dates into something that it can understand and order them sequentially.\n",
    "\n",
    "We probably want to pretty-up the graph a little bit: adding labels, and the \"Ratio\" in the top-right corner does not add anything useful:"
   ]
  },
  {
   "cell_type": "code",
   "execution_count": null,
   "metadata": {},
   "outputs": [],
   "source": [
    "employment_population_df.plot(legend=None)\n",
    "plt.ylabel('Percent of Adults')\n",
    "plt.title('Employment to Population Ratio', size=24)"
   ]
  },
  {
   "cell_type": "markdown",
   "metadata": {},
   "source": [
    "Yes, the collapse of American employment in coronavirus spring is historically unprecedented."
   ]
  },
  {
   "cell_type": "markdown",
   "metadata": {},
   "source": [
    "### 5.2. Slicing the data to look at subsamples\n",
    "If you want to gain a sense of how the employment-population ratio \"usually\" behaves, we can simply look at a narrower timeslice than the full 1948-2020 data:"
   ]
  },
  {
   "cell_type": "code",
   "execution_count": null,
   "metadata": {},
   "outputs": [],
   "source": [
    "# if we just want to look at the data 1990-2005:\n",
    "\n",
    "employment_population_df['1989-12-01':'2005-12-01'].plot(legend=None)\n",
    "plt.ylabel('Percent of Adults')\n",
    "plt.title('Employment to Population Ratio', size=24)"
   ]
  },
  {
   "cell_type": "markdown",
   "metadata": {},
   "source": [
    "We see, clearly, the seasonal cycle—the semi-regular every-twelve-months fluctuations in employment that come with the seasons (of which, somewhat surprisingly, the most important component is the pre-Christmas gift-shopping season); we also see clearly, the irregular roughly seven-year \"business cycle\" fluctuations of boom and bust connected to shifts in businesses' optimism and pessimism about the future."
   ]
  },
  {
   "cell_type": "markdown",
   "metadata": {},
   "source": [
    "### 5.3. The \"great recession\" & the \"secular stagnation recovery\"\n",
    "Before coronavirus spring, I thought the focus of this section would be on the years 2005-2015—the years from the peak of the housing bubble until the Federal Reserve began to try to \"normalize\" interest rates, because keeping interest rates as low as it could in order to try to boost employment to offset the damage done to the economy by the so-called \"Great Recession\" of 2008-2010 was no longer its highest priority:"
   ]
  },
  {
   "cell_type": "code",
   "execution_count": null,
   "metadata": {},
   "outputs": [],
   "source": [
    "# and if we just want to look at the years 2005-2015—\n",
    "# the years from the peak of the housing bubble until\n",
    "# the federal reserve begins to try to \"normalize\" interest \n",
    "# rates because keeping interest rates as low as it \n",
    "# can in order to try to boost employment to offset \n",
    "# the damage done to the economy by the so-called \"great \n",
    "# recession\" is no longer its highest priority:\n",
    "\n",
    "employment_population_df['2004-12-01':'2015-12-01'].plot(legend=None)\n",
    "\n",
    "plt.ylabel('Percent of Adults')\n",
    "plt.title('Employment to Population Ratio', size=24)"
   ]
  },
  {
   "cell_type": "markdown",
   "metadata": {},
   "source": [
    "Note how, after the recession of the early 1990s, employment bounced back to its previous level—how the recession and recovery then looked like a \"V\". No such luck over 2005-2015: the recession and recovery looked, instead, like an \"L\"."
   ]
  },
  {
   "cell_type": "markdown",
   "metadata": {},
   "source": [
    "### 5.4. Coronavirus spring:\n",
    "But right now our focus is clearly on the exceptionalism of the coronavirus spring:"
   ]
  },
  {
   "cell_type": "code",
   "execution_count": null,
   "metadata": {},
   "outputs": [],
   "source": [
    "# right now our focus is clearly on the exceptionalism \n",
    "# of the coronavirus spring:\n",
    "\n",
    "employment_population_df['2010-12-01':].plot(legend=None)\n",
    "\n",
    "plt.ylabel('Percent of Adults')\n",
    "plt.title('Employment to Population Ratio', size=24)"
   ]
  },
  {
   "cell_type": "markdown",
   "metadata": {},
   "source": [
    "### 5.5. Practice visualizing!\n",
    "Spend some time playing with and analyzing this employment-population ratio series—this share of American adults who, each month, tell the CPS interviewers that they have jobs. See if you can identify all of these salient features of the series:\n",
    "\n",
    "1. the seasonal cycle—the substantial fluctuations in the share of American adults at work that happen each and every year\n",
    "    * the shrinking of the magnitude of the seasonal cycle: it is a much smaller deal now than it was in the first decade after World War II.\n",
    "2. the business cycle—the large but definitely not regular fluctuations with a roughly seven-year period in the share of American adults with jobs\n",
    "3. the large and rapid downward business-cycle fall in the employment share that is the \"Great Recession\" of 2008-2010\n",
    "    * the remarkably slow bounce-back of the employment share from its Great Recession low\n",
    "4. the thirty-year rise in the employment share with the coming of feminism: women were now not discouraged from taking jobs outside of housecleaners, waitresses, nurses, schoolteachers, and secretaries\n",
    "5. the tendency of the employment share to fall as more people are retired as the population ages and people enter the labor force later as years spent in school increase\n",
    "6. the collapse of the employment share in Coronavirus Spring"
   ]
  },
  {
   "cell_type": "markdown",
   "metadata": {},
   "source": [
    "### 5.6. Accessing source information\n",
    "Remember that we stored information about the source of the data in a `dict` object? We can pull it out and take a look at it whenever we choose:"
   ]
  },
  {
   "cell_type": "code",
   "execution_count": null,
   "metadata": {},
   "outputs": [],
   "source": [
    "# remember that we stored information about the source\n",
    "# of the data in a \"dict\" object? now let's look at that \n",
    "# \"dict\" object for information about the source of the \n",
    "# data series:\n",
    "\n",
    "employment_population_dict"
   ]
  },
  {
   "cell_type": "markdown",
   "metadata": {},
   "source": [
    "The `dict` object thus tells us that:\n",
    "\n",
    "* the source of the data is the Current Population Survey, \n",
    "* the data was last updated on 2020-05-08, \n",
    "* the series is called \"mployment-Population Ratio, NSA\"—that is, it is not seasonally adjusted—\n",
    "* it is a monthly data series, \n",
    "* it is a ratio,\n",
    "* its series ID is LNU02300000, and \n",
    "* it can be found in the \"20th Century Economic History\" data list.\n",
    "\n",
    "If we wanted to access any one of these, we could pull it out of the \"dict\" object directly:"
   ]
  },
  {
   "cell_type": "code",
   "execution_count": null,
   "metadata": {},
   "outputs": [],
   "source": [
    "employment_population_dict['Series ID']"
   ]
  },
  {
   "cell_type": "markdown",
   "metadata": {},
   "source": [
    "## 6. You are done!\n",
    "\n",
    "You're done with Problem set 0!  Be sure to run the tests and verify that they all pass, then choose **Save and Checkpoint** from the **File** menu, then **run the final cell** to submit your work.  If you submit multiple times, your last submission will be counted."
   ]
  },
  {
   "cell_type": "markdown",
   "metadata": {},
   "source": [
    "**Important.** In order to get credit, you need to run the final code cell below to submit your work:"
   ]
  },
  {
   "cell_type": "code",
   "execution_count": null,
   "metadata": {
    "deletable": false
   },
   "outputs": [],
   "source": [
    "# this cell is commented out; \n",
    "\n",
    "# _ = ok.submit()"
   ]
  }
 ],
 "metadata": {
  "anaconda-cloud": {},
  "kernelspec": {
   "display_name": "Python 3",
   "language": "python",
   "name": "python3"
  },
  "language_info": {
   "codemirror_mode": {
    "name": "ipython",
    "version": 3
   },
   "file_extension": ".py",
   "mimetype": "text/x-python",
   "name": "python",
   "nbconvert_exporter": "python",
   "pygments_lexer": "ipython3",
   "version": "3.7.7"
  }
 },
 "nbformat": 4,
 "nbformat_minor": 4
}
